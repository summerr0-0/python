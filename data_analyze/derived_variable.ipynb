{
 "cells": [
  {
   "cell_type": "code",
   "execution_count": 1,
   "id": "initial_id",
   "metadata": {
    "collapsed": true,
    "ExecuteTime": {
     "end_time": "2023-07-31T21:01:20.361677Z",
     "start_time": "2023-07-31T21:01:20.358802Z"
    }
   },
   "outputs": [],
   "source": [
    "#기존의 변수를 변형해서 만드는 파생변수"
   ]
  },
  {
   "cell_type": "code",
   "execution_count": 3,
   "outputs": [
    {
     "data": {
      "text/plain": "   var1  var2\n0     4     2\n1     3     6\n2     8     1",
      "text/html": "<div>\n<style scoped>\n    .dataframe tbody tr th:only-of-type {\n        vertical-align: middle;\n    }\n\n    .dataframe tbody tr th {\n        vertical-align: top;\n    }\n\n    .dataframe thead th {\n        text-align: right;\n    }\n</style>\n<table border=\"1\" class=\"dataframe\">\n  <thead>\n    <tr style=\"text-align: right;\">\n      <th></th>\n      <th>var1</th>\n      <th>var2</th>\n    </tr>\n  </thead>\n  <tbody>\n    <tr>\n      <th>0</th>\n      <td>4</td>\n      <td>2</td>\n    </tr>\n    <tr>\n      <th>1</th>\n      <td>3</td>\n      <td>6</td>\n    </tr>\n    <tr>\n      <th>2</th>\n      <td>8</td>\n      <td>1</td>\n    </tr>\n  </tbody>\n</table>\n</div>"
     },
     "execution_count": 3,
     "metadata": {},
     "output_type": "execute_result"
    }
   ],
   "source": [
    "import pandas as pd\n",
    "\n",
    "df = pd.DataFrame({'var1': [4, 3, 8],\n",
    "                   'var2': [2, 6, 1]})\n",
    "df"
   ],
   "metadata": {
    "collapsed": false,
    "ExecuteTime": {
     "end_time": "2023-07-31T21:01:48.812912Z",
     "start_time": "2023-07-31T21:01:48.444158Z"
    }
   },
   "id": "4482673c960e3df5"
  },
  {
   "cell_type": "code",
   "execution_count": 4,
   "outputs": [
    {
     "data": {
      "text/plain": "   var1  var2  var_sum\n0     4     2        6\n1     3     6        9\n2     8     1        9",
      "text/html": "<div>\n<style scoped>\n    .dataframe tbody tr th:only-of-type {\n        vertical-align: middle;\n    }\n\n    .dataframe tbody tr th {\n        vertical-align: top;\n    }\n\n    .dataframe thead th {\n        text-align: right;\n    }\n</style>\n<table border=\"1\" class=\"dataframe\">\n  <thead>\n    <tr style=\"text-align: right;\">\n      <th></th>\n      <th>var1</th>\n      <th>var2</th>\n      <th>var_sum</th>\n    </tr>\n  </thead>\n  <tbody>\n    <tr>\n      <th>0</th>\n      <td>4</td>\n      <td>2</td>\n      <td>6</td>\n    </tr>\n    <tr>\n      <th>1</th>\n      <td>3</td>\n      <td>6</td>\n      <td>9</td>\n    </tr>\n    <tr>\n      <th>2</th>\n      <td>8</td>\n      <td>1</td>\n      <td>9</td>\n    </tr>\n  </tbody>\n</table>\n</div>"
     },
     "execution_count": 4,
     "metadata": {},
     "output_type": "execute_result"
    }
   ],
   "source": [
    "df['var_sum'] = df['var1'] + df['var2']\n",
    "df"
   ],
   "metadata": {
    "collapsed": false,
    "ExecuteTime": {
     "end_time": "2023-07-31T21:01:59.624061Z",
     "start_time": "2023-07-31T21:01:59.619331Z"
    }
   },
   "id": "86c5e99bc6cff7c6"
  },
  {
   "cell_type": "code",
   "execution_count": 5,
   "outputs": [
    {
     "data": {
      "text/plain": "   var1  var2  var_sum  var_mean\n0     4     2        6       3.0\n1     3     6        9       4.5\n2     8     1        9       4.5",
      "text/html": "<div>\n<style scoped>\n    .dataframe tbody tr th:only-of-type {\n        vertical-align: middle;\n    }\n\n    .dataframe tbody tr th {\n        vertical-align: top;\n    }\n\n    .dataframe thead th {\n        text-align: right;\n    }\n</style>\n<table border=\"1\" class=\"dataframe\">\n  <thead>\n    <tr style=\"text-align: right;\">\n      <th></th>\n      <th>var1</th>\n      <th>var2</th>\n      <th>var_sum</th>\n      <th>var_mean</th>\n    </tr>\n  </thead>\n  <tbody>\n    <tr>\n      <th>0</th>\n      <td>4</td>\n      <td>2</td>\n      <td>6</td>\n      <td>3.0</td>\n    </tr>\n    <tr>\n      <th>1</th>\n      <td>3</td>\n      <td>6</td>\n      <td>9</td>\n      <td>4.5</td>\n    </tr>\n    <tr>\n      <th>2</th>\n      <td>8</td>\n      <td>1</td>\n      <td>9</td>\n      <td>4.5</td>\n    </tr>\n  </tbody>\n</table>\n</div>"
     },
     "execution_count": 5,
     "metadata": {},
     "output_type": "execute_result"
    }
   ],
   "source": [
    "df['var_mean'] = (df['var1'] + df['var2']) / 2\n",
    "df"
   ],
   "metadata": {
    "collapsed": false,
    "ExecuteTime": {
     "end_time": "2023-07-31T21:02:40.109916Z",
     "start_time": "2023-07-31T21:02:40.105705Z"
    }
   },
   "id": "2d052b9d0d0ee4e"
  },
  {
   "cell_type": "code",
   "execution_count": 6,
   "outputs": [
    {
     "data": {
      "text/plain": "   var1  var2  var_sum  var_mean\n0     4     2        6       3.0\n1     3     6        9       4.5\n2     8     1        9       4.5",
      "text/html": "<div>\n<style scoped>\n    .dataframe tbody tr th:only-of-type {\n        vertical-align: middle;\n    }\n\n    .dataframe tbody tr th {\n        vertical-align: top;\n    }\n\n    .dataframe thead th {\n        text-align: right;\n    }\n</style>\n<table border=\"1\" class=\"dataframe\">\n  <thead>\n    <tr style=\"text-align: right;\">\n      <th></th>\n      <th>var1</th>\n      <th>var2</th>\n      <th>var_sum</th>\n      <th>var_mean</th>\n    </tr>\n  </thead>\n  <tbody>\n    <tr>\n      <th>0</th>\n      <td>4</td>\n      <td>2</td>\n      <td>6</td>\n      <td>3.0</td>\n    </tr>\n    <tr>\n      <th>1</th>\n      <td>3</td>\n      <td>6</td>\n      <td>9</td>\n      <td>4.5</td>\n    </tr>\n    <tr>\n      <th>2</th>\n      <td>8</td>\n      <td>1</td>\n      <td>9</td>\n      <td>4.5</td>\n    </tr>\n  </tbody>\n</table>\n</div>"
     },
     "execution_count": 6,
     "metadata": {},
     "output_type": "execute_result"
    }
   ],
   "source": [
    "df['var_mean'] = (df['var1'] + df['var2']) / 2\n",
    "df"
   ],
   "metadata": {
    "collapsed": false,
    "ExecuteTime": {
     "end_time": "2023-07-31T21:03:05.779691Z",
     "start_time": "2023-07-31T21:03:05.770422Z"
    }
   },
   "id": "8835839c17967b0e"
  },
  {
   "cell_type": "code",
   "execution_count": 9,
   "outputs": [
    {
     "data": {
      "text/plain": "    manufacturer   model  displ  year  cyl       trans drv  cty  hwy fl  \\\n0           audi      a4    1.8  1999    4    auto(l5)   f   18   29  p   \n1           audi      a4    1.8  1999    4  manual(m5)   f   21   29  p   \n2           audi      a4    2.0  2008    4  manual(m6)   f   20   31  p   \n3           audi      a4    2.0  2008    4    auto(av)   f   21   30  p   \n4           audi      a4    2.8  1999    6    auto(l5)   f   16   26  p   \n..           ...     ...    ...   ...  ...         ...  ..  ...  ... ..   \n229   volkswagen  passat    2.0  2008    4    auto(s6)   f   19   28  p   \n230   volkswagen  passat    2.0  2008    4  manual(m6)   f   21   29  p   \n231   volkswagen  passat    2.8  1999    6    auto(l5)   f   16   26  p   \n232   volkswagen  passat    2.8  1999    6  manual(m5)   f   18   26  p   \n233   volkswagen  passat    3.6  2008    6    auto(s6)   f   17   26  p   \n\n    category  \n0    compact  \n1    compact  \n2    compact  \n3    compact  \n4    compact  \n..       ...  \n229  midsize  \n230  midsize  \n231  midsize  \n232  midsize  \n233  midsize  \n\n[234 rows x 11 columns]",
      "text/html": "<div>\n<style scoped>\n    .dataframe tbody tr th:only-of-type {\n        vertical-align: middle;\n    }\n\n    .dataframe tbody tr th {\n        vertical-align: top;\n    }\n\n    .dataframe thead th {\n        text-align: right;\n    }\n</style>\n<table border=\"1\" class=\"dataframe\">\n  <thead>\n    <tr style=\"text-align: right;\">\n      <th></th>\n      <th>manufacturer</th>\n      <th>model</th>\n      <th>displ</th>\n      <th>year</th>\n      <th>cyl</th>\n      <th>trans</th>\n      <th>drv</th>\n      <th>cty</th>\n      <th>hwy</th>\n      <th>fl</th>\n      <th>category</th>\n    </tr>\n  </thead>\n  <tbody>\n    <tr>\n      <th>0</th>\n      <td>audi</td>\n      <td>a4</td>\n      <td>1.8</td>\n      <td>1999</td>\n      <td>4</td>\n      <td>auto(l5)</td>\n      <td>f</td>\n      <td>18</td>\n      <td>29</td>\n      <td>p</td>\n      <td>compact</td>\n    </tr>\n    <tr>\n      <th>1</th>\n      <td>audi</td>\n      <td>a4</td>\n      <td>1.8</td>\n      <td>1999</td>\n      <td>4</td>\n      <td>manual(m5)</td>\n      <td>f</td>\n      <td>21</td>\n      <td>29</td>\n      <td>p</td>\n      <td>compact</td>\n    </tr>\n    <tr>\n      <th>2</th>\n      <td>audi</td>\n      <td>a4</td>\n      <td>2.0</td>\n      <td>2008</td>\n      <td>4</td>\n      <td>manual(m6)</td>\n      <td>f</td>\n      <td>20</td>\n      <td>31</td>\n      <td>p</td>\n      <td>compact</td>\n    </tr>\n    <tr>\n      <th>3</th>\n      <td>audi</td>\n      <td>a4</td>\n      <td>2.0</td>\n      <td>2008</td>\n      <td>4</td>\n      <td>auto(av)</td>\n      <td>f</td>\n      <td>21</td>\n      <td>30</td>\n      <td>p</td>\n      <td>compact</td>\n    </tr>\n    <tr>\n      <th>4</th>\n      <td>audi</td>\n      <td>a4</td>\n      <td>2.8</td>\n      <td>1999</td>\n      <td>6</td>\n      <td>auto(l5)</td>\n      <td>f</td>\n      <td>16</td>\n      <td>26</td>\n      <td>p</td>\n      <td>compact</td>\n    </tr>\n    <tr>\n      <th>...</th>\n      <td>...</td>\n      <td>...</td>\n      <td>...</td>\n      <td>...</td>\n      <td>...</td>\n      <td>...</td>\n      <td>...</td>\n      <td>...</td>\n      <td>...</td>\n      <td>...</td>\n      <td>...</td>\n    </tr>\n    <tr>\n      <th>229</th>\n      <td>volkswagen</td>\n      <td>passat</td>\n      <td>2.0</td>\n      <td>2008</td>\n      <td>4</td>\n      <td>auto(s6)</td>\n      <td>f</td>\n      <td>19</td>\n      <td>28</td>\n      <td>p</td>\n      <td>midsize</td>\n    </tr>\n    <tr>\n      <th>230</th>\n      <td>volkswagen</td>\n      <td>passat</td>\n      <td>2.0</td>\n      <td>2008</td>\n      <td>4</td>\n      <td>manual(m6)</td>\n      <td>f</td>\n      <td>21</td>\n      <td>29</td>\n      <td>p</td>\n      <td>midsize</td>\n    </tr>\n    <tr>\n      <th>231</th>\n      <td>volkswagen</td>\n      <td>passat</td>\n      <td>2.8</td>\n      <td>1999</td>\n      <td>6</td>\n      <td>auto(l5)</td>\n      <td>f</td>\n      <td>16</td>\n      <td>26</td>\n      <td>p</td>\n      <td>midsize</td>\n    </tr>\n    <tr>\n      <th>232</th>\n      <td>volkswagen</td>\n      <td>passat</td>\n      <td>2.8</td>\n      <td>1999</td>\n      <td>6</td>\n      <td>manual(m5)</td>\n      <td>f</td>\n      <td>18</td>\n      <td>26</td>\n      <td>p</td>\n      <td>midsize</td>\n    </tr>\n    <tr>\n      <th>233</th>\n      <td>volkswagen</td>\n      <td>passat</td>\n      <td>3.6</td>\n      <td>2008</td>\n      <td>6</td>\n      <td>auto(s6)</td>\n      <td>f</td>\n      <td>17</td>\n      <td>26</td>\n      <td>p</td>\n      <td>midsize</td>\n    </tr>\n  </tbody>\n</table>\n<p>234 rows × 11 columns</p>\n</div>"
     },
     "execution_count": 9,
     "metadata": {},
     "output_type": "execute_result"
    }
   ],
   "source": [
    "mpg = pd.read_csv('mpg.csv')\n",
    "mpg"
   ],
   "metadata": {
    "collapsed": false,
    "ExecuteTime": {
     "end_time": "2023-07-31T21:04:19.446404Z",
     "start_time": "2023-07-31T21:04:19.432048Z"
    }
   },
   "id": "827be76e8f2f9bf9"
  },
  {
   "cell_type": "code",
   "execution_count": 10,
   "outputs": [
    {
     "data": {
      "text/plain": "  manufacturer model  displ  year  cyl       trans drv  cty  hwy fl category  \\\n0         audi    a4    1.8  1999    4    auto(l5)   f   18   29  p  compact   \n1         audi    a4    1.8  1999    4  manual(m5)   f   21   29  p  compact   \n2         audi    a4    2.0  2008    4  manual(m6)   f   20   31  p  compact   \n3         audi    a4    2.0  2008    4    auto(av)   f   21   30  p  compact   \n4         audi    a4    2.8  1999    6    auto(l5)   f   16   26  p  compact   \n\n   total  \n0   23.5  \n1   25.0  \n2   25.5  \n3   25.5  \n4   21.0  ",
      "text/html": "<div>\n<style scoped>\n    .dataframe tbody tr th:only-of-type {\n        vertical-align: middle;\n    }\n\n    .dataframe tbody tr th {\n        vertical-align: top;\n    }\n\n    .dataframe thead th {\n        text-align: right;\n    }\n</style>\n<table border=\"1\" class=\"dataframe\">\n  <thead>\n    <tr style=\"text-align: right;\">\n      <th></th>\n      <th>manufacturer</th>\n      <th>model</th>\n      <th>displ</th>\n      <th>year</th>\n      <th>cyl</th>\n      <th>trans</th>\n      <th>drv</th>\n      <th>cty</th>\n      <th>hwy</th>\n      <th>fl</th>\n      <th>category</th>\n      <th>total</th>\n    </tr>\n  </thead>\n  <tbody>\n    <tr>\n      <th>0</th>\n      <td>audi</td>\n      <td>a4</td>\n      <td>1.8</td>\n      <td>1999</td>\n      <td>4</td>\n      <td>auto(l5)</td>\n      <td>f</td>\n      <td>18</td>\n      <td>29</td>\n      <td>p</td>\n      <td>compact</td>\n      <td>23.5</td>\n    </tr>\n    <tr>\n      <th>1</th>\n      <td>audi</td>\n      <td>a4</td>\n      <td>1.8</td>\n      <td>1999</td>\n      <td>4</td>\n      <td>manual(m5)</td>\n      <td>f</td>\n      <td>21</td>\n      <td>29</td>\n      <td>p</td>\n      <td>compact</td>\n      <td>25.0</td>\n    </tr>\n    <tr>\n      <th>2</th>\n      <td>audi</td>\n      <td>a4</td>\n      <td>2.0</td>\n      <td>2008</td>\n      <td>4</td>\n      <td>manual(m6)</td>\n      <td>f</td>\n      <td>20</td>\n      <td>31</td>\n      <td>p</td>\n      <td>compact</td>\n      <td>25.5</td>\n    </tr>\n    <tr>\n      <th>3</th>\n      <td>audi</td>\n      <td>a4</td>\n      <td>2.0</td>\n      <td>2008</td>\n      <td>4</td>\n      <td>auto(av)</td>\n      <td>f</td>\n      <td>21</td>\n      <td>30</td>\n      <td>p</td>\n      <td>compact</td>\n      <td>25.5</td>\n    </tr>\n    <tr>\n      <th>4</th>\n      <td>audi</td>\n      <td>a4</td>\n      <td>2.8</td>\n      <td>1999</td>\n      <td>6</td>\n      <td>auto(l5)</td>\n      <td>f</td>\n      <td>16</td>\n      <td>26</td>\n      <td>p</td>\n      <td>compact</td>\n      <td>21.0</td>\n    </tr>\n  </tbody>\n</table>\n</div>"
     },
     "execution_count": 10,
     "metadata": {},
     "output_type": "execute_result"
    }
   ],
   "source": [
    "mpg['total'] = (mpg['cty'] + mpg['hwy']) / 2\n",
    "mpg.head()"
   ],
   "metadata": {
    "collapsed": false,
    "ExecuteTime": {
     "end_time": "2023-07-31T21:04:31.200999Z",
     "start_time": "2023-07-31T21:04:31.197864Z"
    }
   },
   "id": "b6bada788207921d"
  },
  {
   "cell_type": "code",
   "execution_count": 11,
   "outputs": [
    {
     "data": {
      "text/plain": "20.14957264957265"
     },
     "execution_count": 11,
     "metadata": {},
     "output_type": "execute_result"
    }
   ],
   "source": [
    "#평균구하기\n",
    "sum(mpg['total']) / len(mpg)"
   ],
   "metadata": {
    "collapsed": false,
    "ExecuteTime": {
     "end_time": "2023-07-31T21:04:59.508928Z",
     "start_time": "2023-07-31T21:04:59.505612Z"
    }
   },
   "id": "ca6d58a927441a22"
  },
  {
   "cell_type": "code",
   "execution_count": 13,
   "outputs": [
    {
     "data": {
      "text/plain": "20.14957264957265"
     },
     "execution_count": 13,
     "metadata": {},
     "output_type": "execute_result"
    }
   ],
   "source": [
    "#mean으로 평균 구할 수 있 \n",
    "mpg['total'].mean()"
   ],
   "metadata": {
    "collapsed": false,
    "ExecuteTime": {
     "end_time": "2023-07-31T21:05:32.009828Z",
     "start_time": "2023-07-31T21:05:32.004571Z"
    }
   },
   "id": "d65b5ae1189fad18"
  },
  {
   "cell_type": "code",
   "execution_count": 15,
   "outputs": [
    {
     "data": {
      "text/plain": "count    234.000000\nmean      20.149573\nstd        5.050290\nmin       10.500000\n25%       15.500000\n50%       20.500000\n75%       23.500000\nmax       39.500000\nName: total, dtype: float64"
     },
     "execution_count": 15,
     "metadata": {},
     "output_type": "execute_result"
    }
   ],
   "source": [
    "#요약 통계량 출력\n",
    "mpg['total'].describe()"
   ],
   "metadata": {
    "collapsed": false,
    "ExecuteTime": {
     "end_time": "2023-08-02T09:29:14.580554Z",
     "start_time": "2023-08-02T09:29:14.573855Z"
    }
   },
   "id": "9d4e382e83043f41"
  },
  {
   "cell_type": "code",
   "execution_count": 16,
   "outputs": [
    {
     "data": {
      "text/plain": "<Axes: ylabel='Frequency'>"
     },
     "execution_count": 16,
     "metadata": {},
     "output_type": "execute_result"
    },
    {
     "data": {
      "text/plain": "<Figure size 640x480 with 1 Axes>",
      "image/png": "[encoded data removed]"
     },
     "metadata": {},
     "output_type": "display_data"
    }
   ],
   "source": [
    "#히스토그램 만들기\n",
    "mpg['total'].plot.hist()"
   ],
   "metadata": {
    "collapsed": false,
    "ExecuteTime": {
     "end_time": "2023-08-02T09:29:32.911236Z",
     "start_time": "2023-08-02T09:29:30.692283Z"
    }
   },
   "id": "aa7f4c69893db353"
  },
  {
   "cell_type": "code",
   "execution_count": 17,
   "outputs": [],
   "source": [
    "import numpy as np"
   ],
   "metadata": {
    "collapsed": false,
    "ExecuteTime": {
     "end_time": "2023-08-02T09:30:13.568976Z",
     "start_time": "2023-08-02T09:30:13.560332Z"
    }
   },
   "id": "68a4275b44b1279b"
  },
  {
   "cell_type": "code",
   "execution_count": 27,
   "outputs": [
    {
     "data": {
      "text/plain": "   manufacturer               model  displ  year  cyl       trans drv  cty  \\\n0          audi                  a4    1.8  1999    4    auto(l5)   f   18   \n1          audi                  a4    1.8  1999    4  manual(m5)   f   21   \n2          audi                  a4    2.0  2008    4  manual(m6)   f   20   \n3          audi                  a4    2.0  2008    4    auto(av)   f   21   \n4          audi                  a4    2.8  1999    6    auto(l5)   f   16   \n5          audi                  a4    2.8  1999    6  manual(m5)   f   18   \n6          audi                  a4    3.1  2008    6    auto(av)   f   18   \n7          audi          a4 quattro    1.8  1999    4  manual(m5)   4   18   \n8          audi          a4 quattro    1.8  1999    4    auto(l5)   4   16   \n9          audi          a4 quattro    2.0  2008    4  manual(m6)   4   20   \n10         audi          a4 quattro    2.0  2008    4    auto(s6)   4   19   \n11         audi          a4 quattro    2.8  1999    6    auto(l5)   4   15   \n12         audi          a4 quattro    2.8  1999    6  manual(m5)   4   17   \n13         audi          a4 quattro    3.1  2008    6    auto(s6)   4   17   \n14         audi          a4 quattro    3.1  2008    6  manual(m6)   4   15   \n15         audi          a6 quattro    2.8  1999    6    auto(l5)   4   15   \n16         audi          a6 quattro    3.1  2008    6    auto(s6)   4   17   \n17         audi          a6 quattro    4.2  2008    8    auto(s6)   4   16   \n18    chevrolet  c1500 suburban 2wd    5.3  2008    8    auto(l4)   r   14   \n19    chevrolet  c1500 suburban 2wd    5.3  2008    8    auto(l4)   r   11   \n\n    hwy fl category  total  test  \n0    29  p  compact   23.5  pass  \n1    29  p  compact   25.0  pass  \n2    31  p  compact   25.5  pass  \n3    30  p  compact   25.5  pass  \n4    26  p  compact   21.0  pass  \n5    26  p  compact   22.0  pass  \n6    27  p  compact   22.5  pass  \n7    26  p  compact   22.0  pass  \n8    25  p  compact   20.5  pass  \n9    28  p  compact   24.0  pass  \n10   27  p  compact   23.0  pass  \n11   25  p  compact   20.0  pass  \n12   25  p  compact   21.0  pass  \n13   25  p  compact   21.0  pass  \n14   25  p  compact   20.0  pass  \n15   24  p  midsize   19.5  fail  \n16   25  p  midsize   21.0  pass  \n17   23  p  midsize   19.5  fail  \n18   20  r      suv   17.0  fail  \n19   15  e      suv   13.0  fail  ",
      "text/html": "<div>\n<style scoped>\n    .dataframe tbody tr th:only-of-type {\n        vertical-align: middle;\n    }\n\n    .dataframe tbody tr th {\n        vertical-align: top;\n    }\n\n    .dataframe thead th {\n        text-align: right;\n    }\n</style>\n<table border=\"1\" class=\"dataframe\">\n  <thead>\n    <tr style=\"text-align: right;\">\n      <th></th>\n      <th>manufacturer</th>\n      <th>model</th>\n      <th>displ</th>\n      <th>year</th>\n      <th>cyl</th>\n      <th>trans</th>\n      <th>drv</th>\n      <th>cty</th>\n      <th>hwy</th>\n      <th>fl</th>\n      <th>category</th>\n      <th>total</th>\n      <th>test</th>\n    </tr>\n  </thead>\n  <tbody>\n    <tr>\n      <th>0</th>\n      <td>audi</td>\n      <td>a4</td>\n      <td>1.8</td>\n      <td>1999</td>\n      <td>4</td>\n      <td>auto(l5)</td>\n      <td>f</td>\n      <td>18</td>\n      <td>29</td>\n      <td>p</td>\n      <td>compact</td>\n      <td>23.5</td>\n      <td>pass</td>\n    </tr>\n    <tr>\n      <th>1</th>\n      <td>audi</td>\n      <td>a4</td>\n      <td>1.8</td>\n      <td>1999</td>\n      <td>4</td>\n      <td>manual(m5)</td>\n      <td>f</td>\n      <td>21</td>\n      <td>29</td>\n      <td>p</td>\n      <td>compact</td>\n      <td>25.0</td>\n      <td>pass</td>\n    </tr>\n    <tr>\n      <th>2</th>\n      <td>audi</td>\n      <td>a4</td>\n      <td>2.0</td>\n      <td>2008</td>\n      <td>4</td>\n      <td>manual(m6)</td>\n      <td>f</td>\n      <td>20</td>\n      <td>31</td>\n      <td>p</td>\n      <td>compact</td>\n      <td>25.5</td>\n      <td>pass</td>\n    </tr>\n    <tr>\n      <th>3</th>\n      <td>audi</td>\n      <td>a4</td>\n      <td>2.0</td>\n      <td>2008</td>\n      <td>4</td>\n      <td>auto(av)</td>\n      <td>f</td>\n      <td>21</td>\n      <td>30</td>\n      <td>p</td>\n      <td>compact</td>\n      <td>25.5</td>\n      <td>pass</td>\n    </tr>\n    <tr>\n      <th>4</th>\n      <td>audi</td>\n      <td>a4</td>\n      <td>2.8</td>\n      <td>1999</td>\n      <td>6</td>\n      <td>auto(l5)</td>\n      <td>f</td>\n      <td>16</td>\n      <td>26</td>\n      <td>p</td>\n      <td>compact</td>\n      <td>21.0</td>\n      <td>pass</td>\n    </tr>\n    <tr>\n      <th>5</th>\n      <td>audi</td>\n      <td>a4</td>\n      <td>2.8</td>\n      <td>1999</td>\n      <td>6</td>\n      <td>manual(m5)</td>\n      <td>f</td>\n      <td>18</td>\n      <td>26</td>\n      <td>p</td>\n      <td>compact</td>\n      <td>22.0</td>\n      <td>pass</td>\n    </tr>\n    <tr>\n      <th>6</th>\n      <td>audi</td>\n      <td>a4</td>\n      <td>3.1</td>\n      <td>2008</td>\n      <td>6</td>\n      <td>auto(av)</td>\n      <td>f</td>\n      <td>18</td>\n      <td>27</td>\n      <td>p</td>\n      <td>compact</td>\n      <td>22.5</td>\n      <td>pass</td>\n    </tr>\n    <tr>\n      <th>7</th>\n      <td>audi</td>\n      <td>a4 quattro</td>\n      <td>1.8</td>\n      <td>1999</td>\n      <td>4</td>\n      <td>manual(m5)</td>\n      <td>4</td>\n      <td>18</td>\n      <td>26</td>\n      <td>p</td>\n      <td>compact</td>\n      <td>22.0</td>\n      <td>pass</td>\n    </tr>\n    <tr>\n      <th>8</th>\n      <td>audi</td>\n      <td>a4 quattro</td>\n      <td>1.8</td>\n      <td>1999</td>\n      <td>4</td>\n      <td>auto(l5)</td>\n      <td>4</td>\n      <td>16</td>\n      <td>25</td>\n      <td>p</td>\n      <td>compact</td>\n      <td>20.5</td>\n      <td>pass</td>\n    </tr>\n    <tr>\n      <th>9</th>\n      <td>audi</td>\n      <td>a4 quattro</td>\n      <td>2.0</td>\n      <td>2008</td>\n      <td>4</td>\n      <td>manual(m6)</td>\n      <td>4</td>\n      <td>20</td>\n      <td>28</td>\n      <td>p</td>\n      <td>compact</td>\n      <td>24.0</td>\n      <td>pass</td>\n    </tr>\n    <tr>\n      <th>10</th>\n      <td>audi</td>\n      <td>a4 quattro</td>\n      <td>2.0</td>\n      <td>2008</td>\n      <td>4</td>\n      <td>auto(s6)</td>\n      <td>4</td>\n      <td>19</td>\n      <td>27</td>\n      <td>p</td>\n      <td>compact</td>\n      <td>23.0</td>\n      <td>pass</td>\n    </tr>\n    <tr>\n      <th>11</th>\n      <td>audi</td>\n      <td>a4 quattro</td>\n      <td>2.8</td>\n      <td>1999</td>\n      <td>6</td>\n      <td>auto(l5)</td>\n      <td>4</td>\n      <td>15</td>\n      <td>25</td>\n      <td>p</td>\n      <td>compact</td>\n      <td>20.0</td>\n      <td>pass</td>\n    </tr>\n    <tr>\n      <th>12</th>\n      <td>audi</td>\n      <td>a4 quattro</td>\n      <td>2.8</td>\n      <td>1999</td>\n      <td>6</td>\n      <td>manual(m5)</td>\n      <td>4</td>\n      <td>17</td>\n      <td>25</td>\n      <td>p</td>\n      <td>compact</td>\n      <td>21.0</td>\n      <td>pass</td>\n    </tr>\n    <tr>\n      <th>13</th>\n      <td>audi</td>\n      <td>a4 quattro</td>\n      <td>3.1</td>\n      <td>2008</td>\n      <td>6</td>\n      <td>auto(s6)</td>\n      <td>4</td>\n      <td>17</td>\n      <td>25</td>\n      <td>p</td>\n      <td>compact</td>\n      <td>21.0</td>\n      <td>pass</td>\n    </tr>\n    <tr>\n      <th>14</th>\n      <td>audi</td>\n      <td>a4 quattro</td>\n      <td>3.1</td>\n      <td>2008</td>\n      <td>6</td>\n      <td>manual(m6)</td>\n      <td>4</td>\n      <td>15</td>\n      <td>25</td>\n      <td>p</td>\n      <td>compact</td>\n      <td>20.0</td>\n      <td>pass</td>\n    </tr>\n    <tr>\n      <th>15</th>\n      <td>audi</td>\n      <td>a6 quattro</td>\n      <td>2.8</td>\n      <td>1999</td>\n      <td>6</td>\n      <td>auto(l5)</td>\n      <td>4</td>\n      <td>15</td>\n      <td>24</td>\n      <td>p</td>\n      <td>midsize</td>\n      <td>19.5</td>\n      <td>fail</td>\n    </tr>\n    <tr>\n      <th>16</th>\n      <td>audi</td>\n      <td>a6 quattro</td>\n      <td>3.1</td>\n      <td>2008</td>\n      <td>6</td>\n      <td>auto(s6)</td>\n      <td>4</td>\n      <td>17</td>\n      <td>25</td>\n      <td>p</td>\n      <td>midsize</td>\n      <td>21.0</td>\n      <td>pass</td>\n    </tr>\n    <tr>\n      <th>17</th>\n      <td>audi</td>\n      <td>a6 quattro</td>\n      <td>4.2</td>\n      <td>2008</td>\n      <td>8</td>\n      <td>auto(s6)</td>\n      <td>4</td>\n      <td>16</td>\n      <td>23</td>\n      <td>p</td>\n      <td>midsize</td>\n      <td>19.5</td>\n      <td>fail</td>\n    </tr>\n    <tr>\n      <th>18</th>\n      <td>chevrolet</td>\n      <td>c1500 suburban 2wd</td>\n      <td>5.3</td>\n      <td>2008</td>\n      <td>8</td>\n      <td>auto(l4)</td>\n      <td>r</td>\n      <td>14</td>\n      <td>20</td>\n      <td>r</td>\n      <td>suv</td>\n      <td>17.0</td>\n      <td>fail</td>\n    </tr>\n    <tr>\n      <th>19</th>\n      <td>chevrolet</td>\n      <td>c1500 suburban 2wd</td>\n      <td>5.3</td>\n      <td>2008</td>\n      <td>8</td>\n      <td>auto(l4)</td>\n      <td>r</td>\n      <td>11</td>\n      <td>15</td>\n      <td>e</td>\n      <td>suv</td>\n      <td>13.0</td>\n      <td>fail</td>\n    </tr>\n  </tbody>\n</table>\n</div>"
     },
     "execution_count": 27,
     "metadata": {},
     "output_type": "execute_result"
    }
   ],
   "source": [
    "#total이 20이상이면 pass 아니면 fail\n",
    "mpg['test'] = np.where(mpg['total'] >= 20, 'pass', 'fail')\n",
    "mpg.head(20)"
   ],
   "metadata": {
    "collapsed": false,
    "ExecuteTime": {
     "end_time": "2023-08-02T09:32:45.549411Z",
     "start_time": "2023-08-02T09:32:45.545601Z"
    }
   },
   "id": "4fcd8fb5e2d53c27"
  },
  {
   "cell_type": "code",
   "execution_count": 26,
   "outputs": [
    {
     "data": {
      "text/plain": "test\nfail    167\npass     67\nName: count, dtype: int64"
     },
     "execution_count": 26,
     "metadata": {},
     "output_type": "execute_result"
    }
   ],
   "source": [
    "#연비 합격 빈도표\n",
    "mpg['test'].value_counts()"
   ],
   "metadata": {
    "collapsed": false,
    "ExecuteTime": {
     "end_time": "2023-08-02T09:32:24.436853Z",
     "start_time": "2023-08-02T09:32:24.433714Z"
    }
   },
   "id": "8e84380f85fdac9a"
  },
  {
   "cell_type": "code",
   "execution_count": 28,
   "outputs": [],
   "source": [
    "#연비 합격 빈도표\n",
    "count_test = mpg['test'].value_counts()"
   ],
   "metadata": {
    "collapsed": false,
    "ExecuteTime": {
     "end_time": "2023-08-02T09:34:03.406255Z",
     "start_time": "2023-08-02T09:34:03.217538Z"
    }
   },
   "id": "289f3ce4ea5a646d"
  },
  {
   "cell_type": "code",
   "execution_count": 29,
   "outputs": [
    {
     "data": {
      "text/plain": "<Axes: xlabel='test'>"
     },
     "execution_count": 29,
     "metadata": {},
     "output_type": "execute_result"
    },
    {
     "data": {
      "text/plain": "<Figure size 640x480 with 1 Axes>",
      "image/png": "[encoded data removed]"
     },
     "metadata": {},
     "output_type": "display_data"
    }
   ],
   "source": [
    "#연비 합격 빈도표 그래프\n",
    "count_test.plot.bar()"
   ],
   "metadata": {
    "collapsed": false,
    "ExecuteTime": {
     "end_time": "2023-08-02T09:34:40.598771Z",
     "start_time": "2023-08-02T09:34:40.545574Z"
    }
   },
   "id": "256dd26a80159216"
  },
  {
   "cell_type": "code",
   "execution_count": 33,
   "outputs": [
    {
     "data": {
      "text/plain": "<Axes: xlabel='test'>"
     },
     "execution_count": 33,
     "metadata": {},
     "output_type": "execute_result"
    },
    {
     "data": {
      "text/plain": "<Figure size 640x480 with 1 Axes>",
      "image/png": "[encoded data removed]"
     },
     "metadata": {},
     "output_type": "display_data"
    }
   ],
   "source": [
    "#축이름 수평으로 - 0 기본이 90\n",
    "count_test.plot.bar(rot=30)"
   ],
   "metadata": {
    "collapsed": false,
    "ExecuteTime": {
     "end_time": "2023-08-02T09:36:10.976513Z",
     "start_time": "2023-08-02T09:36:10.902587Z"
    }
   },
   "id": "bfac65189f6c10eb"
  },
  {
   "cell_type": "code",
   "execution_count": 35,
   "outputs": [
    {
     "data": {
      "text/plain": "  manufacturer model  displ  year  cyl       trans drv  cty  hwy fl category  \\\n0         audi    a4    1.8  1999    4    auto(l5)   f   18   29  p  compact   \n1         audi    a4    1.8  1999    4  manual(m5)   f   21   29  p  compact   \n2         audi    a4    2.0  2008    4  manual(m6)   f   20   31  p  compact   \n3         audi    a4    2.0  2008    4    auto(av)   f   21   30  p  compact   \n4         audi    a4    2.8  1999    6    auto(l5)   f   16   26  p  compact   \n\n   total  test grade  \n0   23.5  pass     B  \n1   25.0  pass     B  \n2   25.5  pass     B  \n3   25.5  pass     B  \n4   21.0  pass     B  ",
      "text/html": "<div>\n<style scoped>\n    .dataframe tbody tr th:only-of-type {\n        vertical-align: middle;\n    }\n\n    .dataframe tbody tr th {\n        vertical-align: top;\n    }\n\n    .dataframe thead th {\n        text-align: right;\n    }\n</style>\n<table border=\"1\" class=\"dataframe\">\n  <thead>\n    <tr style=\"text-align: right;\">\n      <th></th>\n      <th>manufacturer</th>\n      <th>model</th>\n      <th>displ</th>\n      <th>year</th>\n      <th>cyl</th>\n      <th>trans</th>\n      <th>drv</th>\n      <th>cty</th>\n      <th>hwy</th>\n      <th>fl</th>\n      <th>category</th>\n      <th>total</th>\n      <th>test</th>\n      <th>grade</th>\n    </tr>\n  </thead>\n  <tbody>\n    <tr>\n      <th>0</th>\n      <td>audi</td>\n      <td>a4</td>\n      <td>1.8</td>\n      <td>1999</td>\n      <td>4</td>\n      <td>auto(l5)</td>\n      <td>f</td>\n      <td>18</td>\n      <td>29</td>\n      <td>p</td>\n      <td>compact</td>\n      <td>23.5</td>\n      <td>pass</td>\n      <td>B</td>\n    </tr>\n    <tr>\n      <th>1</th>\n      <td>audi</td>\n      <td>a4</td>\n      <td>1.8</td>\n      <td>1999</td>\n      <td>4</td>\n      <td>manual(m5)</td>\n      <td>f</td>\n      <td>21</td>\n      <td>29</td>\n      <td>p</td>\n      <td>compact</td>\n      <td>25.0</td>\n      <td>pass</td>\n      <td>B</td>\n    </tr>\n    <tr>\n      <th>2</th>\n      <td>audi</td>\n      <td>a4</td>\n      <td>2.0</td>\n      <td>2008</td>\n      <td>4</td>\n      <td>manual(m6)</td>\n      <td>f</td>\n      <td>20</td>\n      <td>31</td>\n      <td>p</td>\n      <td>compact</td>\n      <td>25.5</td>\n      <td>pass</td>\n      <td>B</td>\n    </tr>\n    <tr>\n      <th>3</th>\n      <td>audi</td>\n      <td>a4</td>\n      <td>2.0</td>\n      <td>2008</td>\n      <td>4</td>\n      <td>auto(av)</td>\n      <td>f</td>\n      <td>21</td>\n      <td>30</td>\n      <td>p</td>\n      <td>compact</td>\n      <td>25.5</td>\n      <td>pass</td>\n      <td>B</td>\n    </tr>\n    <tr>\n      <th>4</th>\n      <td>audi</td>\n      <td>a4</td>\n      <td>2.8</td>\n      <td>1999</td>\n      <td>6</td>\n      <td>auto(l5)</td>\n      <td>f</td>\n      <td>16</td>\n      <td>26</td>\n      <td>p</td>\n      <td>compact</td>\n      <td>21.0</td>\n      <td>pass</td>\n      <td>B</td>\n    </tr>\n  </tbody>\n</table>\n</div>"
     },
     "execution_count": 35,
     "metadata": {},
     "output_type": "execute_result"
    }
   ],
   "source": [
    "#등급 만들기\n",
    "\n",
    "mpg['grade'] = np.where(mpg['total'] >= 30, 'A',\n",
    "                        np.where(mpg['total'] >= 20, 'B', 'C'))\n",
    "\n",
    "mpg.head()"
   ],
   "metadata": {
    "collapsed": false,
    "ExecuteTime": {
     "end_time": "2023-08-02T09:37:58.876804Z",
     "start_time": "2023-08-02T09:37:58.873024Z"
    }
   },
   "id": "d0a29e1d0490d817"
  },
  {
   "cell_type": "code",
   "execution_count": 39,
   "outputs": [
    {
     "data": {
      "text/plain": "grade\nA     10\nB    118\nC    106\nName: count, dtype: int64"
     },
     "execution_count": 39,
     "metadata": {},
     "output_type": "execute_result"
    }
   ],
   "source": [
    "count_grade = mpg['grade'].value_counts().sort_index()\n",
    "count_grade"
   ],
   "metadata": {
    "collapsed": false,
    "ExecuteTime": {
     "end_time": "2023-08-02T09:39:31.846121Z",
     "start_time": "2023-08-02T09:39:31.836656Z"
    }
   },
   "id": "4a247fda570a37ea"
  },
  {
   "cell_type": "code",
   "execution_count": 40,
   "outputs": [
    {
     "data": {
      "text/plain": "<Axes: xlabel='grade'>"
     },
     "execution_count": 40,
     "metadata": {},
     "output_type": "execute_result"
    },
    {
     "data": {
      "text/plain": "<Figure size 640x480 with 1 Axes>",
      "image/png": "[encoded data removed]"
     },
     "metadata": {},
     "output_type": "display_data"
    }
   ],
   "source": [
    "count_grade.plot.bar(rot=0)"
   ],
   "metadata": {
    "collapsed": false,
    "ExecuteTime": {
     "end_time": "2023-08-02T09:39:35.174664Z",
     "start_time": "2023-08-02T09:39:35.092987Z"
    }
   },
   "id": "97ebcf98e40f9ea8"
  },
  {
   "cell_type": "code",
   "execution_count": 41,
   "outputs": [
    {
     "data": {
      "text/plain": "grade\nA     10\nB    118\nC    106\nName: count, dtype: int64"
     },
     "execution_count": 41,
     "metadata": {},
     "output_type": "execute_result"
    }
   ],
   "source": [
    "#정렬 sort_index\n",
    "count_grade = mpg['grade'].value_counts().sort_index()\n",
    "count_grade"
   ],
   "metadata": {
    "collapsed": false,
    "ExecuteTime": {
     "end_time": "2023-08-02T09:39:52.952846Z",
     "start_time": "2023-08-02T09:39:52.949321Z"
    }
   },
   "id": "39880e22383211b7"
  },
  {
   "cell_type": "code",
   "execution_count": 42,
   "outputs": [
    {
     "data": {
      "text/plain": "<Axes: xlabel='grade'>"
     },
     "execution_count": 42,
     "metadata": {},
     "output_type": "execute_result"
    },
    {
     "data": {
      "text/plain": "<Figure size 640x480 with 1 Axes>",
      "image/png": "[encoded data removed]"
     },
     "metadata": {},
     "output_type": "display_data"
    }
   ],
   "source": [
    "count_grade.plot.bar(rot=0)"
   ],
   "metadata": {
    "collapsed": false,
    "ExecuteTime": {
     "end_time": "2023-08-02T09:40:31.642079Z",
     "start_time": "2023-08-02T09:40:31.534718Z"
    }
   },
   "id": "e67d396ae4894a2c"
  },
  {
   "cell_type": "code",
   "execution_count": 43,
   "outputs": [
    {
     "data": {
      "text/plain": "  manufacturer model  displ  year  cyl       trans drv  cty  hwy fl category  \\\n0         audi    a4    1.8  1999    4    auto(l5)   f   18   29  p  compact   \n1         audi    a4    1.8  1999    4  manual(m5)   f   21   29  p  compact   \n2         audi    a4    2.0  2008    4  manual(m6)   f   20   31  p  compact   \n3         audi    a4    2.0  2008    4    auto(av)   f   21   30  p  compact   \n4         audi    a4    2.8  1999    6    auto(l5)   f   16   26  p  compact   \n\n   total  test grade grade2  \n0   23.5  pass     B      C  \n1   25.0  pass     B      B  \n2   25.5  pass     B      B  \n3   25.5  pass     B      B  \n4   21.0  pass     B      C  ",
      "text/html": "<div>\n<style scoped>\n    .dataframe tbody tr th:only-of-type {\n        vertical-align: middle;\n    }\n\n    .dataframe tbody tr th {\n        vertical-align: top;\n    }\n\n    .dataframe thead th {\n        text-align: right;\n    }\n</style>\n<table border=\"1\" class=\"dataframe\">\n  <thead>\n    <tr style=\"text-align: right;\">\n      <th></th>\n      <th>manufacturer</th>\n      <th>model</th>\n      <th>displ</th>\n      <th>year</th>\n      <th>cyl</th>\n      <th>trans</th>\n      <th>drv</th>\n      <th>cty</th>\n      <th>hwy</th>\n      <th>fl</th>\n      <th>category</th>\n      <th>total</th>\n      <th>test</th>\n      <th>grade</th>\n      <th>grade2</th>\n    </tr>\n  </thead>\n  <tbody>\n    <tr>\n      <th>0</th>\n      <td>audi</td>\n      <td>a4</td>\n      <td>1.8</td>\n      <td>1999</td>\n      <td>4</td>\n      <td>auto(l5)</td>\n      <td>f</td>\n      <td>18</td>\n      <td>29</td>\n      <td>p</td>\n      <td>compact</td>\n      <td>23.5</td>\n      <td>pass</td>\n      <td>B</td>\n      <td>C</td>\n    </tr>\n    <tr>\n      <th>1</th>\n      <td>audi</td>\n      <td>a4</td>\n      <td>1.8</td>\n      <td>1999</td>\n      <td>4</td>\n      <td>manual(m5)</td>\n      <td>f</td>\n      <td>21</td>\n      <td>29</td>\n      <td>p</td>\n      <td>compact</td>\n      <td>25.0</td>\n      <td>pass</td>\n      <td>B</td>\n      <td>B</td>\n    </tr>\n    <tr>\n      <th>2</th>\n      <td>audi</td>\n      <td>a4</td>\n      <td>2.0</td>\n      <td>2008</td>\n      <td>4</td>\n      <td>manual(m6)</td>\n      <td>f</td>\n      <td>20</td>\n      <td>31</td>\n      <td>p</td>\n      <td>compact</td>\n      <td>25.5</td>\n      <td>pass</td>\n      <td>B</td>\n      <td>B</td>\n    </tr>\n    <tr>\n      <th>3</th>\n      <td>audi</td>\n      <td>a4</td>\n      <td>2.0</td>\n      <td>2008</td>\n      <td>4</td>\n      <td>auto(av)</td>\n      <td>f</td>\n      <td>21</td>\n      <td>30</td>\n      <td>p</td>\n      <td>compact</td>\n      <td>25.5</td>\n      <td>pass</td>\n      <td>B</td>\n      <td>B</td>\n    </tr>\n    <tr>\n      <th>4</th>\n      <td>audi</td>\n      <td>a4</td>\n      <td>2.8</td>\n      <td>1999</td>\n      <td>6</td>\n      <td>auto(l5)</td>\n      <td>f</td>\n      <td>16</td>\n      <td>26</td>\n      <td>p</td>\n      <td>compact</td>\n      <td>21.0</td>\n      <td>pass</td>\n      <td>B</td>\n      <td>C</td>\n    </tr>\n  </tbody>\n</table>\n</div>"
     },
     "execution_count": 43,
     "metadata": {},
     "output_type": "execute_result"
    }
   ],
   "source": [
    "#조건 여러개\n",
    "mpg['grade2'] = np.where(mpg['total'] >= 30, 'A',\n",
    "                         np.where(mpg['total'] >= 25, 'B',\n",
    "                                  np.where(mpg['total'] >= 20, 'C', 'D')))\n",
    "mpg.head()"
   ],
   "metadata": {
    "collapsed": false,
    "ExecuteTime": {
     "end_time": "2023-08-02T09:42:06.147816Z",
     "start_time": "2023-08-02T09:42:06.134968Z"
    }
   },
   "id": "7f7135c8b066304e"
  },
  {
   "cell_type": "code",
   "execution_count": 46,
   "outputs": [
    {
     "data": {
      "text/plain": "size\nlarge    147\nsmall     87\nName: count, dtype: int64"
     },
     "execution_count": 46,
     "metadata": {},
     "output_type": "execute_result"
    }
   ],
   "source": [
    "mpg['size'] = np.where((mpg['category'] == 'compact') |\n",
    "                       (mpg['category'] == 'subcompact') |\n",
    "                       (mpg['category'] == '2seater'),\n",
    "                       'small', 'large')\n",
    "mpg['size'].value_counts()"
   ],
   "metadata": {
    "collapsed": false,
    "ExecuteTime": {
     "end_time": "2023-08-02T09:44:16.667628Z",
     "start_time": "2023-08-02T09:44:16.661946Z"
    }
   },
   "id": "329197dcee6f48"
  },
  {
   "cell_type": "code",
   "execution_count": 48,
   "outputs": [
    {
     "data": {
      "text/plain": "size\nlarge    147\nsmall     87\nName: count, dtype: int64"
     },
     "execution_count": 48,
     "metadata": {},
     "output_type": "execute_result"
    }
   ],
   "source": [
    "#isin 변수의 값이 들어가 있는지 \n",
    "mpg['size'] = np.where(mpg['category'].isin(['compact', 'subcompact', '2seater']), 'small', 'large')\n",
    "mpg['size'].value_counts()"
   ],
   "metadata": {
    "collapsed": false,
    "ExecuteTime": {
     "end_time": "2023-08-02T09:45:37.461207Z",
     "start_time": "2023-08-02T09:45:37.457633Z"
    }
   },
   "id": "6cd798628affbc94"
  },
  {
   "cell_type": "code",
   "execution_count": null,
   "outputs": [],
   "source": [],
   "metadata": {
    "collapsed": false
   },
   "id": "29311f0b76137703"
  }
 ],
 "metadata": {
  "kernelspec": {
   "display_name": "Python 3",
   "language": "python",
   "name": "python3"
  },
  "language_info": {
   "codemirror_mode": {
    "name": "ipython",
    "version": 2
   },
   "file_extension": ".py",
   "mimetype": "text/x-python",
   "name": "python",
   "nbconvert_exporter": "python",
   "pygments_lexer": "ipython2",
   "version": "2.7.6"
  }
 },
 "nbformat": 4,
 "nbformat_minor": 5
}
