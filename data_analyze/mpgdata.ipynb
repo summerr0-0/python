{
 "cells": [
  {
   "cell_type": "code",
   "execution_count": 3,
   "id": "initial_id",
   "metadata": {
    "collapsed": true,
    "ExecuteTime": {
     "end_time": "2023-07-31T20:41:29.547507Z",
     "start_time": "2023-07-31T20:41:29.078135Z"
    }
   },
   "outputs": [],
   "source": [
    "import pandas as pd\n",
    "mpg = pd.read_csv('mpg.csv')"
   ]
  },
  {
   "cell_type": "code",
   "execution_count": 4,
   "outputs": [
    {
     "data": {
      "text/plain": "  manufacturer model  displ  year  cyl       trans drv  cty  hwy fl category\n0         audi    a4    1.8  1999    4    auto(l5)   f   18   29  p  compact\n1         audi    a4    1.8  1999    4  manual(m5)   f   21   29  p  compact\n2         audi    a4    2.0  2008    4  manual(m6)   f   20   31  p  compact\n3         audi    a4    2.0  2008    4    auto(av)   f   21   30  p  compact\n4         audi    a4    2.8  1999    6    auto(l5)   f   16   26  p  compact",
      "text/html": "<div>\n<style scoped>\n    .dataframe tbody tr th:only-of-type {\n        vertical-align: middle;\n    }\n\n    .dataframe tbody tr th {\n        vertical-align: top;\n    }\n\n    .dataframe thead th {\n        text-align: right;\n    }\n</style>\n<table border=\"1\" class=\"dataframe\">\n  <thead>\n    <tr style=\"text-align: right;\">\n      <th></th>\n      <th>manufacturer</th>\n      <th>model</th>\n      <th>displ</th>\n      <th>year</th>\n      <th>cyl</th>\n      <th>trans</th>\n      <th>drv</th>\n      <th>cty</th>\n      <th>hwy</th>\n      <th>fl</th>\n      <th>category</th>\n    </tr>\n  </thead>\n  <tbody>\n    <tr>\n      <th>0</th>\n      <td>audi</td>\n      <td>a4</td>\n      <td>1.8</td>\n      <td>1999</td>\n      <td>4</td>\n      <td>auto(l5)</td>\n      <td>f</td>\n      <td>18</td>\n      <td>29</td>\n      <td>p</td>\n      <td>compact</td>\n    </tr>\n    <tr>\n      <th>1</th>\n      <td>audi</td>\n      <td>a4</td>\n      <td>1.8</td>\n      <td>1999</td>\n      <td>4</td>\n      <td>manual(m5)</td>\n      <td>f</td>\n      <td>21</td>\n      <td>29</td>\n      <td>p</td>\n      <td>compact</td>\n    </tr>\n    <tr>\n      <th>2</th>\n      <td>audi</td>\n      <td>a4</td>\n      <td>2.0</td>\n      <td>2008</td>\n      <td>4</td>\n      <td>manual(m6)</td>\n      <td>f</td>\n      <td>20</td>\n      <td>31</td>\n      <td>p</td>\n      <td>compact</td>\n    </tr>\n    <tr>\n      <th>3</th>\n      <td>audi</td>\n      <td>a4</td>\n      <td>2.0</td>\n      <td>2008</td>\n      <td>4</td>\n      <td>auto(av)</td>\n      <td>f</td>\n      <td>21</td>\n      <td>30</td>\n      <td>p</td>\n      <td>compact</td>\n    </tr>\n    <tr>\n      <th>4</th>\n      <td>audi</td>\n      <td>a4</td>\n      <td>2.8</td>\n      <td>1999</td>\n      <td>6</td>\n      <td>auto(l5)</td>\n      <td>f</td>\n      <td>16</td>\n      <td>26</td>\n      <td>p</td>\n      <td>compact</td>\n    </tr>\n  </tbody>\n</table>\n</div>"
     },
     "execution_count": 4,
     "metadata": {},
     "output_type": "execute_result"
    }
   ],
   "source": [
    "mpg.head()"
   ],
   "metadata": {
    "collapsed": false,
    "ExecuteTime": {
     "end_time": "2023-07-31T20:41:34.371514Z",
     "start_time": "2023-07-31T20:41:34.365746Z"
    }
   },
   "id": "be5295de7c535a0d"
  },
  {
   "cell_type": "code",
   "execution_count": 5,
   "outputs": [
    {
     "data": {
      "text/plain": "    manufacturer   model  displ  year  cyl       trans drv  cty  hwy fl  \\\n229   volkswagen  passat    2.0  2008    4    auto(s6)   f   19   28  p   \n230   volkswagen  passat    2.0  2008    4  manual(m6)   f   21   29  p   \n231   volkswagen  passat    2.8  1999    6    auto(l5)   f   16   26  p   \n232   volkswagen  passat    2.8  1999    6  manual(m5)   f   18   26  p   \n233   volkswagen  passat    3.6  2008    6    auto(s6)   f   17   26  p   \n\n    category  \n229  midsize  \n230  midsize  \n231  midsize  \n232  midsize  \n233  midsize  ",
      "text/html": "<div>\n<style scoped>\n    .dataframe tbody tr th:only-of-type {\n        vertical-align: middle;\n    }\n\n    .dataframe tbody tr th {\n        vertical-align: top;\n    }\n\n    .dataframe thead th {\n        text-align: right;\n    }\n</style>\n<table border=\"1\" class=\"dataframe\">\n  <thead>\n    <tr style=\"text-align: right;\">\n      <th></th>\n      <th>manufacturer</th>\n      <th>model</th>\n      <th>displ</th>\n      <th>year</th>\n      <th>cyl</th>\n      <th>trans</th>\n      <th>drv</th>\n      <th>cty</th>\n      <th>hwy</th>\n      <th>fl</th>\n      <th>category</th>\n    </tr>\n  </thead>\n  <tbody>\n    <tr>\n      <th>229</th>\n      <td>volkswagen</td>\n      <td>passat</td>\n      <td>2.0</td>\n      <td>2008</td>\n      <td>4</td>\n      <td>auto(s6)</td>\n      <td>f</td>\n      <td>19</td>\n      <td>28</td>\n      <td>p</td>\n      <td>midsize</td>\n    </tr>\n    <tr>\n      <th>230</th>\n      <td>volkswagen</td>\n      <td>passat</td>\n      <td>2.0</td>\n      <td>2008</td>\n      <td>4</td>\n      <td>manual(m6)</td>\n      <td>f</td>\n      <td>21</td>\n      <td>29</td>\n      <td>p</td>\n      <td>midsize</td>\n    </tr>\n    <tr>\n      <th>231</th>\n      <td>volkswagen</td>\n      <td>passat</td>\n      <td>2.8</td>\n      <td>1999</td>\n      <td>6</td>\n      <td>auto(l5)</td>\n      <td>f</td>\n      <td>16</td>\n      <td>26</td>\n      <td>p</td>\n      <td>midsize</td>\n    </tr>\n    <tr>\n      <th>232</th>\n      <td>volkswagen</td>\n      <td>passat</td>\n      <td>2.8</td>\n      <td>1999</td>\n      <td>6</td>\n      <td>manual(m5)</td>\n      <td>f</td>\n      <td>18</td>\n      <td>26</td>\n      <td>p</td>\n      <td>midsize</td>\n    </tr>\n    <tr>\n      <th>233</th>\n      <td>volkswagen</td>\n      <td>passat</td>\n      <td>3.6</td>\n      <td>2008</td>\n      <td>6</td>\n      <td>auto(s6)</td>\n      <td>f</td>\n      <td>17</td>\n      <td>26</td>\n      <td>p</td>\n      <td>midsize</td>\n    </tr>\n  </tbody>\n</table>\n</div>"
     },
     "execution_count": 5,
     "metadata": {},
     "output_type": "execute_result"
    }
   ],
   "source": [
    "mpg.tail()"
   ],
   "metadata": {
    "collapsed": false,
    "ExecuteTime": {
     "end_time": "2023-07-31T20:41:41.693489Z",
     "start_time": "2023-07-31T20:41:41.691351Z"
    }
   },
   "id": "4dab2a3520fb0fce"
  },
  {
   "cell_type": "code",
   "execution_count": 6,
   "outputs": [
    {
     "data": {
      "text/plain": "(234, 11)"
     },
     "execution_count": 6,
     "metadata": {},
     "output_type": "execute_result"
    }
   ],
   "source": [
    "mpg.shape"
   ],
   "metadata": {
    "collapsed": false,
    "ExecuteTime": {
     "end_time": "2023-07-31T20:41:49.973936Z",
     "start_time": "2023-07-31T20:41:49.970576Z"
    }
   },
   "id": "f5fa061317a947fd"
  },
  {
   "cell_type": "code",
   "execution_count": 7,
   "outputs": [
    {
     "name": "stdout",
     "output_type": "stream",
     "text": [
      "<class 'pandas.core.frame.DataFrame'>\n",
      "RangeIndex: 234 entries, 0 to 233\n",
      "Data columns (total 11 columns):\n",
      " #   Column        Non-Null Count  Dtype  \n",
      "---  ------        --------------  -----  \n",
      " 0   manufacturer  234 non-null    object \n",
      " 1   model         234 non-null    object \n",
      " 2   displ         234 non-null    float64\n",
      " 3   year          234 non-null    int64  \n",
      " 4   cyl           234 non-null    int64  \n",
      " 5   trans         234 non-null    object \n",
      " 6   drv           234 non-null    object \n",
      " 7   cty           234 non-null    int64  \n",
      " 8   hwy           234 non-null    int64  \n",
      " 9   fl            234 non-null    object \n",
      " 10  category      234 non-null    object \n",
      "dtypes: float64(1), int64(4), object(6)\n",
      "memory usage: 20.2+ KB\n"
     ]
    }
   ],
   "source": [
    "mpg.info()"
   ],
   "metadata": {
    "collapsed": false,
    "ExecuteTime": {
     "end_time": "2023-07-31T20:41:54.678827Z",
     "start_time": "2023-07-31T20:41:54.676934Z"
    }
   },
   "id": "a7c5b45241c506fd"
  },
  {
   "cell_type": "code",
   "execution_count": 8,
   "outputs": [
    {
     "data": {
      "text/plain": "            displ         year         cyl         cty         hwy\ncount  234.000000   234.000000  234.000000  234.000000  234.000000\nmean     3.471795  2003.500000    5.888889   16.858974   23.440171\nstd      1.291959     4.509646    1.611534    4.255946    5.954643\nmin      1.600000  1999.000000    4.000000    9.000000   12.000000\n25%      2.400000  1999.000000    4.000000   14.000000   18.000000\n50%      3.300000  2003.500000    6.000000   17.000000   24.000000\n75%      4.600000  2008.000000    8.000000   19.000000   27.000000\nmax      7.000000  2008.000000    8.000000   35.000000   44.000000",
      "text/html": "<div>\n<style scoped>\n    .dataframe tbody tr th:only-of-type {\n        vertical-align: middle;\n    }\n\n    .dataframe tbody tr th {\n        vertical-align: top;\n    }\n\n    .dataframe thead th {\n        text-align: right;\n    }\n</style>\n<table border=\"1\" class=\"dataframe\">\n  <thead>\n    <tr style=\"text-align: right;\">\n      <th></th>\n      <th>displ</th>\n      <th>year</th>\n      <th>cyl</th>\n      <th>cty</th>\n      <th>hwy</th>\n    </tr>\n  </thead>\n  <tbody>\n    <tr>\n      <th>count</th>\n      <td>234.000000</td>\n      <td>234.000000</td>\n      <td>234.000000</td>\n      <td>234.000000</td>\n      <td>234.000000</td>\n    </tr>\n    <tr>\n      <th>mean</th>\n      <td>3.471795</td>\n      <td>2003.500000</td>\n      <td>5.888889</td>\n      <td>16.858974</td>\n      <td>23.440171</td>\n    </tr>\n    <tr>\n      <th>std</th>\n      <td>1.291959</td>\n      <td>4.509646</td>\n      <td>1.611534</td>\n      <td>4.255946</td>\n      <td>5.954643</td>\n    </tr>\n    <tr>\n      <th>min</th>\n      <td>1.600000</td>\n      <td>1999.000000</td>\n      <td>4.000000</td>\n      <td>9.000000</td>\n      <td>12.000000</td>\n    </tr>\n    <tr>\n      <th>25%</th>\n      <td>2.400000</td>\n      <td>1999.000000</td>\n      <td>4.000000</td>\n      <td>14.000000</td>\n      <td>18.000000</td>\n    </tr>\n    <tr>\n      <th>50%</th>\n      <td>3.300000</td>\n      <td>2003.500000</td>\n      <td>6.000000</td>\n      <td>17.000000</td>\n      <td>24.000000</td>\n    </tr>\n    <tr>\n      <th>75%</th>\n      <td>4.600000</td>\n      <td>2008.000000</td>\n      <td>8.000000</td>\n      <td>19.000000</td>\n      <td>27.000000</td>\n    </tr>\n    <tr>\n      <th>max</th>\n      <td>7.000000</td>\n      <td>2008.000000</td>\n      <td>8.000000</td>\n      <td>35.000000</td>\n      <td>44.000000</td>\n    </tr>\n  </tbody>\n</table>\n</div>"
     },
     "execution_count": 8,
     "metadata": {},
     "output_type": "execute_result"
    }
   ],
   "source": [
    "mpg.describe()"
   ],
   "metadata": {
    "collapsed": false,
    "ExecuteTime": {
     "end_time": "2023-07-31T20:41:59.327017Z",
     "start_time": "2023-07-31T20:41:59.317125Z"
    }
   },
   "id": "5f5b3f3dafe820b5"
  },
  {
   "cell_type": "code",
   "execution_count": 11,
   "outputs": [
    {
     "data": {
      "text/plain": "       manufacturer        model       displ         year         cyl  \\\ncount           234          234  234.000000   234.000000  234.000000   \nunique           15           38         NaN          NaN         NaN   \ntop           dodge  caravan 2wd         NaN          NaN         NaN   \nfreq             37           11         NaN          NaN         NaN   \nmean            NaN          NaN    3.471795  2003.500000    5.888889   \nstd             NaN          NaN    1.291959     4.509646    1.611534   \nmin             NaN          NaN    1.600000  1999.000000    4.000000   \n25%             NaN          NaN    2.400000  1999.000000    4.000000   \n50%             NaN          NaN    3.300000  2003.500000    6.000000   \n75%             NaN          NaN    4.600000  2008.000000    8.000000   \nmax             NaN          NaN    7.000000  2008.000000    8.000000   \n\n           trans  drv         cty         hwy   fl category  \ncount        234  234  234.000000  234.000000  234      234  \nunique        10    3         NaN         NaN    5        7  \ntop     auto(l4)    f         NaN         NaN    r      suv  \nfreq          83  106         NaN         NaN  168       62  \nmean         NaN  NaN   16.858974   23.440171  NaN      NaN  \nstd          NaN  NaN    4.255946    5.954643  NaN      NaN  \nmin          NaN  NaN    9.000000   12.000000  NaN      NaN  \n25%          NaN  NaN   14.000000   18.000000  NaN      NaN  \n50%          NaN  NaN   17.000000   24.000000  NaN      NaN  \n75%          NaN  NaN   19.000000   27.000000  NaN      NaN  \nmax          NaN  NaN   35.000000   44.000000  NaN      NaN  ",
      "text/html": "<div>\n<style scoped>\n    .dataframe tbody tr th:only-of-type {\n        vertical-align: middle;\n    }\n\n    .dataframe tbody tr th {\n        vertical-align: top;\n    }\n\n    .dataframe thead th {\n        text-align: right;\n    }\n</style>\n<table border=\"1\" class=\"dataframe\">\n  <thead>\n    <tr style=\"text-align: right;\">\n      <th></th>\n      <th>manufacturer</th>\n      <th>model</th>\n      <th>displ</th>\n      <th>year</th>\n      <th>cyl</th>\n      <th>trans</th>\n      <th>drv</th>\n      <th>cty</th>\n      <th>hwy</th>\n      <th>fl</th>\n      <th>category</th>\n    </tr>\n  </thead>\n  <tbody>\n    <tr>\n      <th>count</th>\n      <td>234</td>\n      <td>234</td>\n      <td>234.000000</td>\n      <td>234.000000</td>\n      <td>234.000000</td>\n      <td>234</td>\n      <td>234</td>\n      <td>234.000000</td>\n      <td>234.000000</td>\n      <td>234</td>\n      <td>234</td>\n    </tr>\n    <tr>\n      <th>unique</th>\n      <td>15</td>\n      <td>38</td>\n      <td>NaN</td>\n      <td>NaN</td>\n      <td>NaN</td>\n      <td>10</td>\n      <td>3</td>\n      <td>NaN</td>\n      <td>NaN</td>\n      <td>5</td>\n      <td>7</td>\n    </tr>\n    <tr>\n      <th>top</th>\n      <td>dodge</td>\n      <td>caravan 2wd</td>\n      <td>NaN</td>\n      <td>NaN</td>\n      <td>NaN</td>\n      <td>auto(l4)</td>\n      <td>f</td>\n      <td>NaN</td>\n      <td>NaN</td>\n      <td>r</td>\n      <td>suv</td>\n    </tr>\n    <tr>\n      <th>freq</th>\n      <td>37</td>\n      <td>11</td>\n      <td>NaN</td>\n      <td>NaN</td>\n      <td>NaN</td>\n      <td>83</td>\n      <td>106</td>\n      <td>NaN</td>\n      <td>NaN</td>\n      <td>168</td>\n      <td>62</td>\n    </tr>\n    <tr>\n      <th>mean</th>\n      <td>NaN</td>\n      <td>NaN</td>\n      <td>3.471795</td>\n      <td>2003.500000</td>\n      <td>5.888889</td>\n      <td>NaN</td>\n      <td>NaN</td>\n      <td>16.858974</td>\n      <td>23.440171</td>\n      <td>NaN</td>\n      <td>NaN</td>\n    </tr>\n    <tr>\n      <th>std</th>\n      <td>NaN</td>\n      <td>NaN</td>\n      <td>1.291959</td>\n      <td>4.509646</td>\n      <td>1.611534</td>\n      <td>NaN</td>\n      <td>NaN</td>\n      <td>4.255946</td>\n      <td>5.954643</td>\n      <td>NaN</td>\n      <td>NaN</td>\n    </tr>\n    <tr>\n      <th>min</th>\n      <td>NaN</td>\n      <td>NaN</td>\n      <td>1.600000</td>\n      <td>1999.000000</td>\n      <td>4.000000</td>\n      <td>NaN</td>\n      <td>NaN</td>\n      <td>9.000000</td>\n      <td>12.000000</td>\n      <td>NaN</td>\n      <td>NaN</td>\n    </tr>\n    <tr>\n      <th>25%</th>\n      <td>NaN</td>\n      <td>NaN</td>\n      <td>2.400000</td>\n      <td>1999.000000</td>\n      <td>4.000000</td>\n      <td>NaN</td>\n      <td>NaN</td>\n      <td>14.000000</td>\n      <td>18.000000</td>\n      <td>NaN</td>\n      <td>NaN</td>\n    </tr>\n    <tr>\n      <th>50%</th>\n      <td>NaN</td>\n      <td>NaN</td>\n      <td>3.300000</td>\n      <td>2003.500000</td>\n      <td>6.000000</td>\n      <td>NaN</td>\n      <td>NaN</td>\n      <td>17.000000</td>\n      <td>24.000000</td>\n      <td>NaN</td>\n      <td>NaN</td>\n    </tr>\n    <tr>\n      <th>75%</th>\n      <td>NaN</td>\n      <td>NaN</td>\n      <td>4.600000</td>\n      <td>2008.000000</td>\n      <td>8.000000</td>\n      <td>NaN</td>\n      <td>NaN</td>\n      <td>19.000000</td>\n      <td>27.000000</td>\n      <td>NaN</td>\n      <td>NaN</td>\n    </tr>\n    <tr>\n      <th>max</th>\n      <td>NaN</td>\n      <td>NaN</td>\n      <td>7.000000</td>\n      <td>2008.000000</td>\n      <td>8.000000</td>\n      <td>NaN</td>\n      <td>NaN</td>\n      <td>35.000000</td>\n      <td>44.000000</td>\n      <td>NaN</td>\n      <td>NaN</td>\n    </tr>\n  </tbody>\n</table>\n</div>"
     },
     "execution_count": 11,
     "metadata": {},
     "output_type": "execute_result"
    }
   ],
   "source": [
    "#문자로 된 통계량 포함\n",
    "# count = 개수\n",
    "# unique = 중복을 제거한 범주의 개수\n",
    "# top = 개수가 가장 많은 값\n",
    "# freq = 개수가 가장 많은 값의 개수\n",
    "mpg.describe(include = 'all')"
   ],
   "metadata": {
    "collapsed": false,
    "ExecuteTime": {
     "end_time": "2023-07-31T20:42:24.663831Z",
     "start_time": "2023-07-31T20:42:24.647242Z"
    }
   },
   "id": "e76db31782a5c164"
  },
  {
   "cell_type": "code",
   "execution_count": 12,
   "outputs": [],
   "source": [],
   "metadata": {
    "collapsed": false,
    "ExecuteTime": {
     "end_time": "2023-07-31T20:47:42.286728Z",
     "start_time": "2023-07-31T20:47:42.285422Z"
    }
   },
   "id": "5cf2e9b7b8e2c960"
  }
 ],
 "metadata": {
  "kernelspec": {
   "display_name": "Python 3",
   "language": "python",
   "name": "python3"
  },
  "language_info": {
   "codemirror_mode": {
    "name": "ipython",
    "version": 2
   },
   "file_extension": ".py",
   "mimetype": "text/x-python",
   "name": "python",
   "nbconvert_exporter": "python",
   "pygments_lexer": "ipython2",
   "version": "2.7.6"
  }
 },
 "nbformat": 4,
 "nbformat_minor": 5
}
