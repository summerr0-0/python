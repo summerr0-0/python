{
 "cells": [
  {
   "cell_type": "code",
   "execution_count": 1,
   "id": "initial_id",
   "metadata": {
    "collapsed": true,
    "ExecuteTime": {
     "end_time": "2023-07-31T20:34:01.793470Z",
     "start_time": "2023-07-31T20:34:01.400953Z"
    }
   },
   "outputs": [],
   "source": [
    "import pandas as pd\n",
    "\n",
    "exam = pd.read_csv('exam.csv')"
   ]
  },
  {
   "cell_type": "code",
   "execution_count": 4,
   "outputs": [
    {
     "data": {
      "text/plain": "   id  nclass  math  english  science\n0   1       1    50       98       50\n1   2       1    60       97       60\n2   3       1    45       86       78\n3   4       1    30       98       58\n4   5       2    25       80       65",
      "text/html": "<div>\n<style scoped>\n    .dataframe tbody tr th:only-of-type {\n        vertical-align: middle;\n    }\n\n    .dataframe tbody tr th {\n        vertical-align: top;\n    }\n\n    .dataframe thead th {\n        text-align: right;\n    }\n</style>\n<table border=\"1\" class=\"dataframe\">\n  <thead>\n    <tr style=\"text-align: right;\">\n      <th></th>\n      <th>id</th>\n      <th>nclass</th>\n      <th>math</th>\n      <th>english</th>\n      <th>science</th>\n    </tr>\n  </thead>\n  <tbody>\n    <tr>\n      <th>0</th>\n      <td>1</td>\n      <td>1</td>\n      <td>50</td>\n      <td>98</td>\n      <td>50</td>\n    </tr>\n    <tr>\n      <th>1</th>\n      <td>2</td>\n      <td>1</td>\n      <td>60</td>\n      <td>97</td>\n      <td>60</td>\n    </tr>\n    <tr>\n      <th>2</th>\n      <td>3</td>\n      <td>1</td>\n      <td>45</td>\n      <td>86</td>\n      <td>78</td>\n    </tr>\n    <tr>\n      <th>3</th>\n      <td>4</td>\n      <td>1</td>\n      <td>30</td>\n      <td>98</td>\n      <td>58</td>\n    </tr>\n    <tr>\n      <th>4</th>\n      <td>5</td>\n      <td>2</td>\n      <td>25</td>\n      <td>80</td>\n      <td>65</td>\n    </tr>\n  </tbody>\n</table>\n</div>"
     },
     "execution_count": 4,
     "metadata": {},
     "output_type": "execute_result"
    }
   ],
   "source": [
    "#앞에서부터 5행\n",
    "exam.head()"
   ],
   "metadata": {
    "collapsed": false,
    "ExecuteTime": {
     "end_time": "2023-07-31T20:34:30.490702Z",
     "start_time": "2023-07-31T20:34:30.485636Z"
    }
   },
   "id": "cbd4ae050135876f"
  },
  {
   "cell_type": "code",
   "execution_count": 5,
   "outputs": [
    {
     "data": {
      "text/plain": "   id  nclass  math  english  science\n0   1       1    50       98       50\n1   2       1    60       97       60\n2   3       1    45       86       78\n3   4       1    30       98       58\n4   5       2    25       80       65\n5   6       2    50       89       98\n6   7       2    80       90       45\n7   8       2    90       78       25\n8   9       3    20       98       15\n9  10       3    50       98       45",
      "text/html": "<div>\n<style scoped>\n    .dataframe tbody tr th:only-of-type {\n        vertical-align: middle;\n    }\n\n    .dataframe tbody tr th {\n        vertical-align: top;\n    }\n\n    .dataframe thead th {\n        text-align: right;\n    }\n</style>\n<table border=\"1\" class=\"dataframe\">\n  <thead>\n    <tr style=\"text-align: right;\">\n      <th></th>\n      <th>id</th>\n      <th>nclass</th>\n      <th>math</th>\n      <th>english</th>\n      <th>science</th>\n    </tr>\n  </thead>\n  <tbody>\n    <tr>\n      <th>0</th>\n      <td>1</td>\n      <td>1</td>\n      <td>50</td>\n      <td>98</td>\n      <td>50</td>\n    </tr>\n    <tr>\n      <th>1</th>\n      <td>2</td>\n      <td>1</td>\n      <td>60</td>\n      <td>97</td>\n      <td>60</td>\n    </tr>\n    <tr>\n      <th>2</th>\n      <td>3</td>\n      <td>1</td>\n      <td>45</td>\n      <td>86</td>\n      <td>78</td>\n    </tr>\n    <tr>\n      <th>3</th>\n      <td>4</td>\n      <td>1</td>\n      <td>30</td>\n      <td>98</td>\n      <td>58</td>\n    </tr>\n    <tr>\n      <th>4</th>\n      <td>5</td>\n      <td>2</td>\n      <td>25</td>\n      <td>80</td>\n      <td>65</td>\n    </tr>\n    <tr>\n      <th>5</th>\n      <td>6</td>\n      <td>2</td>\n      <td>50</td>\n      <td>89</td>\n      <td>98</td>\n    </tr>\n    <tr>\n      <th>6</th>\n      <td>7</td>\n      <td>2</td>\n      <td>80</td>\n      <td>90</td>\n      <td>45</td>\n    </tr>\n    <tr>\n      <th>7</th>\n      <td>8</td>\n      <td>2</td>\n      <td>90</td>\n      <td>78</td>\n      <td>25</td>\n    </tr>\n    <tr>\n      <th>8</th>\n      <td>9</td>\n      <td>3</td>\n      <td>20</td>\n      <td>98</td>\n      <td>15</td>\n    </tr>\n    <tr>\n      <th>9</th>\n      <td>10</td>\n      <td>3</td>\n      <td>50</td>\n      <td>98</td>\n      <td>45</td>\n    </tr>\n  </tbody>\n</table>\n</div>"
     },
     "execution_count": 5,
     "metadata": {},
     "output_type": "execute_result"
    }
   ],
   "source": [
    "#앞에서부터 10행\n",
    "exam.head(10)"
   ],
   "metadata": {
    "collapsed": false,
    "ExecuteTime": {
     "end_time": "2023-07-31T20:35:01.729501Z",
     "start_time": "2023-07-31T20:35:01.726662Z"
    }
   },
   "id": "495bf758188db2b8"
  },
  {
   "cell_type": "code",
   "execution_count": 7,
   "outputs": [
    {
     "data": {
      "text/plain": "    id  nclass  math  english  science\n15  16       4    58       98       65\n16  17       5    65       68       98\n17  18       5    80       78       90\n18  19       5    89       68       87\n19  20       5    78       83       58",
      "text/html": "<div>\n<style scoped>\n    .dataframe tbody tr th:only-of-type {\n        vertical-align: middle;\n    }\n\n    .dataframe tbody tr th {\n        vertical-align: top;\n    }\n\n    .dataframe thead th {\n        text-align: right;\n    }\n</style>\n<table border=\"1\" class=\"dataframe\">\n  <thead>\n    <tr style=\"text-align: right;\">\n      <th></th>\n      <th>id</th>\n      <th>nclass</th>\n      <th>math</th>\n      <th>english</th>\n      <th>science</th>\n    </tr>\n  </thead>\n  <tbody>\n    <tr>\n      <th>15</th>\n      <td>16</td>\n      <td>4</td>\n      <td>58</td>\n      <td>98</td>\n      <td>65</td>\n    </tr>\n    <tr>\n      <th>16</th>\n      <td>17</td>\n      <td>5</td>\n      <td>65</td>\n      <td>68</td>\n      <td>98</td>\n    </tr>\n    <tr>\n      <th>17</th>\n      <td>18</td>\n      <td>5</td>\n      <td>80</td>\n      <td>78</td>\n      <td>90</td>\n    </tr>\n    <tr>\n      <th>18</th>\n      <td>19</td>\n      <td>5</td>\n      <td>89</td>\n      <td>68</td>\n      <td>87</td>\n    </tr>\n    <tr>\n      <th>19</th>\n      <td>20</td>\n      <td>5</td>\n      <td>78</td>\n      <td>83</td>\n      <td>58</td>\n    </tr>\n  </tbody>\n</table>\n</div>"
     },
     "execution_count": 7,
     "metadata": {},
     "output_type": "execute_result"
    }
   ],
   "source": [
    "#뒤에서 5행\n",
    "exam.tail()"
   ],
   "metadata": {
    "collapsed": false,
    "ExecuteTime": {
     "end_time": "2023-07-31T20:35:22.129570Z",
     "start_time": "2023-07-31T20:35:22.125160Z"
    }
   },
   "id": "6de43d5839193a2c"
  },
  {
   "cell_type": "code",
   "execution_count": 8,
   "outputs": [
    {
     "data": {
      "text/plain": "    id  nclass  math  english  science\n10  11       3    65       65       65\n11  12       3    45       85       32\n12  13       4    46       98       65\n13  14       4    48       87       12\n14  15       4    75       56       78\n15  16       4    58       98       65\n16  17       5    65       68       98\n17  18       5    80       78       90\n18  19       5    89       68       87\n19  20       5    78       83       58",
      "text/html": "<div>\n<style scoped>\n    .dataframe tbody tr th:only-of-type {\n        vertical-align: middle;\n    }\n\n    .dataframe tbody tr th {\n        vertical-align: top;\n    }\n\n    .dataframe thead th {\n        text-align: right;\n    }\n</style>\n<table border=\"1\" class=\"dataframe\">\n  <thead>\n    <tr style=\"text-align: right;\">\n      <th></th>\n      <th>id</th>\n      <th>nclass</th>\n      <th>math</th>\n      <th>english</th>\n      <th>science</th>\n    </tr>\n  </thead>\n  <tbody>\n    <tr>\n      <th>10</th>\n      <td>11</td>\n      <td>3</td>\n      <td>65</td>\n      <td>65</td>\n      <td>65</td>\n    </tr>\n    <tr>\n      <th>11</th>\n      <td>12</td>\n      <td>3</td>\n      <td>45</td>\n      <td>85</td>\n      <td>32</td>\n    </tr>\n    <tr>\n      <th>12</th>\n      <td>13</td>\n      <td>4</td>\n      <td>46</td>\n      <td>98</td>\n      <td>65</td>\n    </tr>\n    <tr>\n      <th>13</th>\n      <td>14</td>\n      <td>4</td>\n      <td>48</td>\n      <td>87</td>\n      <td>12</td>\n    </tr>\n    <tr>\n      <th>14</th>\n      <td>15</td>\n      <td>4</td>\n      <td>75</td>\n      <td>56</td>\n      <td>78</td>\n    </tr>\n    <tr>\n      <th>15</th>\n      <td>16</td>\n      <td>4</td>\n      <td>58</td>\n      <td>98</td>\n      <td>65</td>\n    </tr>\n    <tr>\n      <th>16</th>\n      <td>17</td>\n      <td>5</td>\n      <td>65</td>\n      <td>68</td>\n      <td>98</td>\n    </tr>\n    <tr>\n      <th>17</th>\n      <td>18</td>\n      <td>5</td>\n      <td>80</td>\n      <td>78</td>\n      <td>90</td>\n    </tr>\n    <tr>\n      <th>18</th>\n      <td>19</td>\n      <td>5</td>\n      <td>89</td>\n      <td>68</td>\n      <td>87</td>\n    </tr>\n    <tr>\n      <th>19</th>\n      <td>20</td>\n      <td>5</td>\n      <td>78</td>\n      <td>83</td>\n      <td>58</td>\n    </tr>\n  </tbody>\n</table>\n</div>"
     },
     "execution_count": 8,
     "metadata": {},
     "output_type": "execute_result"
    }
   ],
   "source": [
    "#뒤에서 5행\n",
    "exam.tail(10)"
   ],
   "metadata": {
    "collapsed": false,
    "ExecuteTime": {
     "end_time": "2023-07-31T20:35:27.729629Z",
     "start_time": "2023-07-31T20:35:27.726738Z"
    }
   },
   "id": "73174d659309a633"
  },
  {
   "cell_type": "code",
   "execution_count": 9,
   "outputs": [
    {
     "data": {
      "text/plain": "(20, 5)"
     },
     "execution_count": 9,
     "metadata": {},
     "output_type": "execute_result"
    }
   ],
   "source": [
    "#몇행 몇열로 구성되어있는지\n",
    "exam.shape"
   ],
   "metadata": {
    "collapsed": false,
    "ExecuteTime": {
     "end_time": "2023-07-31T20:35:42.801483Z",
     "start_time": "2023-07-31T20:35:42.796703Z"
    }
   },
   "id": "a81df1c174a94cd4"
  },
  {
   "cell_type": "code",
   "execution_count": 11,
   "outputs": [
    {
     "data": {
      "text/plain": "20"
     },
     "execution_count": 11,
     "metadata": {},
     "output_type": "execute_result"
    }
   ],
   "source": [
    "#행꺼내기\n",
    "exam.shape[0]"
   ],
   "metadata": {
    "collapsed": false,
    "ExecuteTime": {
     "end_time": "2023-07-31T20:36:08.089973Z",
     "start_time": "2023-07-31T20:36:08.087057Z"
    }
   },
   "id": "e415aaf7ca77dc58"
  },
  {
   "cell_type": "code",
   "execution_count": 12,
   "outputs": [
    {
     "name": "stdout",
     "output_type": "stream",
     "text": [
      "<class 'pandas.core.frame.DataFrame'>\n",
      "RangeIndex: 20 entries, 0 to 19\n",
      "Data columns (total 5 columns):\n",
      " #   Column   Non-Null Count  Dtype\n",
      "---  ------   --------------  -----\n",
      " 0   id       20 non-null     int64\n",
      " 1   nclass   20 non-null     int64\n",
      " 2   math     20 non-null     int64\n",
      " 3   english  20 non-null     int64\n",
      " 4   science  20 non-null     int64\n",
      "dtypes: int64(5)\n",
      "memory usage: 928.0 bytes\n"
     ]
    }
   ],
   "source": [
    "#속성 파악 데이터 변수들의 속성\n",
    "exam.info()"
   ],
   "metadata": {
    "collapsed": false,
    "ExecuteTime": {
     "end_time": "2023-07-31T20:36:18.652027Z",
     "start_time": "2023-07-31T20:36:18.646715Z"
    }
   },
   "id": "a2b71fc23f17dcd9"
  },
  {
   "cell_type": "code",
   "execution_count": 14,
   "outputs": [
    {
     "data": {
      "text/plain": "             id     nclass       math    english    science\ncount  20.00000  20.000000  20.000000  20.000000  20.000000\nmean   10.50000   3.000000  57.450000  84.900000  59.450000\nstd     5.91608   1.450953  20.299015  12.875517  25.292968\nmin     1.00000   1.000000  20.000000  56.000000  12.000000\n25%     5.75000   2.000000  45.750000  78.000000  45.000000\n50%    10.50000   3.000000  54.000000  86.500000  62.500000\n75%    15.25000   4.000000  75.750000  98.000000  78.000000\nmax    20.00000   5.000000  90.000000  98.000000  98.000000",
      "text/html": "<div>\n<style scoped>\n    .dataframe tbody tr th:only-of-type {\n        vertical-align: middle;\n    }\n\n    .dataframe tbody tr th {\n        vertical-align: top;\n    }\n\n    .dataframe thead th {\n        text-align: right;\n    }\n</style>\n<table border=\"1\" class=\"dataframe\">\n  <thead>\n    <tr style=\"text-align: right;\">\n      <th></th>\n      <th>id</th>\n      <th>nclass</th>\n      <th>math</th>\n      <th>english</th>\n      <th>science</th>\n    </tr>\n  </thead>\n  <tbody>\n    <tr>\n      <th>count</th>\n      <td>20.00000</td>\n      <td>20.000000</td>\n      <td>20.000000</td>\n      <td>20.000000</td>\n      <td>20.000000</td>\n    </tr>\n    <tr>\n      <th>mean</th>\n      <td>10.50000</td>\n      <td>3.000000</td>\n      <td>57.450000</td>\n      <td>84.900000</td>\n      <td>59.450000</td>\n    </tr>\n    <tr>\n      <th>std</th>\n      <td>5.91608</td>\n      <td>1.450953</td>\n      <td>20.299015</td>\n      <td>12.875517</td>\n      <td>25.292968</td>\n    </tr>\n    <tr>\n      <th>min</th>\n      <td>1.00000</td>\n      <td>1.000000</td>\n      <td>20.000000</td>\n      <td>56.000000</td>\n      <td>12.000000</td>\n    </tr>\n    <tr>\n      <th>25%</th>\n      <td>5.75000</td>\n      <td>2.000000</td>\n      <td>45.750000</td>\n      <td>78.000000</td>\n      <td>45.000000</td>\n    </tr>\n    <tr>\n      <th>50%</th>\n      <td>10.50000</td>\n      <td>3.000000</td>\n      <td>54.000000</td>\n      <td>86.500000</td>\n      <td>62.500000</td>\n    </tr>\n    <tr>\n      <th>75%</th>\n      <td>15.25000</td>\n      <td>4.000000</td>\n      <td>75.750000</td>\n      <td>98.000000</td>\n      <td>78.000000</td>\n    </tr>\n    <tr>\n      <th>max</th>\n      <td>20.00000</td>\n      <td>5.000000</td>\n      <td>90.000000</td>\n      <td>98.000000</td>\n      <td>98.000000</td>\n    </tr>\n  </tbody>\n</table>\n</div>"
     },
     "execution_count": 14,
     "metadata": {},
     "output_type": "execute_result"
    }
   ],
   "source": [
    "#요약 통계량\n",
    "# count = 빈도\n",
    "# mean = 평균\n",
    "# std = 표균편차\n",
    "# mib = 최소값\n",
    "# 25% = 하위 25%\n",
    "# 50% = 하위 70%\n",
    "# 70% = 하위 75%\n",
    "# max = 최대값\n",
    "exam.describe()\n"
   ],
   "metadata": {
    "collapsed": false,
    "ExecuteTime": {
     "end_time": "2023-08-02T09:25:47.913835Z",
     "start_time": "2023-08-02T09:25:47.893074Z"
    }
   },
   "id": "bd146c8eed24557d"
  },
  {
   "cell_type": "code",
   "execution_count": null,
   "outputs": [],
   "source": [],
   "metadata": {
    "collapsed": false
   },
   "id": "1af9f3baddb3ea46"
  }
 ],
 "metadata": {
  "kernelspec": {
   "display_name": "Python 3",
   "language": "python",
   "name": "python3"
  },
  "language_info": {
   "codemirror_mode": {
    "name": "ipython",
    "version": 2
   },
   "file_extension": ".py",
   "mimetype": "text/x-python",
   "name": "python",
   "nbconvert_exporter": "python",
   "pygments_lexer": "ipython2",
   "version": "2.7.6"
  }
 },
 "nbformat": 4,
 "nbformat_minor": 5
}
