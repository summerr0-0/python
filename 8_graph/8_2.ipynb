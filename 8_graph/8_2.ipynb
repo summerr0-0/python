{
 "cells": [
  {
   "cell_type": "markdown",
   "source": [],
   "metadata": {
    "collapsed": false
   },
   "id": "9b98292d729d86a0"
  },
  {
   "cell_type": "code",
   "execution_count": 2,
   "id": "initial_id",
   "metadata": {
    "collapsed": true,
    "ExecuteTime": {
     "end_time": "2023-09-13T14:21:38.140229Z",
     "start_time": "2023-09-13T14:21:38.129429Z"
    }
   },
   "outputs": [],
   "source": [
    "import pandas as pd\n",
    "\n",
    "mpg = pd.read_csv('../files/mpg.csv')"
   ]
  },
  {
   "cell_type": "code",
   "execution_count": 3,
   "outputs": [
    {
     "data": {
      "text/plain": "<Axes: xlabel='displ', ylabel='hwy'>"
     },
     "execution_count": 3,
     "metadata": {},
     "output_type": "execute_result"
    },
    {
     "data": {
      "text/plain": "<Figure size 640x480 with 1 Axes>",
      "image/png": "[encoded data removed]"
     },
     "metadata": {},
     "output_type": "display_data"
    }
   ],
   "source": [
    "#산점도 만들기\n",
    "import seaborn as sns\n",
    "\n",
    "sns.scatterplot(data=mpg, x='displ', y='hwy')"
   ],
   "metadata": {
    "collapsed": false,
    "ExecuteTime": {
     "end_time": "2023-09-13T14:21:40.963942Z",
     "start_time": "2023-09-13T14:21:40.739836Z"
    }
   },
   "id": "ed1c9138aa9b601b"
  },
  {
   "cell_type": "code",
   "execution_count": 44,
   "outputs": [
    {
     "data": {
      "text/plain": "[(3.0, 6.0)]"
     },
     "execution_count": 44,
     "metadata": {},
     "output_type": "execute_result"
    }
   ],
   "source": [
    "# xlim x축 범위 지정하기\n",
    "sns.scatterplot(data=mpg, x='displ', y='hwy') \\\n",
    "    .set(xlim=[3, 6])"
   ],
   "metadata": {
    "collapsed": false,
    "ExecuteTime": {
     "end_time": "2023-08-16T22:20:42.592326Z",
     "start_time": "2023-08-16T22:20:42.586266Z"
    }
   },
   "id": "9d2b88e8862d5100"
  },
  {
   "cell_type": "code",
   "execution_count": 45,
   "outputs": [
    {
     "data": {
      "text/plain": "[(3.0, 6.0), (10.0, 30.0)]"
     },
     "execution_count": 45,
     "metadata": {},
     "output_type": "execute_result"
    }
   ],
   "source": [
    "#Y축 범위지정\n",
    "sns.scatterplot(data=mpg, x='displ', y='hwy') \\\n",
    "    .set(xlim=[3, 6], ylim=[10, 30])"
   ],
   "metadata": {
    "collapsed": false,
    "ExecuteTime": {
     "end_time": "2023-08-16T22:20:43.436819Z",
     "start_time": "2023-08-16T22:20:43.412228Z"
    }
   },
   "id": "69c49b5b247b7a79"
  },
  {
   "cell_type": "code",
   "execution_count": 46,
   "outputs": [
    {
     "data": {
      "text/plain": "<Axes: xlabel='displ', ylabel='hwy'>"
     },
     "execution_count": 46,
     "metadata": {},
     "output_type": "execute_result"
    }
   ],
   "source": [
    "#drv(구동방식) 에 따라 색깔 다르게 표현\n",
    "sns.scatterplot(data=mpg, x='displ', y='hwy', hue='drv')"
   ],
   "metadata": {
    "collapsed": false,
    "ExecuteTime": {
     "end_time": "2023-08-16T22:20:44.931069Z",
     "start_time": "2023-08-16T22:20:44.919757Z"
    }
   },
   "id": "d9e83289f85576da"
  },
  {
   "cell_type": "code",
   "execution_count": null,
   "outputs": [],
   "source": [
    "#그래프 설정 바꾸기\n",
    "import matplotlib.pyplot as plt\n",
    "\n",
    "# 해상도, 기본값 72\n",
    "# 그림 크기, 기본값 [6, 4]\n",
    "# 글자 크기, 기본값 10\n",
    "# 폰트, 기본값 sans-serif\n",
    "\n",
    "plt.rcParams.update({'figure.dpi'     : '150',  \n",
    "                     'figure.figsize' : [8, 6],\n",
    "                     'font.size'      : '15',\n",
    "                     'font.family'    : 'Malgun Gothic'})"
   ],
   "metadata": {
    "collapsed": false
   },
   "id": "bc2cac799c27b08c"
  },
  {
   "cell_type": "code",
   "execution_count": null,
   "outputs": [],
   "source": [
    "# 모든 설정 되돌리기\n",
    "# plt.rcParams.update(plt.rcParamsDefault)"
   ],
   "metadata": {
    "collapsed": false
   },
   "id": "44e1cf8bfa39d0dd"
  },
  {
   "cell_type": "code",
   "execution_count": null,
   "outputs": [],
   "source": [
    "#그래프 뒤에 ; 를 붙이면 <AxesSubplot ... 설명이 나오지 않는다\n",
    "sns.scatterplot(data = mpg, x = 'displ', y = 'hwy');"
   ],
   "metadata": {
    "collapsed": false
   },
   "id": "8be093ff1f098d3f"
  },
  {
   "cell_type": "code",
   "execution_count": null,
   "outputs": [],
   "source": [],
   "metadata": {
    "collapsed": false
   },
   "id": "9f212bc6647ec564"
  }
 ],
 "metadata": {
  "kernelspec": {
   "display_name": "Python 3",
   "language": "python",
   "name": "python3"
  },
  "language_info": {
   "codemirror_mode": {
    "name": "ipython",
    "version": 2
   },
   "file_extension": ".py",
   "mimetype": "text/x-python",
   "name": "python",
   "nbconvert_exporter": "python",
   "pygments_lexer": "ipython2",
   "version": "2.7.6"
  }
 },
 "nbformat": 4,
 "nbformat_minor": 5
}
