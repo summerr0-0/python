#%%
import pandas as pd
import seaborn as sns

mpg = pd.read_csv('mpg.csv')
#%%
#평균
df_mpg = mpg.groupby('drv') \
    .agg(mean_hwy=('hwy', 'mean'))
df_mpg
#%%
#drv별 그룹, hwy 평균
df_mpg = mpg.groupby('drv', as_index=False) \
    .agg(mean_hwy=('hwy', 'mean'))
df_mpg
#%%
#막대그래프
sns.barplot(data=df_mpg, x='drv', y='mean_hwy')
#%%
# 정렬
df_mpg = df_mpg.sort_values('mean_hwy', ascending=False)

# 정렬된 막대 그래프 만들기
sns.barplot(data=df_mpg, x='drv', y='mean_hwy')
#%%
# 구동방식별 빈도
df_mpg = mpg.groupby('drv', as_index=False) \
    .agg(n=('drv', 'count'))

df_mpg
#%%
#barplot - 막대 그래프 만들기
sns.barplot(data=df_mpg, x='drv', y='n')
#%%
#countplot - 빈도 막대 그래프 만들기
sns.countplot(data = mpg, x = 'drv')
#%%
#drv의 고유값 출력
mpg['drv'].unique()
#%%
#df_mpg와 mgp의 순서가 다른이유 -> groupby를 하면 알파벳 순으로 바뀐다

df_mpg['drv'].unique()
#%%
#막대 정렬
sns.countplot(data = mpg, x = 'drv', order = ['4', 'f', 'r'])
#%%
#drv 빈도순으로 출력
mpg['drv'].value_counts().index
#%%
# drv 빈도순으로 막대 정렬
sns.countplot(data = mpg, x = 'drv', order = mpg['drv'].value_counts().index)
#%%
#