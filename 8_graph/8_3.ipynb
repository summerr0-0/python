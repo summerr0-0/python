{
 "cells": [
  {
   "cell_type": "code",
   "execution_count": 2,
   "id": "initial_id",
   "metadata": {
    "collapsed": true,
    "ExecuteTime": {
     "end_time": "2023-08-16T22:26:40.543970Z",
     "start_time": "2023-08-16T22:26:40.537533Z"
    }
   },
   "outputs": [],
   "source": [
    "import pandas as pd\n",
    "import seaborn as sns\n"
   ]
  },
  {
   "cell_type": "code",
   "execution_count": 4,
   "outputs": [],
   "source": [
    "mpg = pd.read_csv('../files/mpg.csv')"
   ],
   "metadata": {
    "collapsed": false,
    "ExecuteTime": {
     "end_time": "2023-08-16T22:26:50.435279Z",
     "start_time": "2023-08-16T22:26:50.430280Z"
    }
   },
   "id": "a19e52a3b20643ee"
  },
  {
   "cell_type": "code",
   "execution_count": 5,
   "outputs": [
    {
     "data": {
      "text/plain": "      mean_hwy\ndrv           \n4    19.174757\nf    28.160377\nr    21.000000",
      "text/html": "<div>\n<style scoped>\n    .dataframe tbody tr th:only-of-type {\n        vertical-align: middle;\n    }\n\n    .dataframe tbody tr th {\n        vertical-align: top;\n    }\n\n    .dataframe thead th {\n        text-align: right;\n    }\n</style>\n<table border=\"1\" class=\"dataframe\">\n  <thead>\n    <tr style=\"text-align: right;\">\n      <th></th>\n      <th>mean_hwy</th>\n    </tr>\n    <tr>\n      <th>drv</th>\n      <th></th>\n    </tr>\n  </thead>\n  <tbody>\n    <tr>\n      <th>4</th>\n      <td>19.174757</td>\n    </tr>\n    <tr>\n      <th>f</th>\n      <td>28.160377</td>\n    </tr>\n    <tr>\n      <th>r</th>\n      <td>21.000000</td>\n    </tr>\n  </tbody>\n</table>\n</div>"
     },
     "execution_count": 5,
     "metadata": {},
     "output_type": "execute_result"
    }
   ],
   "source": [
    "#평균\n",
    "df_mpg = mpg.groupby('drv') \\\n",
    "    .agg(mean_hwy=('hwy', 'mean'))\n",
    "df_mpg"
   ],
   "metadata": {
    "collapsed": false,
    "ExecuteTime": {
     "end_time": "2023-08-16T22:26:58.780114Z",
     "start_time": "2023-08-16T22:26:58.763322Z"
    }
   },
   "id": "77a733fea22de5b3"
  },
  {
   "cell_type": "code",
   "execution_count": 6,
   "outputs": [
    {
     "data": {
      "text/plain": "  drv   mean_hwy\n0   4  19.174757\n1   f  28.160377\n2   r  21.000000",
      "text/html": "<div>\n<style scoped>\n    .dataframe tbody tr th:only-of-type {\n        vertical-align: middle;\n    }\n\n    .dataframe tbody tr th {\n        vertical-align: top;\n    }\n\n    .dataframe thead th {\n        text-align: right;\n    }\n</style>\n<table border=\"1\" class=\"dataframe\">\n  <thead>\n    <tr style=\"text-align: right;\">\n      <th></th>\n      <th>drv</th>\n      <th>mean_hwy</th>\n    </tr>\n  </thead>\n  <tbody>\n    <tr>\n      <th>0</th>\n      <td>4</td>\n      <td>19.174757</td>\n    </tr>\n    <tr>\n      <th>1</th>\n      <td>f</td>\n      <td>28.160377</td>\n    </tr>\n    <tr>\n      <th>2</th>\n      <td>r</td>\n      <td>21.000000</td>\n    </tr>\n  </tbody>\n</table>\n</div>"
     },
     "execution_count": 6,
     "metadata": {},
     "output_type": "execute_result"
    }
   ],
   "source": [
    "#drv별 그룹, hwy 평균\n",
    "df_mpg = mpg.groupby('drv', as_index=False) \\\n",
    "    .agg(mean_hwy=('hwy', 'mean'))\n",
    "df_mpg"
   ],
   "metadata": {
    "collapsed": false,
    "ExecuteTime": {
     "end_time": "2023-08-16T22:27:05.022563Z",
     "start_time": "2023-08-16T22:27:05.016931Z"
    }
   },
   "id": "f4621df2a3b0bbfd"
  },
  {
   "cell_type": "code",
   "execution_count": 7,
   "outputs": [
    {
     "data": {
      "text/plain": "<Axes: xlabel='drv', ylabel='mean_hwy'>"
     },
     "execution_count": 7,
     "metadata": {},
     "output_type": "execute_result"
    },
    {
     "data": {
      "text/plain": "<Figure size 640x480 with 1 Axes>",
      "image/png": "[encoded data removed]"
     },
     "metadata": {},
     "output_type": "display_data"
    }
   ],
   "source": [
    "#막대그래프\n",
    "sns.barplot(data=df_mpg, x='drv', y='mean_hwy')"
   ],
   "metadata": {
    "collapsed": false,
    "ExecuteTime": {
     "end_time": "2023-08-16T22:27:15.511746Z",
     "start_time": "2023-08-16T22:27:15.430064Z"
    }
   },
   "id": "6a3763d13bc4ff4c"
  },
  {
   "cell_type": "code",
   "execution_count": 8,
   "outputs": [],
   "source": [
    "# 정렬\n",
    "df_mpg = df_mpg.sort_values('mean_hwy', ascending=False)"
   ],
   "metadata": {
    "collapsed": false,
    "ExecuteTime": {
     "end_time": "2023-08-16T22:27:20.120436Z",
     "start_time": "2023-08-16T22:27:20.114356Z"
    }
   },
   "id": "ec9dd76872850693"
  },
  {
   "cell_type": "code",
   "execution_count": 9,
   "outputs": [
    {
     "data": {
      "text/plain": "<Axes: xlabel='drv', ylabel='mean_hwy'>"
     },
     "execution_count": 9,
     "metadata": {},
     "output_type": "execute_result"
    },
    {
     "data": {
      "text/plain": "<Figure size 640x480 with 1 Axes>",
      "image/png": "[encoded data removed]"
     },
     "metadata": {},
     "output_type": "display_data"
    }
   ],
   "source": [
    "# 정렬된 막대 그래프 만들기\n",
    "sns.barplot(data=df_mpg, x='drv', y='mean_hwy')"
   ],
   "metadata": {
    "collapsed": false,
    "ExecuteTime": {
     "end_time": "2023-08-16T22:27:26.696290Z",
     "start_time": "2023-08-16T22:27:26.630611Z"
    }
   },
   "id": "eb2184abc0a13000"
  },
  {
   "cell_type": "code",
   "execution_count": 10,
   "outputs": [
    {
     "data": {
      "text/plain": "  drv    n\n0   4  103\n1   f  106\n2   r   25",
      "text/html": "<div>\n<style scoped>\n    .dataframe tbody tr th:only-of-type {\n        vertical-align: middle;\n    }\n\n    .dataframe tbody tr th {\n        vertical-align: top;\n    }\n\n    .dataframe thead th {\n        text-align: right;\n    }\n</style>\n<table border=\"1\" class=\"dataframe\">\n  <thead>\n    <tr style=\"text-align: right;\">\n      <th></th>\n      <th>drv</th>\n      <th>n</th>\n    </tr>\n  </thead>\n  <tbody>\n    <tr>\n      <th>0</th>\n      <td>4</td>\n      <td>103</td>\n    </tr>\n    <tr>\n      <th>1</th>\n      <td>f</td>\n      <td>106</td>\n    </tr>\n    <tr>\n      <th>2</th>\n      <td>r</td>\n      <td>25</td>\n    </tr>\n  </tbody>\n</table>\n</div>"
     },
     "execution_count": 10,
     "metadata": {},
     "output_type": "execute_result"
    }
   ],
   "source": [
    "# 구동방식별 빈도\n",
    "df_mpg = mpg.groupby('drv', as_index=False) \\\n",
    "    .agg(n=('drv', 'count'))\n",
    "\n",
    "df_mpg"
   ],
   "metadata": {
    "collapsed": false,
    "ExecuteTime": {
     "end_time": "2023-08-16T22:27:31.514313Z",
     "start_time": "2023-08-16T22:27:31.505918Z"
    }
   },
   "id": "c81d3718b1669b2d"
  },
  {
   "cell_type": "code",
   "execution_count": 11,
   "outputs": [
    {
     "data": {
      "text/plain": "<Axes: xlabel='drv', ylabel='n'>"
     },
     "execution_count": 11,
     "metadata": {},
     "output_type": "execute_result"
    },
    {
     "data": {
      "text/plain": "<Figure size 640x480 with 1 Axes>",
      "image/png": "[encoded data removed]"
     },
     "metadata": {},
     "output_type": "display_data"
    }
   ],
   "source": [
    "#barplot - 막대 그래프 만들기\n",
    "sns.barplot(data=df_mpg, x='drv', y='n')"
   ],
   "metadata": {
    "collapsed": false,
    "ExecuteTime": {
     "end_time": "2023-08-16T22:27:37.003802Z",
     "start_time": "2023-08-16T22:27:36.938918Z"
    }
   },
   "id": "bf0bf3c89c110b68"
  },
  {
   "cell_type": "code",
   "execution_count": 12,
   "outputs": [
    {
     "data": {
      "text/plain": "<Axes: xlabel='drv', ylabel='count'>"
     },
     "execution_count": 12,
     "metadata": {},
     "output_type": "execute_result"
    },
    {
     "data": {
      "text/plain": "<Figure size 640x480 with 1 Axes>",
      "image/png": "[encoded data removed]"
     },
     "metadata": {},
     "output_type": "display_data"
    }
   ],
   "source": [
    "#countplot - 빈도 막대 그래프 만들기\n",
    "sns.countplot(data=mpg, x='drv')"
   ],
   "metadata": {
    "collapsed": false,
    "ExecuteTime": {
     "end_time": "2023-08-16T22:27:42.081124Z",
     "start_time": "2023-08-16T22:27:42.017728Z"
    }
   },
   "id": "65b95b8a0b049dda"
  },
  {
   "cell_type": "code",
   "execution_count": 13,
   "outputs": [
    {
     "data": {
      "text/plain": "array(['f', '4', 'r'], dtype=object)"
     },
     "execution_count": 13,
     "metadata": {},
     "output_type": "execute_result"
    }
   ],
   "source": [
    "#drv의 고유값 출력\n",
    "mpg['drv'].unique()"
   ],
   "metadata": {
    "collapsed": false,
    "ExecuteTime": {
     "end_time": "2023-08-16T22:27:45.782011Z",
     "start_time": "2023-08-16T22:27:45.775866Z"
    }
   },
   "id": "f27786c7973a57f2"
  },
  {
   "cell_type": "code",
   "execution_count": 14,
   "outputs": [
    {
     "data": {
      "text/plain": "array(['4', 'f', 'r'], dtype=object)"
     },
     "execution_count": 14,
     "metadata": {},
     "output_type": "execute_result"
    }
   ],
   "source": [
    "#df_mpg와 mgp의 순서가 다른이유 -> groupby를 하면 알파벳 순으로 바뀐다\n",
    "\n",
    "df_mpg['drv'].unique()"
   ],
   "metadata": {
    "collapsed": false,
    "ExecuteTime": {
     "end_time": "2023-08-16T22:27:50.975387Z",
     "start_time": "2023-08-16T22:27:50.969330Z"
    }
   },
   "id": "7f5ee56ea01f8a64"
  },
  {
   "cell_type": "markdown",
   "source": [],
   "metadata": {
    "collapsed": false
   },
   "id": "9c152078e63eb561"
  },
  {
   "cell_type": "code",
   "execution_count": 15,
   "outputs": [
    {
     "data": {
      "text/plain": "<Axes: xlabel='drv', ylabel='count'>"
     },
     "execution_count": 15,
     "metadata": {},
     "output_type": "execute_result"
    },
    {
     "data": {
      "text/plain": "<Figure size 640x480 with 1 Axes>",
      "image/png": "[encoded data removed]"
     },
     "metadata": {},
     "output_type": "display_data"
    }
   ],
   "source": [
    "#막대 정렬\n",
    "sns.countplot(data=mpg, x='drv', order=['4', 'f', 'r'])"
   ],
   "metadata": {
    "collapsed": false,
    "ExecuteTime": {
     "end_time": "2023-08-16T22:28:02.910482Z",
     "start_time": "2023-08-16T22:28:02.849415Z"
    }
   },
   "id": "7663909a7f7a8a9a"
  },
  {
   "cell_type": "code",
   "execution_count": 16,
   "outputs": [
    {
     "data": {
      "text/plain": "Index(['f', '4', 'r'], dtype='object', name='drv')"
     },
     "execution_count": 16,
     "metadata": {},
     "output_type": "execute_result"
    }
   ],
   "source": [
    "#drv 빈도순으로 출력\n",
    "mpg['drv'].value_counts().index"
   ],
   "metadata": {
    "collapsed": false,
    "ExecuteTime": {
     "end_time": "2023-08-16T22:28:10.826207Z",
     "start_time": "2023-08-16T22:28:10.819742Z"
    }
   },
   "id": "2a79b9b9abbaf609"
  },
  {
   "cell_type": "code",
   "execution_count": 17,
   "outputs": [
    {
     "data": {
      "text/plain": "<Axes: xlabel='drv', ylabel='count'>"
     },
     "execution_count": 17,
     "metadata": {},
     "output_type": "execute_result"
    },
    {
     "data": {
      "text/plain": "<Figure size 640x480 with 1 Axes>",
      "image/png": "[encoded data removed]"
     },
     "metadata": {},
     "output_type": "display_data"
    }
   ],
   "source": [
    "# drv 빈도순으로 막대 정렬\n",
    "sns.countplot(data = mpg, x = 'drv', order = mpg['drv'].value_counts().index)"
   ],
   "metadata": {
    "collapsed": false,
    "ExecuteTime": {
     "end_time": "2023-08-16T22:28:16.249834Z",
     "start_time": "2023-08-16T22:28:16.189097Z"
    }
   },
   "id": "bbff5811bd9b9fde"
  },
  {
   "cell_type": "code",
   "execution_count": null,
   "outputs": [],
   "source": [],
   "metadata": {
    "collapsed": false
   },
   "id": "9577310c13d46ceb"
  }
 ],
 "metadata": {
  "kernelspec": {
   "display_name": "Python 3",
   "language": "python",
   "name": "python3"
  },
  "language_info": {
   "codemirror_mode": {
    "name": "ipython",
    "version": 2
   },
   "file_extension": ".py",
   "mimetype": "text/x-python",
   "name": "python",
   "nbconvert_exporter": "python",
   "pygments_lexer": "ipython2",
   "version": "2.7.6"
  }
 },
 "nbformat": 4,
 "nbformat_minor": 5
}
