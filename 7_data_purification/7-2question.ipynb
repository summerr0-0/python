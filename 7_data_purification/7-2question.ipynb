{
 "cells": [
  {
   "cell_type": "code",
   "execution_count": 10,
   "id": "initial_id",
   "metadata": {
    "collapsed": true,
    "ExecuteTime": {
     "end_time": "2023-08-10T01:16:05.271856Z",
     "start_time": "2023-08-10T01:16:05.259263Z"
    }
   },
   "outputs": [],
   "source": [
    "import numpy as np\n",
    "import pandas as pd\n",
    "import seaborn as sns"
   ]
  },
  {
   "cell_type": "code",
   "execution_count": 4,
   "outputs": [],
   "source": [
    "#데이터\n",
    "mpg = pd.read_csv('../files/mpg.csv')                        \n",
    "mpg.loc[[9, 13, 57, 92], 'drv'] = 'k'               \n",
    "mpg.loc[[28, 42, 128, 202], 'cty'] = [3, 4, 39, 42]"
   ],
   "metadata": {
    "collapsed": false,
    "ExecuteTime": {
     "end_time": "2023-08-10T01:12:19.529417Z",
     "start_time": "2023-08-10T01:12:19.504776Z"
    }
   },
   "id": "c68d0b76e24a9668"
  },
  {
   "cell_type": "code",
   "execution_count": 8,
   "outputs": [
    {
     "data": {
      "text/plain": "k      4\nr     24\n4    100\nf    106\nName: drv, dtype: int64"
     },
     "execution_count": 8,
     "metadata": {},
     "output_type": "execute_result"
    }
   ],
   "source": [
    "#drv에 이상치가 잇는지 확인\n",
    "\n",
    "mpg['drv'].value_counts().sort_values()\n",
    "\n",
    "#k 이상한 값이 있는걸 확인"
   ],
   "metadata": {
    "collapsed": false,
    "ExecuteTime": {
     "end_time": "2023-08-10T01:14:39.842738Z",
     "start_time": "2023-08-10T01:14:39.840125Z"
    }
   },
   "id": "ecf9d00b88cf3f4"
  },
  {
   "cell_type": "code",
   "execution_count": 11,
   "outputs": [],
   "source": [
    "mpg['drv'] = np.where(mpg['drv'].isin(['r','4','f']),mpg['drv'],np.nan)"
   ],
   "metadata": {
    "collapsed": false,
    "ExecuteTime": {
     "end_time": "2023-08-10T01:16:07.483489Z",
     "start_time": "2023-08-10T01:16:07.474566Z"
    }
   },
   "id": "5f60cddefc52cb36"
  },
  {
   "cell_type": "code",
   "execution_count": 12,
   "outputs": [
    {
     "data": {
      "text/plain": "r     24\n4    100\nf    106\nName: drv, dtype: int64"
     },
     "execution_count": 12,
     "metadata": {},
     "output_type": "execute_result"
    }
   ],
   "source": [
    "#이상치 없어진거 확인\n",
    "mpg['drv'].value_counts().sort_values()"
   ],
   "metadata": {
    "collapsed": false,
    "ExecuteTime": {
     "end_time": "2023-08-10T01:16:20.503553Z",
     "start_time": "2023-08-10T01:16:20.501859Z"
    }
   },
   "id": "f56937590a405f4f"
  },
  {
   "cell_type": "code",
   "execution_count": 14,
   "outputs": [
    {
     "data": {
      "text/plain": "<Axes: ylabel='cty'>"
     },
     "execution_count": 14,
     "metadata": {},
     "output_type": "execute_result"
    },
    {
     "data": {
      "text/plain": "<Figure size 640x480 with 1 Axes>",
      "image/png": "[encoded data removed]"
     },
     "metadata": {},
     "output_type": "display_data"
    }
   ],
   "source": [
    "#상자그림에 cty에 이상치 있는지 확인\n",
    "sns.boxplot(data = mpg, y = 'cty')"
   ],
   "metadata": {
    "collapsed": false,
    "ExecuteTime": {
     "end_time": "2023-08-10T01:17:48.403267Z",
     "start_time": "2023-08-10T01:17:48.361606Z"
    }
   },
   "id": "c80e3bd3ec3182b6"
  },
  {
   "cell_type": "code",
   "execution_count": 15,
   "outputs": [
    {
     "data": {
      "text/plain": "14.0"
     },
     "execution_count": 15,
     "metadata": {},
     "output_type": "execute_result"
    }
   ],
   "source": [
    "#극단치 기준값 구하기\n",
    "#하위 25퍼\n",
    "pct25 = mpg['cty'].quantile(.25)\n",
    "pct25"
   ],
   "metadata": {
    "collapsed": false,
    "ExecuteTime": {
     "end_time": "2023-08-10T01:18:06.658021Z",
     "start_time": "2023-08-10T01:18:06.657658Z"
    }
   },
   "id": "99cf302c8ea5d07f"
  },
  {
   "cell_type": "code",
   "execution_count": 17,
   "outputs": [
    {
     "data": {
      "text/plain": "19.0"
     },
     "execution_count": 17,
     "metadata": {},
     "output_type": "execute_result"
    }
   ],
   "source": [
    "#하위 75퍼\n",
    "pct75 = mpg['cty'].quantile(.75)\n",
    "pct75"
   ],
   "metadata": {
    "collapsed": false,
    "ExecuteTime": {
     "end_time": "2023-08-10T01:18:27.563229Z",
     "start_time": "2023-08-10T01:18:27.555926Z"
    }
   },
   "id": "90df25fe87b7b582"
  },
  {
   "cell_type": "code",
   "execution_count": 18,
   "outputs": [
    {
     "data": {
      "text/plain": "5.0"
     },
     "execution_count": 18,
     "metadata": {},
     "output_type": "execute_result"
    }
   ],
   "source": [
    "#iqr - 사분위 범위\n",
    "iqr = pct75 - pct25\n",
    "iqr"
   ],
   "metadata": {
    "collapsed": false,
    "ExecuteTime": {
     "end_time": "2023-08-10T01:18:34.410774Z",
     "start_time": "2023-08-10T01:18:34.401869Z"
    }
   },
   "id": "c89aa9847240bec0"
  },
  {
   "cell_type": "code",
   "execution_count": 27,
   "outputs": [
    {
     "data": {
      "text/plain": "6.5"
     },
     "execution_count": 27,
     "metadata": {},
     "output_type": "execute_result"
    }
   ],
   "source": [
    "#하한 극단치\n",
    "d = pct25 - 1.5 * iqr\n",
    "d"
   ],
   "metadata": {
    "collapsed": false,
    "ExecuteTime": {
     "end_time": "2023-08-10T01:23:29.549998Z",
     "start_time": "2023-08-10T01:23:29.536331Z"
    }
   },
   "id": "4dad305c657a04ff"
  },
  {
   "cell_type": "code",
   "execution_count": 29,
   "outputs": [
    {
     "data": {
      "text/plain": "26.5"
     },
     "execution_count": 29,
     "metadata": {},
     "output_type": "execute_result"
    }
   ],
   "source": [
    "#상한 극단치\n",
    "u = pct75 + 1.5 * iqr\n",
    "u"
   ],
   "metadata": {
    "collapsed": false,
    "ExecuteTime": {
     "end_time": "2023-08-10T01:23:34.715741Z",
     "start_time": "2023-08-10T01:23:34.699839Z"
    }
   },
   "id": "870ea9aa1edf3b1d"
  },
  {
   "cell_type": "code",
   "execution_count": 30,
   "outputs": [],
   "source": [
    "mpg['cty'] = np.where((mpg['cty'] < d) | (mpg['cty'] > u), np.nan, mpg['cty'])"
   ],
   "metadata": {
    "collapsed": false,
    "ExecuteTime": {
     "end_time": "2023-08-10T01:23:41.774436Z",
     "start_time": "2023-08-10T01:23:41.771275Z"
    }
   },
   "id": "68c6e95c4885c72d"
  },
  {
   "cell_type": "code",
   "execution_count": 31,
   "outputs": [
    {
     "data": {
      "text/plain": "9"
     },
     "execution_count": 31,
     "metadata": {},
     "output_type": "execute_result"
    }
   ],
   "source": [
    "mpg['cty'].isna().sum()"
   ],
   "metadata": {
    "collapsed": false,
    "ExecuteTime": {
     "end_time": "2023-08-10T01:23:45.923461Z",
     "start_time": "2023-08-10T01:23:45.912635Z"
    }
   },
   "id": "c13b7915fb1002cb"
  },
  {
   "cell_type": "code",
   "execution_count": 34,
   "outputs": [
    {
     "data": {
      "text/plain": "<Axes: ylabel='cty'>"
     },
     "execution_count": 34,
     "metadata": {},
     "output_type": "execute_result"
    },
    {
     "data": {
      "text/plain": "<Figure size 640x480 with 1 Axes>",
      "image/png": "[encoded data removed]"
     },
     "metadata": {},
     "output_type": "display_data"
    }
   ],
   "source": [
    "#이상치 제거 후 상자그리기\n",
    "sns.boxplot(data = mpg, y = 'cty')"
   ],
   "metadata": {
    "collapsed": false,
    "ExecuteTime": {
     "end_time": "2023-08-10T01:25:38.801545Z",
     "start_time": "2023-08-10T01:25:38.747165Z"
    }
   },
   "id": "858a92c933c098c1"
  },
  {
   "cell_type": "code",
   "execution_count": 35,
   "outputs": [
    {
     "data": {
      "text/plain": "      mean_cty\ndrv           \n4    14.247423\nf    19.470000\nr    13.958333",
      "text/html": "<div>\n<style scoped>\n    .dataframe tbody tr th:only-of-type {\n        vertical-align: middle;\n    }\n\n    .dataframe tbody tr th {\n        vertical-align: top;\n    }\n\n    .dataframe thead th {\n        text-align: right;\n    }\n</style>\n<table border=\"1\" class=\"dataframe\">\n  <thead>\n    <tr style=\"text-align: right;\">\n      <th></th>\n      <th>mean_cty</th>\n    </tr>\n    <tr>\n      <th>drv</th>\n      <th></th>\n    </tr>\n  </thead>\n  <tbody>\n    <tr>\n      <th>4</th>\n      <td>14.247423</td>\n    </tr>\n    <tr>\n      <th>f</th>\n      <td>19.470000</td>\n    </tr>\n    <tr>\n      <th>r</th>\n      <td>13.958333</td>\n    </tr>\n  </tbody>\n</table>\n</div>"
     },
     "execution_count": 35,
     "metadata": {},
     "output_type": "execute_result"
    }
   ],
   "source": [
    "#drv별로 cty평균\n",
    "mpg.dropna(subset=['cty'])\\\n",
    "    .groupby('drv')\\\n",
    "    .agg(mean_cty = ('cty','mean'))"
   ],
   "metadata": {
    "collapsed": false,
    "ExecuteTime": {
     "end_time": "2023-08-10T01:25:49.119720Z",
     "start_time": "2023-08-10T01:25:49.109794Z"
    }
   },
   "id": "580dbfebc5788e39"
  },
  {
   "cell_type": "code",
   "execution_count": null,
   "outputs": [],
   "source": [],
   "metadata": {
    "collapsed": false
   },
   "id": "88482c4a762f7f5a"
  }
 ],
 "metadata": {
  "kernelspec": {
   "display_name": "Python 3",
   "language": "python",
   "name": "python3"
  },
  "language_info": {
   "codemirror_mode": {
    "name": "ipython",
    "version": 2
   },
   "file_extension": ".py",
   "mimetype": "text/x-python",
   "name": "python",
   "nbconvert_exporter": "python",
   "pygments_lexer": "ipython2",
   "version": "2.7.6"
  }
 },
 "nbformat": 4,
 "nbformat_minor": 5
}
