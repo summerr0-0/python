{
 "cells": [
  {
   "cell_type": "code",
   "execution_count": 3,
   "id": "initial_id",
   "metadata": {
    "collapsed": true,
    "ExecuteTime": {
     "end_time": "2023-08-10T00:45:33.930034Z",
     "start_time": "2023-08-10T00:45:33.928209Z"
    }
   },
   "outputs": [],
   "source": [
    "import pandas as pd\n",
    "import numpy as np"
   ]
  },
  {
   "cell_type": "code",
   "execution_count": 23,
   "outputs": [
    {
     "data": {
      "text/plain": "    manufacturer                model  displ  year  cyl       trans drv  cty  \\\n64         dodge  ram 1500 pickup 4wd    4.7  2008    8  manual(m6)   4   12   \n123         jeep   grand cherokee 4wd    3.7  2008    6    auto(l5)   4   15   \n130   land rover          range rover    4.0  1999    8    auto(l4)   4   11   \n152       nissan       pathfinder 4wd    4.0  2008    6    auto(l5)   4   14   \n211   volkswagen                  gti    2.8  1999    6  manual(m5)   f   17   \n\n     hwy fl category  \n64   NaN  r   pickup  \n123  NaN  r      suv  \n130  NaN  p      suv  \n152  NaN  p      suv  \n211  NaN  r  compact  ",
      "text/html": "<div>\n<style scoped>\n    .dataframe tbody tr th:only-of-type {\n        vertical-align: middle;\n    }\n\n    .dataframe tbody tr th {\n        vertical-align: top;\n    }\n\n    .dataframe thead th {\n        text-align: right;\n    }\n</style>\n<table border=\"1\" class=\"dataframe\">\n  <thead>\n    <tr style=\"text-align: right;\">\n      <th></th>\n      <th>manufacturer</th>\n      <th>model</th>\n      <th>displ</th>\n      <th>year</th>\n      <th>cyl</th>\n      <th>trans</th>\n      <th>drv</th>\n      <th>cty</th>\n      <th>hwy</th>\n      <th>fl</th>\n      <th>category</th>\n    </tr>\n  </thead>\n  <tbody>\n    <tr>\n      <th>64</th>\n      <td>dodge</td>\n      <td>ram 1500 pickup 4wd</td>\n      <td>4.7</td>\n      <td>2008</td>\n      <td>8</td>\n      <td>manual(m6)</td>\n      <td>4</td>\n      <td>12</td>\n      <td>NaN</td>\n      <td>r</td>\n      <td>pickup</td>\n    </tr>\n    <tr>\n      <th>123</th>\n      <td>jeep</td>\n      <td>grand cherokee 4wd</td>\n      <td>3.7</td>\n      <td>2008</td>\n      <td>6</td>\n      <td>auto(l5)</td>\n      <td>4</td>\n      <td>15</td>\n      <td>NaN</td>\n      <td>r</td>\n      <td>suv</td>\n    </tr>\n    <tr>\n      <th>130</th>\n      <td>land rover</td>\n      <td>range rover</td>\n      <td>4.0</td>\n      <td>1999</td>\n      <td>8</td>\n      <td>auto(l4)</td>\n      <td>4</td>\n      <td>11</td>\n      <td>NaN</td>\n      <td>p</td>\n      <td>suv</td>\n    </tr>\n    <tr>\n      <th>152</th>\n      <td>nissan</td>\n      <td>pathfinder 4wd</td>\n      <td>4.0</td>\n      <td>2008</td>\n      <td>6</td>\n      <td>auto(l5)</td>\n      <td>4</td>\n      <td>14</td>\n      <td>NaN</td>\n      <td>p</td>\n      <td>suv</td>\n    </tr>\n    <tr>\n      <th>211</th>\n      <td>volkswagen</td>\n      <td>gti</td>\n      <td>2.8</td>\n      <td>1999</td>\n      <td>6</td>\n      <td>manual(m5)</td>\n      <td>f</td>\n      <td>17</td>\n      <td>NaN</td>\n      <td>r</td>\n      <td>compact</td>\n    </tr>\n  </tbody>\n</table>\n</div>"
     },
     "execution_count": 23,
     "metadata": {},
     "output_type": "execute_result"
    }
   ],
   "source": [
    "mpg = pd.read_csv('../files/mpg.csv')                      \n",
    "mpg.loc[[64, 123, 130, 152, 211], 'hwy'] = np.nan\n",
    "mpg.loc[[64,123,130,152,211]]"
   ],
   "metadata": {
    "collapsed": false,
    "ExecuteTime": {
     "end_time": "2023-08-10T00:51:36.261961Z",
     "start_time": "2023-08-10T00:51:36.242323Z"
    }
   },
   "id": "c36d06691b5d6f19"
  },
  {
   "cell_type": "code",
   "execution_count": 24,
   "outputs": [
    {
     "data": {
      "text/plain": "drv    0\nhwy    5\ndtype: int64"
     },
     "execution_count": 24,
     "metadata": {},
     "output_type": "execute_result"
    }
   ],
   "source": [
    "#drv 변수와 hwy 변수에 결측치 얼마나 있는지\n",
    "mpg[['drv','hwy']].isna().sum()"
   ],
   "metadata": {
    "collapsed": false,
    "ExecuteTime": {
     "end_time": "2023-08-10T00:51:38.239158Z",
     "start_time": "2023-08-10T00:51:38.230626Z"
    }
   },
   "id": "ab4c8c9f9ce014a9"
  },
  {
   "cell_type": "code",
   "execution_count": 25,
   "outputs": [
    {
     "data": {
      "text/plain": "      mean_hwy\ndrv           \n4    19.242424\nf    28.200000\nr    21.000000",
      "text/html": "<div>\n<style scoped>\n    .dataframe tbody tr th:only-of-type {\n        vertical-align: middle;\n    }\n\n    .dataframe tbody tr th {\n        vertical-align: top;\n    }\n\n    .dataframe thead th {\n        text-align: right;\n    }\n</style>\n<table border=\"1\" class=\"dataframe\">\n  <thead>\n    <tr style=\"text-align: right;\">\n      <th></th>\n      <th>mean_hwy</th>\n    </tr>\n    <tr>\n      <th>drv</th>\n      <th></th>\n    </tr>\n  </thead>\n  <tbody>\n    <tr>\n      <th>4</th>\n      <td>19.242424</td>\n    </tr>\n    <tr>\n      <th>f</th>\n      <td>28.200000</td>\n    </tr>\n    <tr>\n      <th>r</th>\n      <td>21.000000</td>\n    </tr>\n  </tbody>\n</table>\n</div>"
     },
     "execution_count": 25,
     "metadata": {},
     "output_type": "execute_result"
    }
   ],
   "source": [
    "mpg.dropna(subset = ['hwy']) \\\n",
    "   .groupby('drv') \\\n",
    "   .agg(mean_hwy = ('hwy', 'mean'))"
   ],
   "metadata": {
    "collapsed": false,
    "ExecuteTime": {
     "end_time": "2023-08-10T00:51:40.189679Z",
     "start_time": "2023-08-10T00:51:40.168424Z"
    }
   },
   "id": "a3bce11fb3194a25"
  },
  {
   "cell_type": "code",
   "execution_count": null,
   "outputs": [],
   "source": [],
   "metadata": {
    "collapsed": false
   },
   "id": "37b37e10a7adf04a"
  }
 ],
 "metadata": {
  "kernelspec": {
   "display_name": "Python 3",
   "language": "python",
   "name": "python3"
  },
  "language_info": {
   "codemirror_mode": {
    "name": "ipython",
    "version": 2
   },
   "file_extension": ".py",
   "mimetype": "text/x-python",
   "name": "python",
   "nbconvert_exporter": "python",
   "pygments_lexer": "ipython2",
   "version": "2.7.6"
  }
 },
 "nbformat": 4,
 "nbformat_minor": 5
}
