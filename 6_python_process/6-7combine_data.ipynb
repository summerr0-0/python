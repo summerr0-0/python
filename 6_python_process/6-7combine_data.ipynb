{
 "cells": [
  {
   "cell_type": "code",
   "execution_count": 2,
   "outputs": [],
   "source": [
    "import pandas as pd"
   ],
   "metadata": {
    "collapsed": false,
    "ExecuteTime": {
     "end_time": "2023-08-09T23:50:43.334697Z",
     "start_time": "2023-08-09T23:50:42.617346Z"
    }
   },
   "id": "61a43b3342868a1f"
  },
  {
   "cell_type": "code",
   "execution_count": 4,
   "outputs": [],
   "source": [
    "# 중간고사\n",
    "test1 = pd.DataFrame({'id': [1, 2, 3, 4, 5],\n",
    "                      'midterm': [60, 80, 70, 90, 85]})\n",
    "\n",
    "# 기말고사\n",
    "test2 = pd.DataFrame({'id': [1, 2, 3, 4, 5],\n",
    "                      'final': [70, 83, 65, 95, 80]})\n"
   ],
   "metadata": {
    "collapsed": false,
    "ExecuteTime": {
     "end_time": "2023-08-09T23:50:51.933338Z",
     "start_time": "2023-08-09T23:50:51.925134Z"
    }
   },
   "id": "initial_id"
  },
  {
   "cell_type": "code",
   "execution_count": 5,
   "outputs": [
    {
     "data": {
      "text/plain": "   id  midterm\n0   1       60\n1   2       80\n2   3       70\n3   4       90\n4   5       85",
      "text/html": "<div>\n<style scoped>\n    .dataframe tbody tr th:only-of-type {\n        vertical-align: middle;\n    }\n\n    .dataframe tbody tr th {\n        vertical-align: top;\n    }\n\n    .dataframe thead th {\n        text-align: right;\n    }\n</style>\n<table border=\"1\" class=\"dataframe\">\n  <thead>\n    <tr style=\"text-align: right;\">\n      <th></th>\n      <th>id</th>\n      <th>midterm</th>\n    </tr>\n  </thead>\n  <tbody>\n    <tr>\n      <th>0</th>\n      <td>1</td>\n      <td>60</td>\n    </tr>\n    <tr>\n      <th>1</th>\n      <td>2</td>\n      <td>80</td>\n    </tr>\n    <tr>\n      <th>2</th>\n      <td>3</td>\n      <td>70</td>\n    </tr>\n    <tr>\n      <th>3</th>\n      <td>4</td>\n      <td>90</td>\n    </tr>\n    <tr>\n      <th>4</th>\n      <td>5</td>\n      <td>85</td>\n    </tr>\n  </tbody>\n</table>\n</div>"
     },
     "execution_count": 5,
     "metadata": {},
     "output_type": "execute_result"
    }
   ],
   "source": [
    "test1"
   ],
   "metadata": {
    "collapsed": false,
    "ExecuteTime": {
     "end_time": "2023-08-09T23:50:55.899994Z",
     "start_time": "2023-08-09T23:50:55.878414Z"
    }
   },
   "id": "295d723e91ac9dc1"
  },
  {
   "cell_type": "code",
   "execution_count": 6,
   "outputs": [
    {
     "data": {
      "text/plain": "   id  final\n0   1     70\n1   2     83\n2   3     65\n3   4     95\n4   5     80",
      "text/html": "<div>\n<style scoped>\n    .dataframe tbody tr th:only-of-type {\n        vertical-align: middle;\n    }\n\n    .dataframe tbody tr th {\n        vertical-align: top;\n    }\n\n    .dataframe thead th {\n        text-align: right;\n    }\n</style>\n<table border=\"1\" class=\"dataframe\">\n  <thead>\n    <tr style=\"text-align: right;\">\n      <th></th>\n      <th>id</th>\n      <th>final</th>\n    </tr>\n  </thead>\n  <tbody>\n    <tr>\n      <th>0</th>\n      <td>1</td>\n      <td>70</td>\n    </tr>\n    <tr>\n      <th>1</th>\n      <td>2</td>\n      <td>83</td>\n    </tr>\n    <tr>\n      <th>2</th>\n      <td>3</td>\n      <td>65</td>\n    </tr>\n    <tr>\n      <th>3</th>\n      <td>4</td>\n      <td>95</td>\n    </tr>\n    <tr>\n      <th>4</th>\n      <td>5</td>\n      <td>80</td>\n    </tr>\n  </tbody>\n</table>\n</div>"
     },
     "execution_count": 6,
     "metadata": {},
     "output_type": "execute_result"
    }
   ],
   "source": [
    "test2"
   ],
   "metadata": {
    "collapsed": false,
    "ExecuteTime": {
     "end_time": "2023-08-09T23:50:57.784045Z",
     "start_time": "2023-08-09T23:50:57.767218Z"
    }
   },
   "id": "dcfc2f3d0337f88a"
  },
  {
   "cell_type": "code",
   "execution_count": 7,
   "outputs": [
    {
     "data": {
      "text/plain": "   id  midterm  final\n0   1       60     70\n1   2       80     83\n2   3       70     65\n3   4       90     95\n4   5       85     80",
      "text/html": "<div>\n<style scoped>\n    .dataframe tbody tr th:only-of-type {\n        vertical-align: middle;\n    }\n\n    .dataframe tbody tr th {\n        vertical-align: top;\n    }\n\n    .dataframe thead th {\n        text-align: right;\n    }\n</style>\n<table border=\"1\" class=\"dataframe\">\n  <thead>\n    <tr style=\"text-align: right;\">\n      <th></th>\n      <th>id</th>\n      <th>midterm</th>\n      <th>final</th>\n    </tr>\n  </thead>\n  <tbody>\n    <tr>\n      <th>0</th>\n      <td>1</td>\n      <td>60</td>\n      <td>70</td>\n    </tr>\n    <tr>\n      <th>1</th>\n      <td>2</td>\n      <td>80</td>\n      <td>83</td>\n    </tr>\n    <tr>\n      <th>2</th>\n      <td>3</td>\n      <td>70</td>\n      <td>65</td>\n    </tr>\n    <tr>\n      <th>3</th>\n      <td>4</td>\n      <td>90</td>\n      <td>95</td>\n    </tr>\n    <tr>\n      <th>4</th>\n      <td>5</td>\n      <td>85</td>\n      <td>80</td>\n    </tr>\n  </tbody>\n</table>\n</div>"
     },
     "execution_count": 7,
     "metadata": {},
     "output_type": "execute_result"
    }
   ],
   "source": [
    "# id 기준으로 합치기 merge\n",
    "total = pd.merge(test1, test2, how='left', on='id')\n",
    "total\n"
   ],
   "metadata": {
    "collapsed": false,
    "ExecuteTime": {
     "end_time": "2023-08-09T23:51:06.774626Z",
     "start_time": "2023-08-09T23:51:06.751988Z"
    }
   },
   "id": "3a72cd4baa6887e1"
  },
  {
   "cell_type": "code",
   "execution_count": 10,
   "outputs": [],
   "source": [
    "exam = pd.read_csv('../files/exam.csv')"
   ],
   "metadata": {
    "collapsed": false,
    "ExecuteTime": {
     "end_time": "2023-08-09T23:52:29.793162Z",
     "start_time": "2023-08-09T23:52:29.769626Z"
    }
   },
   "id": "f276df5f557b2b15"
  },
  {
   "cell_type": "code",
   "execution_count": 8,
   "outputs": [
    {
     "data": {
      "text/plain": "   nclass teacher\n0       1     kim\n1       2     lee\n2       3    park\n3       4    choi\n4       5    jung",
      "text/html": "<div>\n<style scoped>\n    .dataframe tbody tr th:only-of-type {\n        vertical-align: middle;\n    }\n\n    .dataframe tbody tr th {\n        vertical-align: top;\n    }\n\n    .dataframe thead th {\n        text-align: right;\n    }\n</style>\n<table border=\"1\" class=\"dataframe\">\n  <thead>\n    <tr style=\"text-align: right;\">\n      <th></th>\n      <th>nclass</th>\n      <th>teacher</th>\n    </tr>\n  </thead>\n  <tbody>\n    <tr>\n      <th>0</th>\n      <td>1</td>\n      <td>kim</td>\n    </tr>\n    <tr>\n      <th>1</th>\n      <td>2</td>\n      <td>lee</td>\n    </tr>\n    <tr>\n      <th>2</th>\n      <td>3</td>\n      <td>park</td>\n    </tr>\n    <tr>\n      <th>3</th>\n      <td>4</td>\n      <td>choi</td>\n    </tr>\n    <tr>\n      <th>4</th>\n      <td>5</td>\n      <td>jung</td>\n    </tr>\n  </tbody>\n</table>\n</div>"
     },
     "execution_count": 8,
     "metadata": {},
     "output_type": "execute_result"
    }
   ],
   "source": [
    "#nclass별 teacher\n",
    "name = pd.DataFrame({'nclass': [1, 2, 3, 4, 5],\n",
    "                     'teacher': ['kim', 'lee', 'park', 'choi', 'jung']})\n",
    "name"
   ],
   "metadata": {
    "collapsed": false,
    "ExecuteTime": {
     "start_time": "2023-08-09T23:51:38.490421Z"
    }
   },
   "id": "b06c99183016009"
  },
  {
   "cell_type": "code",
   "execution_count": 11,
   "outputs": [
    {
     "data": {
      "text/plain": "    id  nclass  math  english  science teacher\n0    1       1    50       98       50     kim\n1    2       1    60       97       60     kim\n2    3       1    45       86       78     kim\n3    4       1    30       98       58     kim\n4    5       2    25       80       65     lee\n5    6       2    50       89       98     lee\n6    7       2    80       90       45     lee\n7    8       2    90       78       25     lee\n8    9       3    20       98       15    park\n9   10       3    50       98       45    park\n10  11       3    65       65       65    park\n11  12       3    45       85       32    park\n12  13       4    46       98       65    choi\n13  14       4    48       87       12    choi\n14  15       4    75       56       78    choi\n15  16       4    58       98       65    choi\n16  17       5    65       68       98    jung\n17  18       5    80       78       90    jung\n18  19       5    89       68       87    jung\n19  20       5    78       83       58    jung",
      "text/html": "<div>\n<style scoped>\n    .dataframe tbody tr th:only-of-type {\n        vertical-align: middle;\n    }\n\n    .dataframe tbody tr th {\n        vertical-align: top;\n    }\n\n    .dataframe thead th {\n        text-align: right;\n    }\n</style>\n<table border=\"1\" class=\"dataframe\">\n  <thead>\n    <tr style=\"text-align: right;\">\n      <th></th>\n      <th>id</th>\n      <th>nclass</th>\n      <th>math</th>\n      <th>english</th>\n      <th>science</th>\n      <th>teacher</th>\n    </tr>\n  </thead>\n  <tbody>\n    <tr>\n      <th>0</th>\n      <td>1</td>\n      <td>1</td>\n      <td>50</td>\n      <td>98</td>\n      <td>50</td>\n      <td>kim</td>\n    </tr>\n    <tr>\n      <th>1</th>\n      <td>2</td>\n      <td>1</td>\n      <td>60</td>\n      <td>97</td>\n      <td>60</td>\n      <td>kim</td>\n    </tr>\n    <tr>\n      <th>2</th>\n      <td>3</td>\n      <td>1</td>\n      <td>45</td>\n      <td>86</td>\n      <td>78</td>\n      <td>kim</td>\n    </tr>\n    <tr>\n      <th>3</th>\n      <td>4</td>\n      <td>1</td>\n      <td>30</td>\n      <td>98</td>\n      <td>58</td>\n      <td>kim</td>\n    </tr>\n    <tr>\n      <th>4</th>\n      <td>5</td>\n      <td>2</td>\n      <td>25</td>\n      <td>80</td>\n      <td>65</td>\n      <td>lee</td>\n    </tr>\n    <tr>\n      <th>5</th>\n      <td>6</td>\n      <td>2</td>\n      <td>50</td>\n      <td>89</td>\n      <td>98</td>\n      <td>lee</td>\n    </tr>\n    <tr>\n      <th>6</th>\n      <td>7</td>\n      <td>2</td>\n      <td>80</td>\n      <td>90</td>\n      <td>45</td>\n      <td>lee</td>\n    </tr>\n    <tr>\n      <th>7</th>\n      <td>8</td>\n      <td>2</td>\n      <td>90</td>\n      <td>78</td>\n      <td>25</td>\n      <td>lee</td>\n    </tr>\n    <tr>\n      <th>8</th>\n      <td>9</td>\n      <td>3</td>\n      <td>20</td>\n      <td>98</td>\n      <td>15</td>\n      <td>park</td>\n    </tr>\n    <tr>\n      <th>9</th>\n      <td>10</td>\n      <td>3</td>\n      <td>50</td>\n      <td>98</td>\n      <td>45</td>\n      <td>park</td>\n    </tr>\n    <tr>\n      <th>10</th>\n      <td>11</td>\n      <td>3</td>\n      <td>65</td>\n      <td>65</td>\n      <td>65</td>\n      <td>park</td>\n    </tr>\n    <tr>\n      <th>11</th>\n      <td>12</td>\n      <td>3</td>\n      <td>45</td>\n      <td>85</td>\n      <td>32</td>\n      <td>park</td>\n    </tr>\n    <tr>\n      <th>12</th>\n      <td>13</td>\n      <td>4</td>\n      <td>46</td>\n      <td>98</td>\n      <td>65</td>\n      <td>choi</td>\n    </tr>\n    <tr>\n      <th>13</th>\n      <td>14</td>\n      <td>4</td>\n      <td>48</td>\n      <td>87</td>\n      <td>12</td>\n      <td>choi</td>\n    </tr>\n    <tr>\n      <th>14</th>\n      <td>15</td>\n      <td>4</td>\n      <td>75</td>\n      <td>56</td>\n      <td>78</td>\n      <td>choi</td>\n    </tr>\n    <tr>\n      <th>15</th>\n      <td>16</td>\n      <td>4</td>\n      <td>58</td>\n      <td>98</td>\n      <td>65</td>\n      <td>choi</td>\n    </tr>\n    <tr>\n      <th>16</th>\n      <td>17</td>\n      <td>5</td>\n      <td>65</td>\n      <td>68</td>\n      <td>98</td>\n      <td>jung</td>\n    </tr>\n    <tr>\n      <th>17</th>\n      <td>18</td>\n      <td>5</td>\n      <td>80</td>\n      <td>78</td>\n      <td>90</td>\n      <td>jung</td>\n    </tr>\n    <tr>\n      <th>18</th>\n      <td>19</td>\n      <td>5</td>\n      <td>89</td>\n      <td>68</td>\n      <td>87</td>\n      <td>jung</td>\n    </tr>\n    <tr>\n      <th>19</th>\n      <td>20</td>\n      <td>5</td>\n      <td>78</td>\n      <td>83</td>\n      <td>58</td>\n      <td>jung</td>\n    </tr>\n  </tbody>\n</table>\n</div>"
     },
     "execution_count": 11,
     "metadata": {},
     "output_type": "execute_result"
    }
   ],
   "source": [
    "#class에 teacher붙이기\n",
    "exam_new = pd.merge(exam, name, how='left', on='nclass')\n",
    "exam_new"
   ],
   "metadata": {
    "collapsed": false,
    "ExecuteTime": {
     "end_time": "2023-08-09T23:52:34.193422Z",
     "start_time": "2023-08-09T23:52:34.180348Z"
    }
   },
   "id": "67dcd2d4a337788b"
  },
  {
   "cell_type": "code",
   "execution_count": 15,
   "outputs": [],
   "source": [
    "#학생12345\n",
    "group_a = pd.DataFrame({'id'   : [1, 2, 3, 4, 5],\n",
    "                        'test' : [60, 80, 70, 90, 85]})\n",
    "\n",
    "#학생678910\n",
    "group_b = pd.DataFrame({'id'   : [6, 7, 8, 9, 10],\n",
    "                        'test' : [70, 83, 65, 95, 80]})"
   ],
   "metadata": {
    "collapsed": false,
    "ExecuteTime": {
     "end_time": "2023-08-09T23:54:21.340909Z",
     "start_time": "2023-08-09T23:54:21.327895Z"
    }
   },
   "id": "9b218913053dd35d"
  },
  {
   "cell_type": "code",
   "execution_count": 13,
   "outputs": [
    {
     "data": {
      "text/plain": "   id  test\n0   1    60\n1   2    80\n2   3    70\n3   4    90\n4   5    85",
      "text/html": "<div>\n<style scoped>\n    .dataframe tbody tr th:only-of-type {\n        vertical-align: middle;\n    }\n\n    .dataframe tbody tr th {\n        vertical-align: top;\n    }\n\n    .dataframe thead th {\n        text-align: right;\n    }\n</style>\n<table border=\"1\" class=\"dataframe\">\n  <thead>\n    <tr style=\"text-align: right;\">\n      <th></th>\n      <th>id</th>\n      <th>test</th>\n    </tr>\n  </thead>\n  <tbody>\n    <tr>\n      <th>0</th>\n      <td>1</td>\n      <td>60</td>\n    </tr>\n    <tr>\n      <th>1</th>\n      <td>2</td>\n      <td>80</td>\n    </tr>\n    <tr>\n      <th>2</th>\n      <td>3</td>\n      <td>70</td>\n    </tr>\n    <tr>\n      <th>3</th>\n      <td>4</td>\n      <td>90</td>\n    </tr>\n    <tr>\n      <th>4</th>\n      <td>5</td>\n      <td>85</td>\n    </tr>\n  </tbody>\n</table>\n</div>"
     },
     "execution_count": 13,
     "metadata": {},
     "output_type": "execute_result"
    }
   ],
   "source": [
    "group_a"
   ],
   "metadata": {
    "collapsed": false,
    "ExecuteTime": {
     "end_time": "2023-08-09T23:54:08.489839Z",
     "start_time": "2023-08-09T23:54:08.460284Z"
    }
   },
   "id": "4159fc7398fd4a9f"
  },
  {
   "cell_type": "code",
   "execution_count": 16,
   "outputs": [
    {
     "data": {
      "text/plain": "   id  test\n0   6    70\n1   7    83\n2   8    65\n3   9    95\n4  10    80",
      "text/html": "<div>\n<style scoped>\n    .dataframe tbody tr th:only-of-type {\n        vertical-align: middle;\n    }\n\n    .dataframe tbody tr th {\n        vertical-align: top;\n    }\n\n    .dataframe thead th {\n        text-align: right;\n    }\n</style>\n<table border=\"1\" class=\"dataframe\">\n  <thead>\n    <tr style=\"text-align: right;\">\n      <th></th>\n      <th>id</th>\n      <th>test</th>\n    </tr>\n  </thead>\n  <tbody>\n    <tr>\n      <th>0</th>\n      <td>6</td>\n      <td>70</td>\n    </tr>\n    <tr>\n      <th>1</th>\n      <td>7</td>\n      <td>83</td>\n    </tr>\n    <tr>\n      <th>2</th>\n      <td>8</td>\n      <td>65</td>\n    </tr>\n    <tr>\n      <th>3</th>\n      <td>9</td>\n      <td>95</td>\n    </tr>\n    <tr>\n      <th>4</th>\n      <td>10</td>\n      <td>80</td>\n    </tr>\n  </tbody>\n</table>\n</div>"
     },
     "execution_count": 16,
     "metadata": {},
     "output_type": "execute_result"
    }
   ],
   "source": [
    "group_b"
   ],
   "metadata": {
    "collapsed": false,
    "ExecuteTime": {
     "end_time": "2023-08-09T23:54:23.094885Z",
     "start_time": "2023-08-09T23:54:23.084614Z"
    }
   },
   "id": "1c4b60e648281ed0"
  },
  {
   "cell_type": "code",
   "execution_count": 18,
   "outputs": [
    {
     "data": {
      "text/plain": "   id  test\n0   1    60\n1   2    80\n2   3    70\n3   4    90\n4   5    85\n0   6    70\n1   7    83\n2   8    65\n3   9    95\n4  10    80",
      "text/html": "<div>\n<style scoped>\n    .dataframe tbody tr th:only-of-type {\n        vertical-align: middle;\n    }\n\n    .dataframe tbody tr th {\n        vertical-align: top;\n    }\n\n    .dataframe thead th {\n        text-align: right;\n    }\n</style>\n<table border=\"1\" class=\"dataframe\">\n  <thead>\n    <tr style=\"text-align: right;\">\n      <th></th>\n      <th>id</th>\n      <th>test</th>\n    </tr>\n  </thead>\n  <tbody>\n    <tr>\n      <th>0</th>\n      <td>1</td>\n      <td>60</td>\n    </tr>\n    <tr>\n      <th>1</th>\n      <td>2</td>\n      <td>80</td>\n    </tr>\n    <tr>\n      <th>2</th>\n      <td>3</td>\n      <td>70</td>\n    </tr>\n    <tr>\n      <th>3</th>\n      <td>4</td>\n      <td>90</td>\n    </tr>\n    <tr>\n      <th>4</th>\n      <td>5</td>\n      <td>85</td>\n    </tr>\n    <tr>\n      <th>0</th>\n      <td>6</td>\n      <td>70</td>\n    </tr>\n    <tr>\n      <th>1</th>\n      <td>7</td>\n      <td>83</td>\n    </tr>\n    <tr>\n      <th>2</th>\n      <td>8</td>\n      <td>65</td>\n    </tr>\n    <tr>\n      <th>3</th>\n      <td>9</td>\n      <td>95</td>\n    </tr>\n    <tr>\n      <th>4</th>\n      <td>10</td>\n      <td>80</td>\n    </tr>\n  </tbody>\n</table>\n</div>"
     },
     "execution_count": 18,
     "metadata": {},
     "output_type": "execute_result"
    }
   ],
   "source": [
    "#세로로 합치기 concat\n",
    "group_all = pd.concat([group_a, group_b])\n",
    "group_all"
   ],
   "metadata": {
    "collapsed": false,
    "ExecuteTime": {
     "end_time": "2023-08-09T23:54:56.559288Z",
     "start_time": "2023-08-09T23:54:56.547723Z"
    }
   },
   "id": "137ab453057a41ab"
  },
  {
   "cell_type": "code",
   "execution_count": null,
   "outputs": [],
   "source": [],
   "metadata": {
    "collapsed": false
   },
   "id": "d1fc35affdd501d1"
  }
 ],
 "metadata": {
  "kernelspec": {
   "display_name": "Python 3",
   "language": "python",
   "name": "python3"
  },
  "language_info": {
   "codemirror_mode": {
    "name": "ipython",
    "version": 2
   },
   "file_extension": ".py",
   "mimetype": "text/x-python",
   "name": "python",
   "nbconvert_exporter": "python",
   "pygments_lexer": "ipython2",
   "version": "2.7.6"
  }
 },
 "nbformat": 4,
 "nbformat_minor": 5
}
