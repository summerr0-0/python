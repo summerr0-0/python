{
 "cells": [
  {
   "cell_type": "code",
   "execution_count": 7,
   "id": "initial_id",
   "metadata": {
    "collapsed": true,
    "ExecuteTime": {
     "end_time": "2023-08-10T00:11:35.441149Z",
     "start_time": "2023-08-10T00:11:35.417052Z"
    }
   },
   "outputs": [
    {
     "data": {
      "text/plain": "      PID     county state   area  poptotal   popdensity  popwhite  popblack  \\\n0     561      ADAMS    IL  0.052     66090  1270.961540     63917      1702   \n1     562  ALEXANDER    IL  0.014     10626   759.000000      7054      3496   \n2     563       BOND    IL  0.022     14991   681.409091     14477       429   \n3     564      BOONE    IL  0.017     30806  1812.117650     29344       127   \n4     565      BROWN    IL  0.018      5836   324.222222      5264       547   \n..    ...        ...   ...    ...       ...          ...       ...       ...   \n432  3048   WAUKESHA    WI  0.034    304715  8962.205880    298313      1096   \n433  3049    WAUPACA    WI  0.045     46104  1024.533330     45695        22   \n434  3050   WAUSHARA    WI  0.037     19385   523.918919     19094        29   \n435  3051  WINNEBAGO    WI  0.035    140320  4009.142860    136822       697   \n436  3052       WOOD    WI  0.048     73605  1533.437500     72157        90   \n\n     popamerindian  popasian  ...  percollege  percprof  poppovertyknown  \\\n0               98       249  ...   19.631392  4.355859            63628   \n1               19        48  ...   11.243308  2.870315            10529   \n2               35        16  ...   17.033819  4.488572            14235   \n3               46       150  ...   17.278954  4.197800            30337   \n4               14         5  ...   14.475999  3.367680             4815   \n..             ...       ...  ...         ...       ...              ...   \n432            672      2699  ...   35.396784  7.667090           299802   \n433            125        92  ...   16.549869  3.138596            44412   \n434             70        43  ...   15.064584  2.620907            19163   \n435            685      1728  ...   24.995504  5.659847           133950   \n436            481       722  ...   21.666382  4.583725            72685   \n\n     percpovertyknown  percbelowpoverty  percchildbelowpovert  \\\n0           96.274777         13.151443             18.011717   \n1           99.087145         32.244278             45.826514   \n2           94.956974         12.068844             14.036061   \n3           98.477569          7.209019             11.179536   \n4           82.505140         13.520249             13.022889   \n..                ...               ...                   ...   \n432         98.387674          3.121060              3.785820   \n433         96.330036          8.488697             10.071411   \n434         98.854785         13.786985             20.050708   \n435         95.460376          8.804031             10.592031   \n436         98.750085          8.525831             11.162997   \n\n     percadultpoverty  percelderlypoverty  inmetro  category  \n0           11.009776           12.443812        0       AAR  \n1           27.385647           25.228976        0       LHR  \n2           10.852090           12.697410        0       AAR  \n3            5.536013            6.217047        1       ALU  \n4           11.143211           19.200000        0       AAR  \n..                ...                 ...      ...       ...  \n432          2.590061            4.085479        1       HLU  \n433          6.953799           10.338641        0       AAR  \n434         11.695784           11.804558        0       AAR  \n435          8.660587            6.661094        1       HAU  \n436          7.375656            7.882918        0       AAR  \n\n[437 rows x 28 columns]",
      "text/html": "<div>\n<style scoped>\n    .dataframe tbody tr th:only-of-type {\n        vertical-align: middle;\n    }\n\n    .dataframe tbody tr th {\n        vertical-align: top;\n    }\n\n    .dataframe thead th {\n        text-align: right;\n    }\n</style>\n<table border=\"1\" class=\"dataframe\">\n  <thead>\n    <tr style=\"text-align: right;\">\n      <th></th>\n      <th>PID</th>\n      <th>county</th>\n      <th>state</th>\n      <th>area</th>\n      <th>poptotal</th>\n      <th>popdensity</th>\n      <th>popwhite</th>\n      <th>popblack</th>\n      <th>popamerindian</th>\n      <th>popasian</th>\n      <th>...</th>\n      <th>percollege</th>\n      <th>percprof</th>\n      <th>poppovertyknown</th>\n      <th>percpovertyknown</th>\n      <th>percbelowpoverty</th>\n      <th>percchildbelowpovert</th>\n      <th>percadultpoverty</th>\n      <th>percelderlypoverty</th>\n      <th>inmetro</th>\n      <th>category</th>\n    </tr>\n  </thead>\n  <tbody>\n    <tr>\n      <th>0</th>\n      <td>561</td>\n      <td>ADAMS</td>\n      <td>IL</td>\n      <td>0.052</td>\n      <td>66090</td>\n      <td>1270.961540</td>\n      <td>63917</td>\n      <td>1702</td>\n      <td>98</td>\n      <td>249</td>\n      <td>...</td>\n      <td>19.631392</td>\n      <td>4.355859</td>\n      <td>63628</td>\n      <td>96.274777</td>\n      <td>13.151443</td>\n      <td>18.011717</td>\n      <td>11.009776</td>\n      <td>12.443812</td>\n      <td>0</td>\n      <td>AAR</td>\n    </tr>\n    <tr>\n      <th>1</th>\n      <td>562</td>\n      <td>ALEXANDER</td>\n      <td>IL</td>\n      <td>0.014</td>\n      <td>10626</td>\n      <td>759.000000</td>\n      <td>7054</td>\n      <td>3496</td>\n      <td>19</td>\n      <td>48</td>\n      <td>...</td>\n      <td>11.243308</td>\n      <td>2.870315</td>\n      <td>10529</td>\n      <td>99.087145</td>\n      <td>32.244278</td>\n      <td>45.826514</td>\n      <td>27.385647</td>\n      <td>25.228976</td>\n      <td>0</td>\n      <td>LHR</td>\n    </tr>\n    <tr>\n      <th>2</th>\n      <td>563</td>\n      <td>BOND</td>\n      <td>IL</td>\n      <td>0.022</td>\n      <td>14991</td>\n      <td>681.409091</td>\n      <td>14477</td>\n      <td>429</td>\n      <td>35</td>\n      <td>16</td>\n      <td>...</td>\n      <td>17.033819</td>\n      <td>4.488572</td>\n      <td>14235</td>\n      <td>94.956974</td>\n      <td>12.068844</td>\n      <td>14.036061</td>\n      <td>10.852090</td>\n      <td>12.697410</td>\n      <td>0</td>\n      <td>AAR</td>\n    </tr>\n    <tr>\n      <th>3</th>\n      <td>564</td>\n      <td>BOONE</td>\n      <td>IL</td>\n      <td>0.017</td>\n      <td>30806</td>\n      <td>1812.117650</td>\n      <td>29344</td>\n      <td>127</td>\n      <td>46</td>\n      <td>150</td>\n      <td>...</td>\n      <td>17.278954</td>\n      <td>4.197800</td>\n      <td>30337</td>\n      <td>98.477569</td>\n      <td>7.209019</td>\n      <td>11.179536</td>\n      <td>5.536013</td>\n      <td>6.217047</td>\n      <td>1</td>\n      <td>ALU</td>\n    </tr>\n    <tr>\n      <th>4</th>\n      <td>565</td>\n      <td>BROWN</td>\n      <td>IL</td>\n      <td>0.018</td>\n      <td>5836</td>\n      <td>324.222222</td>\n      <td>5264</td>\n      <td>547</td>\n      <td>14</td>\n      <td>5</td>\n      <td>...</td>\n      <td>14.475999</td>\n      <td>3.367680</td>\n      <td>4815</td>\n      <td>82.505140</td>\n      <td>13.520249</td>\n      <td>13.022889</td>\n      <td>11.143211</td>\n      <td>19.200000</td>\n      <td>0</td>\n      <td>AAR</td>\n    </tr>\n    <tr>\n      <th>...</th>\n      <td>...</td>\n      <td>...</td>\n      <td>...</td>\n      <td>...</td>\n      <td>...</td>\n      <td>...</td>\n      <td>...</td>\n      <td>...</td>\n      <td>...</td>\n      <td>...</td>\n      <td>...</td>\n      <td>...</td>\n      <td>...</td>\n      <td>...</td>\n      <td>...</td>\n      <td>...</td>\n      <td>...</td>\n      <td>...</td>\n      <td>...</td>\n      <td>...</td>\n      <td>...</td>\n    </tr>\n    <tr>\n      <th>432</th>\n      <td>3048</td>\n      <td>WAUKESHA</td>\n      <td>WI</td>\n      <td>0.034</td>\n      <td>304715</td>\n      <td>8962.205880</td>\n      <td>298313</td>\n      <td>1096</td>\n      <td>672</td>\n      <td>2699</td>\n      <td>...</td>\n      <td>35.396784</td>\n      <td>7.667090</td>\n      <td>299802</td>\n      <td>98.387674</td>\n      <td>3.121060</td>\n      <td>3.785820</td>\n      <td>2.590061</td>\n      <td>4.085479</td>\n      <td>1</td>\n      <td>HLU</td>\n    </tr>\n    <tr>\n      <th>433</th>\n      <td>3049</td>\n      <td>WAUPACA</td>\n      <td>WI</td>\n      <td>0.045</td>\n      <td>46104</td>\n      <td>1024.533330</td>\n      <td>45695</td>\n      <td>22</td>\n      <td>125</td>\n      <td>92</td>\n      <td>...</td>\n      <td>16.549869</td>\n      <td>3.138596</td>\n      <td>44412</td>\n      <td>96.330036</td>\n      <td>8.488697</td>\n      <td>10.071411</td>\n      <td>6.953799</td>\n      <td>10.338641</td>\n      <td>0</td>\n      <td>AAR</td>\n    </tr>\n    <tr>\n      <th>434</th>\n      <td>3050</td>\n      <td>WAUSHARA</td>\n      <td>WI</td>\n      <td>0.037</td>\n      <td>19385</td>\n      <td>523.918919</td>\n      <td>19094</td>\n      <td>29</td>\n      <td>70</td>\n      <td>43</td>\n      <td>...</td>\n      <td>15.064584</td>\n      <td>2.620907</td>\n      <td>19163</td>\n      <td>98.854785</td>\n      <td>13.786985</td>\n      <td>20.050708</td>\n      <td>11.695784</td>\n      <td>11.804558</td>\n      <td>0</td>\n      <td>AAR</td>\n    </tr>\n    <tr>\n      <th>435</th>\n      <td>3051</td>\n      <td>WINNEBAGO</td>\n      <td>WI</td>\n      <td>0.035</td>\n      <td>140320</td>\n      <td>4009.142860</td>\n      <td>136822</td>\n      <td>697</td>\n      <td>685</td>\n      <td>1728</td>\n      <td>...</td>\n      <td>24.995504</td>\n      <td>5.659847</td>\n      <td>133950</td>\n      <td>95.460376</td>\n      <td>8.804031</td>\n      <td>10.592031</td>\n      <td>8.660587</td>\n      <td>6.661094</td>\n      <td>1</td>\n      <td>HAU</td>\n    </tr>\n    <tr>\n      <th>436</th>\n      <td>3052</td>\n      <td>WOOD</td>\n      <td>WI</td>\n      <td>0.048</td>\n      <td>73605</td>\n      <td>1533.437500</td>\n      <td>72157</td>\n      <td>90</td>\n      <td>481</td>\n      <td>722</td>\n      <td>...</td>\n      <td>21.666382</td>\n      <td>4.583725</td>\n      <td>72685</td>\n      <td>98.750085</td>\n      <td>8.525831</td>\n      <td>11.162997</td>\n      <td>7.375656</td>\n      <td>7.882918</td>\n      <td>0</td>\n      <td>AAR</td>\n    </tr>\n  </tbody>\n</table>\n<p>437 rows × 28 columns</p>\n</div>"
     },
     "execution_count": 7,
     "metadata": {},
     "output_type": "execute_result"
    }
   ],
   "source": [
    "import pandas as pd\n",
    "import numpy as np\n",
    "\n",
    "midwest = pd.read_csv('../files/midwest.csv')\n",
    "midwest"
   ]
  },
  {
   "cell_type": "code",
   "execution_count": 13,
   "outputs": [],
   "source": [
    "#popadults 성인, poptotal 전체, 전체인구 대비 미성년 인구 백분율 \n",
    "midwest['ratio'] = \\\n",
    "    (midwest['poptotal'] - midwest['popadults']) / midwest['poptotal'] * 100"
   ],
   "metadata": {
    "collapsed": false,
    "ExecuteTime": {
     "end_time": "2023-08-10T00:15:24.147070Z",
     "start_time": "2023-08-10T00:15:24.145542Z"
    }
   },
   "id": "97626a8a959a05c8"
  },
  {
   "cell_type": "code",
   "execution_count": 14,
   "outputs": [
    {
     "data": {
      "text/plain": "      PID     county state   area  poptotal   popdensity  popwhite  popblack  \\\n0     561      ADAMS    IL  0.052     66090  1270.961540     63917      1702   \n1     562  ALEXANDER    IL  0.014     10626   759.000000      7054      3496   \n2     563       BOND    IL  0.022     14991   681.409091     14477       429   \n3     564      BOONE    IL  0.017     30806  1812.117650     29344       127   \n4     565      BROWN    IL  0.018      5836   324.222222      5264       547   \n..    ...        ...   ...    ...       ...          ...       ...       ...   \n432  3048   WAUKESHA    WI  0.034    304715  8962.205880    298313      1096   \n433  3049    WAUPACA    WI  0.045     46104  1024.533330     45695        22   \n434  3050   WAUSHARA    WI  0.037     19385   523.918919     19094        29   \n435  3051  WINNEBAGO    WI  0.035    140320  4009.142860    136822       697   \n436  3052       WOOD    WI  0.048     73605  1533.437500     72157        90   \n\n     popamerindian  popasian  ...  percprof  poppovertyknown  \\\n0               98       249  ...  4.355859            63628   \n1               19        48  ...  2.870315            10529   \n2               35        16  ...  4.488572            14235   \n3               46       150  ...  4.197800            30337   \n4               14         5  ...  3.367680             4815   \n..             ...       ...  ...       ...              ...   \n432            672      2699  ...  7.667090           299802   \n433            125        92  ...  3.138596            44412   \n434             70        43  ...  2.620907            19163   \n435            685      1728  ...  5.659847           133950   \n436            481       722  ...  4.583725            72685   \n\n     percpovertyknown  percbelowpoverty  percchildbelowpovert  \\\n0           96.274777         13.151443             18.011717   \n1           99.087145         32.244278             45.826514   \n2           94.956974         12.068844             14.036061   \n3           98.477569          7.209019             11.179536   \n4           82.505140         13.520249             13.022889   \n..                ...               ...                   ...   \n432         98.387674          3.121060              3.785820   \n433         96.330036          8.488697             10.071411   \n434         98.854785         13.786985             20.050708   \n435         95.460376          8.804031             10.592031   \n436         98.750085          8.525831             11.162997   \n\n     percadultpoverty  percelderlypoverty  inmetro  category      ratio  \n0           11.009776           12.443812        0       AAR  34.486307  \n1           27.385647           25.228976        0       LHR  36.721250  \n2           10.852090           12.697410        0       AAR  35.501301  \n3            5.536013            6.217047        1       ALU  37.440758  \n4           11.143211           19.200000        0       AAR  31.819740  \n..                ...                 ...      ...       ...        ...  \n432          2.590061            4.085479        1       HLU  35.731093  \n433          6.953799           10.338641        0       AAR  34.693302  \n434         11.695784           11.804558        0       AAR  31.307712  \n435          8.660587            6.661094        1       HAU  36.602052  \n436          7.375656            7.882918        0       AAR  36.422797  \n\n[437 rows x 29 columns]",
      "text/html": "<div>\n<style scoped>\n    .dataframe tbody tr th:only-of-type {\n        vertical-align: middle;\n    }\n\n    .dataframe tbody tr th {\n        vertical-align: top;\n    }\n\n    .dataframe thead th {\n        text-align: right;\n    }\n</style>\n<table border=\"1\" class=\"dataframe\">\n  <thead>\n    <tr style=\"text-align: right;\">\n      <th></th>\n      <th>PID</th>\n      <th>county</th>\n      <th>state</th>\n      <th>area</th>\n      <th>poptotal</th>\n      <th>popdensity</th>\n      <th>popwhite</th>\n      <th>popblack</th>\n      <th>popamerindian</th>\n      <th>popasian</th>\n      <th>...</th>\n      <th>percprof</th>\n      <th>poppovertyknown</th>\n      <th>percpovertyknown</th>\n      <th>percbelowpoverty</th>\n      <th>percchildbelowpovert</th>\n      <th>percadultpoverty</th>\n      <th>percelderlypoverty</th>\n      <th>inmetro</th>\n      <th>category</th>\n      <th>ratio</th>\n    </tr>\n  </thead>\n  <tbody>\n    <tr>\n      <th>0</th>\n      <td>561</td>\n      <td>ADAMS</td>\n      <td>IL</td>\n      <td>0.052</td>\n      <td>66090</td>\n      <td>1270.961540</td>\n      <td>63917</td>\n      <td>1702</td>\n      <td>98</td>\n      <td>249</td>\n      <td>...</td>\n      <td>4.355859</td>\n      <td>63628</td>\n      <td>96.274777</td>\n      <td>13.151443</td>\n      <td>18.011717</td>\n      <td>11.009776</td>\n      <td>12.443812</td>\n      <td>0</td>\n      <td>AAR</td>\n      <td>34.486307</td>\n    </tr>\n    <tr>\n      <th>1</th>\n      <td>562</td>\n      <td>ALEXANDER</td>\n      <td>IL</td>\n      <td>0.014</td>\n      <td>10626</td>\n      <td>759.000000</td>\n      <td>7054</td>\n      <td>3496</td>\n      <td>19</td>\n      <td>48</td>\n      <td>...</td>\n      <td>2.870315</td>\n      <td>10529</td>\n      <td>99.087145</td>\n      <td>32.244278</td>\n      <td>45.826514</td>\n      <td>27.385647</td>\n      <td>25.228976</td>\n      <td>0</td>\n      <td>LHR</td>\n      <td>36.721250</td>\n    </tr>\n    <tr>\n      <th>2</th>\n      <td>563</td>\n      <td>BOND</td>\n      <td>IL</td>\n      <td>0.022</td>\n      <td>14991</td>\n      <td>681.409091</td>\n      <td>14477</td>\n      <td>429</td>\n      <td>35</td>\n      <td>16</td>\n      <td>...</td>\n      <td>4.488572</td>\n      <td>14235</td>\n      <td>94.956974</td>\n      <td>12.068844</td>\n      <td>14.036061</td>\n      <td>10.852090</td>\n      <td>12.697410</td>\n      <td>0</td>\n      <td>AAR</td>\n      <td>35.501301</td>\n    </tr>\n    <tr>\n      <th>3</th>\n      <td>564</td>\n      <td>BOONE</td>\n      <td>IL</td>\n      <td>0.017</td>\n      <td>30806</td>\n      <td>1812.117650</td>\n      <td>29344</td>\n      <td>127</td>\n      <td>46</td>\n      <td>150</td>\n      <td>...</td>\n      <td>4.197800</td>\n      <td>30337</td>\n      <td>98.477569</td>\n      <td>7.209019</td>\n      <td>11.179536</td>\n      <td>5.536013</td>\n      <td>6.217047</td>\n      <td>1</td>\n      <td>ALU</td>\n      <td>37.440758</td>\n    </tr>\n    <tr>\n      <th>4</th>\n      <td>565</td>\n      <td>BROWN</td>\n      <td>IL</td>\n      <td>0.018</td>\n      <td>5836</td>\n      <td>324.222222</td>\n      <td>5264</td>\n      <td>547</td>\n      <td>14</td>\n      <td>5</td>\n      <td>...</td>\n      <td>3.367680</td>\n      <td>4815</td>\n      <td>82.505140</td>\n      <td>13.520249</td>\n      <td>13.022889</td>\n      <td>11.143211</td>\n      <td>19.200000</td>\n      <td>0</td>\n      <td>AAR</td>\n      <td>31.819740</td>\n    </tr>\n    <tr>\n      <th>...</th>\n      <td>...</td>\n      <td>...</td>\n      <td>...</td>\n      <td>...</td>\n      <td>...</td>\n      <td>...</td>\n      <td>...</td>\n      <td>...</td>\n      <td>...</td>\n      <td>...</td>\n      <td>...</td>\n      <td>...</td>\n      <td>...</td>\n      <td>...</td>\n      <td>...</td>\n      <td>...</td>\n      <td>...</td>\n      <td>...</td>\n      <td>...</td>\n      <td>...</td>\n      <td>...</td>\n    </tr>\n    <tr>\n      <th>432</th>\n      <td>3048</td>\n      <td>WAUKESHA</td>\n      <td>WI</td>\n      <td>0.034</td>\n      <td>304715</td>\n      <td>8962.205880</td>\n      <td>298313</td>\n      <td>1096</td>\n      <td>672</td>\n      <td>2699</td>\n      <td>...</td>\n      <td>7.667090</td>\n      <td>299802</td>\n      <td>98.387674</td>\n      <td>3.121060</td>\n      <td>3.785820</td>\n      <td>2.590061</td>\n      <td>4.085479</td>\n      <td>1</td>\n      <td>HLU</td>\n      <td>35.731093</td>\n    </tr>\n    <tr>\n      <th>433</th>\n      <td>3049</td>\n      <td>WAUPACA</td>\n      <td>WI</td>\n      <td>0.045</td>\n      <td>46104</td>\n      <td>1024.533330</td>\n      <td>45695</td>\n      <td>22</td>\n      <td>125</td>\n      <td>92</td>\n      <td>...</td>\n      <td>3.138596</td>\n      <td>44412</td>\n      <td>96.330036</td>\n      <td>8.488697</td>\n      <td>10.071411</td>\n      <td>6.953799</td>\n      <td>10.338641</td>\n      <td>0</td>\n      <td>AAR</td>\n      <td>34.693302</td>\n    </tr>\n    <tr>\n      <th>434</th>\n      <td>3050</td>\n      <td>WAUSHARA</td>\n      <td>WI</td>\n      <td>0.037</td>\n      <td>19385</td>\n      <td>523.918919</td>\n      <td>19094</td>\n      <td>29</td>\n      <td>70</td>\n      <td>43</td>\n      <td>...</td>\n      <td>2.620907</td>\n      <td>19163</td>\n      <td>98.854785</td>\n      <td>13.786985</td>\n      <td>20.050708</td>\n      <td>11.695784</td>\n      <td>11.804558</td>\n      <td>0</td>\n      <td>AAR</td>\n      <td>31.307712</td>\n    </tr>\n    <tr>\n      <th>435</th>\n      <td>3051</td>\n      <td>WINNEBAGO</td>\n      <td>WI</td>\n      <td>0.035</td>\n      <td>140320</td>\n      <td>4009.142860</td>\n      <td>136822</td>\n      <td>697</td>\n      <td>685</td>\n      <td>1728</td>\n      <td>...</td>\n      <td>5.659847</td>\n      <td>133950</td>\n      <td>95.460376</td>\n      <td>8.804031</td>\n      <td>10.592031</td>\n      <td>8.660587</td>\n      <td>6.661094</td>\n      <td>1</td>\n      <td>HAU</td>\n      <td>36.602052</td>\n    </tr>\n    <tr>\n      <th>436</th>\n      <td>3052</td>\n      <td>WOOD</td>\n      <td>WI</td>\n      <td>0.048</td>\n      <td>73605</td>\n      <td>1533.437500</td>\n      <td>72157</td>\n      <td>90</td>\n      <td>481</td>\n      <td>722</td>\n      <td>...</td>\n      <td>4.583725</td>\n      <td>72685</td>\n      <td>98.750085</td>\n      <td>8.525831</td>\n      <td>11.162997</td>\n      <td>7.375656</td>\n      <td>7.882918</td>\n      <td>0</td>\n      <td>AAR</td>\n      <td>36.422797</td>\n    </tr>\n  </tbody>\n</table>\n<p>437 rows × 29 columns</p>\n</div>"
     },
     "execution_count": 14,
     "metadata": {},
     "output_type": "execute_result"
    }
   ],
   "source": [
    "midwest"
   ],
   "metadata": {
    "collapsed": false,
    "ExecuteTime": {
     "end_time": "2023-08-10T00:15:24.928991Z",
     "start_time": "2023-08-10T00:15:24.923469Z"
    }
   },
   "id": "a9ce15a735e3fdc0"
  },
  {
   "cell_type": "code",
   "execution_count": 15,
   "outputs": [
    {
     "data": {
      "text/plain": "        county      ratio\n230   ISABELLA  51.501172\n404  MENOMINEE  50.591260\n281     ATHENS  49.320727\n247    MECOSTA  49.059183\n154     MONROE  47.358182",
      "text/html": "<div>\n<style scoped>\n    .dataframe tbody tr th:only-of-type {\n        vertical-align: middle;\n    }\n\n    .dataframe tbody tr th {\n        vertical-align: top;\n    }\n\n    .dataframe thead th {\n        text-align: right;\n    }\n</style>\n<table border=\"1\" class=\"dataframe\">\n  <thead>\n    <tr style=\"text-align: right;\">\n      <th></th>\n      <th>county</th>\n      <th>ratio</th>\n    </tr>\n  </thead>\n  <tbody>\n    <tr>\n      <th>230</th>\n      <td>ISABELLA</td>\n      <td>51.501172</td>\n    </tr>\n    <tr>\n      <th>404</th>\n      <td>MENOMINEE</td>\n      <td>50.591260</td>\n    </tr>\n    <tr>\n      <th>281</th>\n      <td>ATHENS</td>\n      <td>49.320727</td>\n    </tr>\n    <tr>\n      <th>247</th>\n      <td>MECOSTA</td>\n      <td>49.059183</td>\n    </tr>\n    <tr>\n      <th>154</th>\n      <td>MONROE</td>\n      <td>47.358182</td>\n    </tr>\n  </tbody>\n</table>\n</div>"
     },
     "execution_count": 15,
     "metadata": {},
     "output_type": "execute_result"
    }
   ],
   "source": [
    "#미성년 인구 백분율이 가장 높은 사우이 5개 지역의 미성년 인구 백분율\n",
    "midwest.sort_values('ratio', ascending=False) \\\n",
    "    .head(5) \\\n",
    "    [['county', 'ratio']]\n"
   ],
   "metadata": {
    "collapsed": false,
    "ExecuteTime": {
     "end_time": "2023-08-10T00:15:27.620839Z",
     "start_time": "2023-08-10T00:15:27.608862Z"
    }
   },
   "id": "c20d0b6bbda7debd"
  },
  {
   "cell_type": "code",
   "execution_count": 18,
   "outputs": [
    {
     "data": {
      "text/plain": "      PID     county state   area  poptotal   popdensity  popwhite  popblack  \\\n0     561      ADAMS    IL  0.052     66090  1270.961540     63917      1702   \n1     562  ALEXANDER    IL  0.014     10626   759.000000      7054      3496   \n2     563       BOND    IL  0.022     14991   681.409091     14477       429   \n3     564      BOONE    IL  0.017     30806  1812.117650     29344       127   \n4     565      BROWN    IL  0.018      5836   324.222222      5264       547   \n..    ...        ...   ...    ...       ...          ...       ...       ...   \n432  3048   WAUKESHA    WI  0.034    304715  8962.205880    298313      1096   \n433  3049    WAUPACA    WI  0.045     46104  1024.533330     45695        22   \n434  3050   WAUSHARA    WI  0.037     19385   523.918919     19094        29   \n435  3051  WINNEBAGO    WI  0.035    140320  4009.142860    136822       697   \n436  3052       WOOD    WI  0.048     73605  1533.437500     72157        90   \n\n     popamerindian  popasian  ...  poppovertyknown  percpovertyknown  \\\n0               98       249  ...            63628         96.274777   \n1               19        48  ...            10529         99.087145   \n2               35        16  ...            14235         94.956974   \n3               46       150  ...            30337         98.477569   \n4               14         5  ...             4815         82.505140   \n..             ...       ...  ...              ...               ...   \n432            672      2699  ...           299802         98.387674   \n433            125        92  ...            44412         96.330036   \n434             70        43  ...            19163         98.854785   \n435            685      1728  ...           133950         95.460376   \n436            481       722  ...            72685         98.750085   \n\n     percbelowpoverty  percchildbelowpovert  percadultpoverty  \\\n0           13.151443             18.011717         11.009776   \n1           32.244278             45.826514         27.385647   \n2           12.068844             14.036061         10.852090   \n3            7.209019             11.179536          5.536013   \n4           13.520249             13.022889         11.143211   \n..                ...                   ...               ...   \n432          3.121060              3.785820          2.590061   \n433          8.488697             10.071411          6.953799   \n434         13.786985             20.050708         11.695784   \n435          8.804031             10.592031          8.660587   \n436          8.525831             11.162997          7.375656   \n\n     percelderlypoverty  inmetro  category      ratio   grade  \n0             12.443812        0       AAR  34.486307  middle  \n1             25.228976        0       LHR  36.721250  middle  \n2             12.697410        0       AAR  35.501301  middle  \n3              6.217047        1       ALU  37.440758  middle  \n4             19.200000        0       AAR  31.819740  middle  \n..                  ...      ...       ...        ...     ...  \n432            4.085479        1       HLU  35.731093  middle  \n433           10.338641        0       AAR  34.693302  middle  \n434           11.804558        0       AAR  31.307712  middle  \n435            6.661094        1       HAU  36.602052  middle  \n436            7.882918        0       AAR  36.422797  middle  \n\n[437 rows x 30 columns]",
      "text/html": "<div>\n<style scoped>\n    .dataframe tbody tr th:only-of-type {\n        vertical-align: middle;\n    }\n\n    .dataframe tbody tr th {\n        vertical-align: top;\n    }\n\n    .dataframe thead th {\n        text-align: right;\n    }\n</style>\n<table border=\"1\" class=\"dataframe\">\n  <thead>\n    <tr style=\"text-align: right;\">\n      <th></th>\n      <th>PID</th>\n      <th>county</th>\n      <th>state</th>\n      <th>area</th>\n      <th>poptotal</th>\n      <th>popdensity</th>\n      <th>popwhite</th>\n      <th>popblack</th>\n      <th>popamerindian</th>\n      <th>popasian</th>\n      <th>...</th>\n      <th>poppovertyknown</th>\n      <th>percpovertyknown</th>\n      <th>percbelowpoverty</th>\n      <th>percchildbelowpovert</th>\n      <th>percadultpoverty</th>\n      <th>percelderlypoverty</th>\n      <th>inmetro</th>\n      <th>category</th>\n      <th>ratio</th>\n      <th>grade</th>\n    </tr>\n  </thead>\n  <tbody>\n    <tr>\n      <th>0</th>\n      <td>561</td>\n      <td>ADAMS</td>\n      <td>IL</td>\n      <td>0.052</td>\n      <td>66090</td>\n      <td>1270.961540</td>\n      <td>63917</td>\n      <td>1702</td>\n      <td>98</td>\n      <td>249</td>\n      <td>...</td>\n      <td>63628</td>\n      <td>96.274777</td>\n      <td>13.151443</td>\n      <td>18.011717</td>\n      <td>11.009776</td>\n      <td>12.443812</td>\n      <td>0</td>\n      <td>AAR</td>\n      <td>34.486307</td>\n      <td>middle</td>\n    </tr>\n    <tr>\n      <th>1</th>\n      <td>562</td>\n      <td>ALEXANDER</td>\n      <td>IL</td>\n      <td>0.014</td>\n      <td>10626</td>\n      <td>759.000000</td>\n      <td>7054</td>\n      <td>3496</td>\n      <td>19</td>\n      <td>48</td>\n      <td>...</td>\n      <td>10529</td>\n      <td>99.087145</td>\n      <td>32.244278</td>\n      <td>45.826514</td>\n      <td>27.385647</td>\n      <td>25.228976</td>\n      <td>0</td>\n      <td>LHR</td>\n      <td>36.721250</td>\n      <td>middle</td>\n    </tr>\n    <tr>\n      <th>2</th>\n      <td>563</td>\n      <td>BOND</td>\n      <td>IL</td>\n      <td>0.022</td>\n      <td>14991</td>\n      <td>681.409091</td>\n      <td>14477</td>\n      <td>429</td>\n      <td>35</td>\n      <td>16</td>\n      <td>...</td>\n      <td>14235</td>\n      <td>94.956974</td>\n      <td>12.068844</td>\n      <td>14.036061</td>\n      <td>10.852090</td>\n      <td>12.697410</td>\n      <td>0</td>\n      <td>AAR</td>\n      <td>35.501301</td>\n      <td>middle</td>\n    </tr>\n    <tr>\n      <th>3</th>\n      <td>564</td>\n      <td>BOONE</td>\n      <td>IL</td>\n      <td>0.017</td>\n      <td>30806</td>\n      <td>1812.117650</td>\n      <td>29344</td>\n      <td>127</td>\n      <td>46</td>\n      <td>150</td>\n      <td>...</td>\n      <td>30337</td>\n      <td>98.477569</td>\n      <td>7.209019</td>\n      <td>11.179536</td>\n      <td>5.536013</td>\n      <td>6.217047</td>\n      <td>1</td>\n      <td>ALU</td>\n      <td>37.440758</td>\n      <td>middle</td>\n    </tr>\n    <tr>\n      <th>4</th>\n      <td>565</td>\n      <td>BROWN</td>\n      <td>IL</td>\n      <td>0.018</td>\n      <td>5836</td>\n      <td>324.222222</td>\n      <td>5264</td>\n      <td>547</td>\n      <td>14</td>\n      <td>5</td>\n      <td>...</td>\n      <td>4815</td>\n      <td>82.505140</td>\n      <td>13.520249</td>\n      <td>13.022889</td>\n      <td>11.143211</td>\n      <td>19.200000</td>\n      <td>0</td>\n      <td>AAR</td>\n      <td>31.819740</td>\n      <td>middle</td>\n    </tr>\n    <tr>\n      <th>...</th>\n      <td>...</td>\n      <td>...</td>\n      <td>...</td>\n      <td>...</td>\n      <td>...</td>\n      <td>...</td>\n      <td>...</td>\n      <td>...</td>\n      <td>...</td>\n      <td>...</td>\n      <td>...</td>\n      <td>...</td>\n      <td>...</td>\n      <td>...</td>\n      <td>...</td>\n      <td>...</td>\n      <td>...</td>\n      <td>...</td>\n      <td>...</td>\n      <td>...</td>\n      <td>...</td>\n    </tr>\n    <tr>\n      <th>432</th>\n      <td>3048</td>\n      <td>WAUKESHA</td>\n      <td>WI</td>\n      <td>0.034</td>\n      <td>304715</td>\n      <td>8962.205880</td>\n      <td>298313</td>\n      <td>1096</td>\n      <td>672</td>\n      <td>2699</td>\n      <td>...</td>\n      <td>299802</td>\n      <td>98.387674</td>\n      <td>3.121060</td>\n      <td>3.785820</td>\n      <td>2.590061</td>\n      <td>4.085479</td>\n      <td>1</td>\n      <td>HLU</td>\n      <td>35.731093</td>\n      <td>middle</td>\n    </tr>\n    <tr>\n      <th>433</th>\n      <td>3049</td>\n      <td>WAUPACA</td>\n      <td>WI</td>\n      <td>0.045</td>\n      <td>46104</td>\n      <td>1024.533330</td>\n      <td>45695</td>\n      <td>22</td>\n      <td>125</td>\n      <td>92</td>\n      <td>...</td>\n      <td>44412</td>\n      <td>96.330036</td>\n      <td>8.488697</td>\n      <td>10.071411</td>\n      <td>6.953799</td>\n      <td>10.338641</td>\n      <td>0</td>\n      <td>AAR</td>\n      <td>34.693302</td>\n      <td>middle</td>\n    </tr>\n    <tr>\n      <th>434</th>\n      <td>3050</td>\n      <td>WAUSHARA</td>\n      <td>WI</td>\n      <td>0.037</td>\n      <td>19385</td>\n      <td>523.918919</td>\n      <td>19094</td>\n      <td>29</td>\n      <td>70</td>\n      <td>43</td>\n      <td>...</td>\n      <td>19163</td>\n      <td>98.854785</td>\n      <td>13.786985</td>\n      <td>20.050708</td>\n      <td>11.695784</td>\n      <td>11.804558</td>\n      <td>0</td>\n      <td>AAR</td>\n      <td>31.307712</td>\n      <td>middle</td>\n    </tr>\n    <tr>\n      <th>435</th>\n      <td>3051</td>\n      <td>WINNEBAGO</td>\n      <td>WI</td>\n      <td>0.035</td>\n      <td>140320</td>\n      <td>4009.142860</td>\n      <td>136822</td>\n      <td>697</td>\n      <td>685</td>\n      <td>1728</td>\n      <td>...</td>\n      <td>133950</td>\n      <td>95.460376</td>\n      <td>8.804031</td>\n      <td>10.592031</td>\n      <td>8.660587</td>\n      <td>6.661094</td>\n      <td>1</td>\n      <td>HAU</td>\n      <td>36.602052</td>\n      <td>middle</td>\n    </tr>\n    <tr>\n      <th>436</th>\n      <td>3052</td>\n      <td>WOOD</td>\n      <td>WI</td>\n      <td>0.048</td>\n      <td>73605</td>\n      <td>1533.437500</td>\n      <td>72157</td>\n      <td>90</td>\n      <td>481</td>\n      <td>722</td>\n      <td>...</td>\n      <td>72685</td>\n      <td>98.750085</td>\n      <td>8.525831</td>\n      <td>11.162997</td>\n      <td>7.375656</td>\n      <td>7.882918</td>\n      <td>0</td>\n      <td>AAR</td>\n      <td>36.422797</td>\n      <td>middle</td>\n    </tr>\n  </tbody>\n</table>\n<p>437 rows × 30 columns</p>\n</div>"
     },
     "execution_count": 18,
     "metadata": {},
     "output_type": "execute_result"
    }
   ],
   "source": [
    "#미성년 비율등급 추가 등급별 지역 \n",
    "midwest['grade'] = np.where(midwest['ratio'] >= 40, 'large',\n",
    "                            np.where(midwest['ratio'] >= 30, 'middle', 'small'))\n",
    "\n",
    "midwest"
   ],
   "metadata": {
    "collapsed": false,
    "ExecuteTime": {
     "start_time": "2023-08-10T00:15:35.052327Z"
    }
   },
   "id": "51892821719b11c4"
  },
  {
   "cell_type": "code",
   "execution_count": 19,
   "outputs": [
    {
     "data": {
      "text/plain": "        count\ngrade        \nlarge      32\nmiddle    396\nsmall       9",
      "text/html": "<div>\n<style scoped>\n    .dataframe tbody tr th:only-of-type {\n        vertical-align: middle;\n    }\n\n    .dataframe tbody tr th {\n        vertical-align: top;\n    }\n\n    .dataframe thead th {\n        text-align: right;\n    }\n</style>\n<table border=\"1\" class=\"dataframe\">\n  <thead>\n    <tr style=\"text-align: right;\">\n      <th></th>\n      <th>count</th>\n    </tr>\n    <tr>\n      <th>grade</th>\n      <th></th>\n    </tr>\n  </thead>\n  <tbody>\n    <tr>\n      <th>large</th>\n      <td>32</td>\n    </tr>\n    <tr>\n      <th>middle</th>\n      <td>396</td>\n    </tr>\n    <tr>\n      <th>small</th>\n      <td>9</td>\n    </tr>\n  </tbody>\n</table>\n</div>"
     },
     "execution_count": 19,
     "metadata": {},
     "output_type": "execute_result"
    }
   ],
   "source": [
    "midwest.groupby('grade') \\\n",
    "    .agg(count=('grade', 'count'))"
   ],
   "metadata": {
    "collapsed": false,
    "ExecuteTime": {
     "end_time": "2023-08-10T00:22:14.064658Z",
     "start_time": "2023-08-10T00:22:14.052952Z"
    }
   },
   "id": "e45d8320e0f45b2a"
  },
  {
   "cell_type": "code",
   "execution_count": 21,
   "outputs": [
    {
     "data": {
      "text/plain": "middle    396\nlarge      32\nsmall       9\nName: grade, dtype: int64"
     },
     "execution_count": 21,
     "metadata": {},
     "output_type": "execute_result"
    }
   ],
   "source": [
    "midwest['grade'].value_counts()"
   ],
   "metadata": {
    "collapsed": false,
    "ExecuteTime": {
     "end_time": "2023-08-10T00:22:56.145048Z",
     "start_time": "2023-08-10T00:22:56.131807Z"
    }
   },
   "id": "90023ed152e375f0"
  },
  {
   "cell_type": "code",
   "execution_count": 24,
   "outputs": [
    {
     "data": {
      "text/plain": "    state     county  asian_ratio\n404    WI  MENOMINEE     0.000000\n105    IN     BENTON     0.010592\n109    IN    CARROLL     0.015950\n358    OH     VINTON     0.027032\n390    WI       IRON     0.032504\n85     IL      SCOTT     0.053154\n112    IN       CLAY     0.060716\n261    MI     OSCODA     0.063759\n340    OH      PERRY     0.066546\n73     IL      PIATT     0.070749",
      "text/html": "<div>\n<style scoped>\n    .dataframe tbody tr th:only-of-type {\n        vertical-align: middle;\n    }\n\n    .dataframe tbody tr th {\n        vertical-align: top;\n    }\n\n    .dataframe thead th {\n        text-align: right;\n    }\n</style>\n<table border=\"1\" class=\"dataframe\">\n  <thead>\n    <tr style=\"text-align: right;\">\n      <th></th>\n      <th>state</th>\n      <th>county</th>\n      <th>asian_ratio</th>\n    </tr>\n  </thead>\n  <tbody>\n    <tr>\n      <th>404</th>\n      <td>WI</td>\n      <td>MENOMINEE</td>\n      <td>0.000000</td>\n    </tr>\n    <tr>\n      <th>105</th>\n      <td>IN</td>\n      <td>BENTON</td>\n      <td>0.010592</td>\n    </tr>\n    <tr>\n      <th>109</th>\n      <td>IN</td>\n      <td>CARROLL</td>\n      <td>0.015950</td>\n    </tr>\n    <tr>\n      <th>358</th>\n      <td>OH</td>\n      <td>VINTON</td>\n      <td>0.027032</td>\n    </tr>\n    <tr>\n      <th>390</th>\n      <td>WI</td>\n      <td>IRON</td>\n      <td>0.032504</td>\n    </tr>\n    <tr>\n      <th>85</th>\n      <td>IL</td>\n      <td>SCOTT</td>\n      <td>0.053154</td>\n    </tr>\n    <tr>\n      <th>112</th>\n      <td>IN</td>\n      <td>CLAY</td>\n      <td>0.060716</td>\n    </tr>\n    <tr>\n      <th>261</th>\n      <td>MI</td>\n      <td>OSCODA</td>\n      <td>0.063759</td>\n    </tr>\n    <tr>\n      <th>340</th>\n      <td>OH</td>\n      <td>PERRY</td>\n      <td>0.066546</td>\n    </tr>\n    <tr>\n      <th>73</th>\n      <td>IL</td>\n      <td>PIATT</td>\n      <td>0.070749</td>\n    </tr>\n  </tbody>\n</table>\n</div>"
     },
     "execution_count": 24,
     "metadata": {},
     "output_type": "execute_result"
    }
   ],
   "source": [
    "#popasian - 아시아인\n",
    "#전체 인구 대비 아시아인 인구 백분율\n",
    "#하위 10개지역의 state, country, 아시아인 인구 백분율\n",
    "\n",
    "midwest.assign(asian_ratio=midwest['popasian'] / midwest['poptotal'] * 100) \\\n",
    "    .sort_values('asian_ratio') \\\n",
    "    .head(10) \\\n",
    "    [['state', 'county', 'asian_ratio']]\n",
    "\n"
   ],
   "metadata": {
    "collapsed": false,
    "ExecuteTime": {
     "end_time": "2023-08-10T00:27:03.913569Z",
     "start_time": "2023-08-10T00:27:03.895656Z"
    }
   },
   "id": "8abea60676235f21"
  },
  {
   "cell_type": "code",
   "execution_count": null,
   "outputs": [],
   "source": [],
   "metadata": {
    "collapsed": false
   },
   "id": "3f29e13b8b613ede"
  },
  {
   "cell_type": "markdown",
   "source": [],
   "metadata": {
    "collapsed": false
   },
   "id": "4362423b83b9f1a3"
  }
 ],
 "metadata": {
  "kernelspec": {
   "display_name": "Python 3",
   "language": "python",
   "name": "python3"
  },
  "language_info": {
   "codemirror_mode": {
    "name": "ipython",
    "version": 2
   },
   "file_extension": ".py",
   "mimetype": "text/x-python",
   "name": "python",
   "nbconvert_exporter": "python",
   "pygments_lexer": "ipython2",
   "version": "2.7.6"
  }
 },
 "nbformat": 4,
 "nbformat_minor": 5
}
