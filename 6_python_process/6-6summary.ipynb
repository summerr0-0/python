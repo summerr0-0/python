{
 "cells": [
  {
   "cell_type": "code",
   "execution_count": 1,
   "id": "initial_id",
   "metadata": {
    "collapsed": true,
    "ExecuteTime": {
     "end_time": "2023-08-09T23:06:52.281341Z",
     "start_time": "2023-08-09T23:06:51.588183Z"
    }
   },
   "outputs": [],
   "source": [
    "import pandas as pd\n",
    "exam = pd.read_csv('../files/exam.csv')"
   ]
  },
  {
   "cell_type": "code",
   "execution_count": 2,
   "outputs": [
    {
     "data": {
      "text/plain": "            math\nmean_math  57.45",
      "text/html": "<div>\n<style scoped>\n    .dataframe tbody tr th:only-of-type {\n        vertical-align: middle;\n    }\n\n    .dataframe tbody tr th {\n        vertical-align: top;\n    }\n\n    .dataframe thead th {\n        text-align: right;\n    }\n</style>\n<table border=\"1\" class=\"dataframe\">\n  <thead>\n    <tr style=\"text-align: right;\">\n      <th></th>\n      <th>math</th>\n    </tr>\n  </thead>\n  <tbody>\n    <tr>\n      <th>mean_math</th>\n      <td>57.45</td>\n    </tr>\n  </tbody>\n</table>\n</div>"
     },
     "execution_count": 2,
     "metadata": {},
     "output_type": "execute_result"
    }
   ],
   "source": [
    "#평균 구하기\n",
    "exam.agg(mean_math = ('math', 'mean'))"
   ],
   "metadata": {
    "collapsed": false,
    "ExecuteTime": {
     "end_time": "2023-08-09T23:06:59.492461Z",
     "start_time": "2023-08-09T23:06:59.483921Z"
    }
   },
   "id": "7e2a390e4f076d8e"
  },
  {
   "cell_type": "code",
   "execution_count": 3,
   "outputs": [
    {
     "data": {
      "text/plain": "        mean_math\nnclass           \n1           46.25\n2           61.25\n3           45.00\n4           56.75\n5           78.00",
      "text/html": "<div>\n<style scoped>\n    .dataframe tbody tr th:only-of-type {\n        vertical-align: middle;\n    }\n\n    .dataframe tbody tr th {\n        vertical-align: top;\n    }\n\n    .dataframe thead th {\n        text-align: right;\n    }\n</style>\n<table border=\"1\" class=\"dataframe\">\n  <thead>\n    <tr style=\"text-align: right;\">\n      <th></th>\n      <th>mean_math</th>\n    </tr>\n    <tr>\n      <th>nclass</th>\n      <th></th>\n    </tr>\n  </thead>\n  <tbody>\n    <tr>\n      <th>1</th>\n      <td>46.25</td>\n    </tr>\n    <tr>\n      <th>2</th>\n      <td>61.25</td>\n    </tr>\n    <tr>\n      <th>3</th>\n      <td>45.00</td>\n    </tr>\n    <tr>\n      <th>4</th>\n      <td>56.75</td>\n    </tr>\n    <tr>\n      <th>5</th>\n      <td>78.00</td>\n    </tr>\n  </tbody>\n</table>\n</div>"
     },
     "execution_count": 3,
     "metadata": {},
     "output_type": "execute_result"
    }
   ],
   "source": [
    "#nclass별 평균\n",
    "exam.groupby('nclass') \\\n",
    "    .agg(mean_math = ('math', 'mean'))"
   ],
   "metadata": {
    "collapsed": false,
    "ExecuteTime": {
     "end_time": "2023-08-09T23:07:06.715134Z",
     "start_time": "2023-08-09T23:07:06.707678Z"
    }
   },
   "id": "b1a42542e348b971"
  },
  {
   "cell_type": "code",
   "execution_count": 4,
   "outputs": [
    {
     "data": {
      "text/plain": "   nclass  mean_math\n0       1      46.25\n1       2      61.25\n2       3      45.00\n3       4      56.75\n4       5      78.00",
      "text/html": "<div>\n<style scoped>\n    .dataframe tbody tr th:only-of-type {\n        vertical-align: middle;\n    }\n\n    .dataframe tbody tr th {\n        vertical-align: top;\n    }\n\n    .dataframe thead th {\n        text-align: right;\n    }\n</style>\n<table border=\"1\" class=\"dataframe\">\n  <thead>\n    <tr style=\"text-align: right;\">\n      <th></th>\n      <th>nclass</th>\n      <th>mean_math</th>\n    </tr>\n  </thead>\n  <tbody>\n    <tr>\n      <th>0</th>\n      <td>1</td>\n      <td>46.25</td>\n    </tr>\n    <tr>\n      <th>1</th>\n      <td>2</td>\n      <td>61.25</td>\n    </tr>\n    <tr>\n      <th>2</th>\n      <td>3</td>\n      <td>45.00</td>\n    </tr>\n    <tr>\n      <th>3</th>\n      <td>4</td>\n      <td>56.75</td>\n    </tr>\n    <tr>\n      <th>4</th>\n      <td>5</td>\n      <td>78.00</td>\n    </tr>\n  </tbody>\n</table>\n</div>"
     },
     "execution_count": 4,
     "metadata": {},
     "output_type": "execute_result"
    }
   ],
   "source": [
    "#nclass를 인덱스로 바꾸지 않도록 하기 \n",
    "exam.groupby('nclass', as_index = False) \\\n",
    "    .agg(mean_math = ('math', 'mean'))"
   ],
   "metadata": {
    "collapsed": false,
    "ExecuteTime": {
     "end_time": "2023-08-09T23:17:01.448249Z",
     "start_time": "2023-08-09T23:17:01.442489Z"
    }
   },
   "id": "fbc7e1e1b11870e5"
  },
  {
   "cell_type": "code",
   "execution_count": 5,
   "outputs": [
    {
     "data": {
      "text/plain": "        mean_math  sum_math  median_math  n\nnclass                                     \n1           46.25       185         47.5  4\n2           61.25       245         65.0  4\n3           45.00       180         47.5  4\n4           56.75       227         53.0  4\n5           78.00       312         79.0  4",
      "text/html": "<div>\n<style scoped>\n    .dataframe tbody tr th:only-of-type {\n        vertical-align: middle;\n    }\n\n    .dataframe tbody tr th {\n        vertical-align: top;\n    }\n\n    .dataframe thead th {\n        text-align: right;\n    }\n</style>\n<table border=\"1\" class=\"dataframe\">\n  <thead>\n    <tr style=\"text-align: right;\">\n      <th></th>\n      <th>mean_math</th>\n      <th>sum_math</th>\n      <th>median_math</th>\n      <th>n</th>\n    </tr>\n    <tr>\n      <th>nclass</th>\n      <th></th>\n      <th></th>\n      <th></th>\n      <th></th>\n    </tr>\n  </thead>\n  <tbody>\n    <tr>\n      <th>1</th>\n      <td>46.25</td>\n      <td>185</td>\n      <td>47.5</td>\n      <td>4</td>\n    </tr>\n    <tr>\n      <th>2</th>\n      <td>61.25</td>\n      <td>245</td>\n      <td>65.0</td>\n      <td>4</td>\n    </tr>\n    <tr>\n      <th>3</th>\n      <td>45.00</td>\n      <td>180</td>\n      <td>47.5</td>\n      <td>4</td>\n    </tr>\n    <tr>\n      <th>4</th>\n      <td>56.75</td>\n      <td>227</td>\n      <td>53.0</td>\n      <td>4</td>\n    </tr>\n    <tr>\n      <th>5</th>\n      <td>78.00</td>\n      <td>312</td>\n      <td>79.0</td>\n      <td>4</td>\n    </tr>\n  </tbody>\n</table>\n</div>"
     },
     "execution_count": 5,
     "metadata": {},
     "output_type": "execute_result"
    }
   ],
   "source": [
    "exam.groupby('nclass') \\\n",
    "    .agg(mean_math   = ('math', 'mean'),     \n",
    "         sum_math    = ('math', 'sum'),\n",
    "         median_math = ('math', 'median'),          \n",
    "         n           = ('nclass', 'count'))"
   ],
   "metadata": {
    "collapsed": false,
    "ExecuteTime": {
     "end_time": "2023-08-09T23:18:26.986468Z",
     "start_time": "2023-08-09T23:18:26.977456Z"
    }
   },
   "id": "1c6107d9dcf6802"
  },
  {
   "cell_type": "code",
   "execution_count": 6,
   "outputs": [
    {
     "data": {
      "text/plain": "          id   math  english  science\nnclass                               \n1        2.5  46.25    94.75    61.50\n2        6.5  61.25    84.25    58.25\n3       10.5  45.00    86.50    39.25\n4       14.5  56.75    84.75    55.00\n5       18.5  78.00    74.25    83.25",
      "text/html": "<div>\n<style scoped>\n    .dataframe tbody tr th:only-of-type {\n        vertical-align: middle;\n    }\n\n    .dataframe tbody tr th {\n        vertical-align: top;\n    }\n\n    .dataframe thead th {\n        text-align: right;\n    }\n</style>\n<table border=\"1\" class=\"dataframe\">\n  <thead>\n    <tr style=\"text-align: right;\">\n      <th></th>\n      <th>id</th>\n      <th>math</th>\n      <th>english</th>\n      <th>science</th>\n    </tr>\n    <tr>\n      <th>nclass</th>\n      <th></th>\n      <th></th>\n      <th></th>\n      <th></th>\n    </tr>\n  </thead>\n  <tbody>\n    <tr>\n      <th>1</th>\n      <td>2.5</td>\n      <td>46.25</td>\n      <td>94.75</td>\n      <td>61.50</td>\n    </tr>\n    <tr>\n      <th>2</th>\n      <td>6.5</td>\n      <td>61.25</td>\n      <td>84.25</td>\n      <td>58.25</td>\n    </tr>\n    <tr>\n      <th>3</th>\n      <td>10.5</td>\n      <td>45.00</td>\n      <td>86.50</td>\n      <td>39.25</td>\n    </tr>\n    <tr>\n      <th>4</th>\n      <td>14.5</td>\n      <td>56.75</td>\n      <td>84.75</td>\n      <td>55.00</td>\n    </tr>\n    <tr>\n      <th>5</th>\n      <td>18.5</td>\n      <td>78.00</td>\n      <td>74.25</td>\n      <td>83.25</td>\n    </tr>\n  </tbody>\n</table>\n</div>"
     },
     "execution_count": 6,
     "metadata": {},
     "output_type": "execute_result"
    }
   ],
   "source": [
    "#모든 변수의 평균\n",
    "exam.groupby('nclass').mean()"
   ],
   "metadata": {
    "collapsed": false,
    "ExecuteTime": {
     "start_time": "2023-08-09T23:18:39.970037Z"
    }
   },
   "id": "5bc03bbd9d95b08f"
  },
  {
   "cell_type": "code",
   "execution_count": 11,
   "outputs": [
    {
     "data": {
      "text/plain": "    manufacturer   model  displ  year  cyl       trans drv  cty  hwy fl  \\\n0           audi      a4    1.8  1999    4    auto(l5)   f   18   29  p   \n1           audi      a4    1.8  1999    4  manual(m5)   f   21   29  p   \n2           audi      a4    2.0  2008    4  manual(m6)   f   20   31  p   \n3           audi      a4    2.0  2008    4    auto(av)   f   21   30  p   \n4           audi      a4    2.8  1999    6    auto(l5)   f   16   26  p   \n..           ...     ...    ...   ...  ...         ...  ..  ...  ... ..   \n229   volkswagen  passat    2.0  2008    4    auto(s6)   f   19   28  p   \n230   volkswagen  passat    2.0  2008    4  manual(m6)   f   21   29  p   \n231   volkswagen  passat    2.8  1999    6    auto(l5)   f   16   26  p   \n232   volkswagen  passat    2.8  1999    6  manual(m5)   f   18   26  p   \n233   volkswagen  passat    3.6  2008    6    auto(s6)   f   17   26  p   \n\n    category  \n0    compact  \n1    compact  \n2    compact  \n3    compact  \n4    compact  \n..       ...  \n229  midsize  \n230  midsize  \n231  midsize  \n232  midsize  \n233  midsize  \n\n[234 rows x 11 columns]",
      "text/html": "<div>\n<style scoped>\n    .dataframe tbody tr th:only-of-type {\n        vertical-align: middle;\n    }\n\n    .dataframe tbody tr th {\n        vertical-align: top;\n    }\n\n    .dataframe thead th {\n        text-align: right;\n    }\n</style>\n<table border=\"1\" class=\"dataframe\">\n  <thead>\n    <tr style=\"text-align: right;\">\n      <th></th>\n      <th>manufacturer</th>\n      <th>model</th>\n      <th>displ</th>\n      <th>year</th>\n      <th>cyl</th>\n      <th>trans</th>\n      <th>drv</th>\n      <th>cty</th>\n      <th>hwy</th>\n      <th>fl</th>\n      <th>category</th>\n    </tr>\n  </thead>\n  <tbody>\n    <tr>\n      <th>0</th>\n      <td>audi</td>\n      <td>a4</td>\n      <td>1.8</td>\n      <td>1999</td>\n      <td>4</td>\n      <td>auto(l5)</td>\n      <td>f</td>\n      <td>18</td>\n      <td>29</td>\n      <td>p</td>\n      <td>compact</td>\n    </tr>\n    <tr>\n      <th>1</th>\n      <td>audi</td>\n      <td>a4</td>\n      <td>1.8</td>\n      <td>1999</td>\n      <td>4</td>\n      <td>manual(m5)</td>\n      <td>f</td>\n      <td>21</td>\n      <td>29</td>\n      <td>p</td>\n      <td>compact</td>\n    </tr>\n    <tr>\n      <th>2</th>\n      <td>audi</td>\n      <td>a4</td>\n      <td>2.0</td>\n      <td>2008</td>\n      <td>4</td>\n      <td>manual(m6)</td>\n      <td>f</td>\n      <td>20</td>\n      <td>31</td>\n      <td>p</td>\n      <td>compact</td>\n    </tr>\n    <tr>\n      <th>3</th>\n      <td>audi</td>\n      <td>a4</td>\n      <td>2.0</td>\n      <td>2008</td>\n      <td>4</td>\n      <td>auto(av)</td>\n      <td>f</td>\n      <td>21</td>\n      <td>30</td>\n      <td>p</td>\n      <td>compact</td>\n    </tr>\n    <tr>\n      <th>4</th>\n      <td>audi</td>\n      <td>a4</td>\n      <td>2.8</td>\n      <td>1999</td>\n      <td>6</td>\n      <td>auto(l5)</td>\n      <td>f</td>\n      <td>16</td>\n      <td>26</td>\n      <td>p</td>\n      <td>compact</td>\n    </tr>\n    <tr>\n      <th>...</th>\n      <td>...</td>\n      <td>...</td>\n      <td>...</td>\n      <td>...</td>\n      <td>...</td>\n      <td>...</td>\n      <td>...</td>\n      <td>...</td>\n      <td>...</td>\n      <td>...</td>\n      <td>...</td>\n    </tr>\n    <tr>\n      <th>229</th>\n      <td>volkswagen</td>\n      <td>passat</td>\n      <td>2.0</td>\n      <td>2008</td>\n      <td>4</td>\n      <td>auto(s6)</td>\n      <td>f</td>\n      <td>19</td>\n      <td>28</td>\n      <td>p</td>\n      <td>midsize</td>\n    </tr>\n    <tr>\n      <th>230</th>\n      <td>volkswagen</td>\n      <td>passat</td>\n      <td>2.0</td>\n      <td>2008</td>\n      <td>4</td>\n      <td>manual(m6)</td>\n      <td>f</td>\n      <td>21</td>\n      <td>29</td>\n      <td>p</td>\n      <td>midsize</td>\n    </tr>\n    <tr>\n      <th>231</th>\n      <td>volkswagen</td>\n      <td>passat</td>\n      <td>2.8</td>\n      <td>1999</td>\n      <td>6</td>\n      <td>auto(l5)</td>\n      <td>f</td>\n      <td>16</td>\n      <td>26</td>\n      <td>p</td>\n      <td>midsize</td>\n    </tr>\n    <tr>\n      <th>232</th>\n      <td>volkswagen</td>\n      <td>passat</td>\n      <td>2.8</td>\n      <td>1999</td>\n      <td>6</td>\n      <td>manual(m5)</td>\n      <td>f</td>\n      <td>18</td>\n      <td>26</td>\n      <td>p</td>\n      <td>midsize</td>\n    </tr>\n    <tr>\n      <th>233</th>\n      <td>volkswagen</td>\n      <td>passat</td>\n      <td>3.6</td>\n      <td>2008</td>\n      <td>6</td>\n      <td>auto(s6)</td>\n      <td>f</td>\n      <td>17</td>\n      <td>26</td>\n      <td>p</td>\n      <td>midsize</td>\n    </tr>\n  </tbody>\n</table>\n<p>234 rows × 11 columns</p>\n</div>"
     },
     "execution_count": 11,
     "metadata": {},
     "output_type": "execute_result"
    }
   ],
   "source": [
    "mpg = pd.read_csv('../files/mpg.csv')\n",
    "mpg"
   ],
   "metadata": {
    "collapsed": false,
    "ExecuteTime": {
     "end_time": "2023-08-09T23:21:09.675062Z",
     "start_time": "2023-08-09T23:21:09.664500Z"
    }
   },
   "id": "e942f9bbed83ed27"
  },
  {
   "cell_type": "code",
   "execution_count": 14,
   "outputs": [
    {
     "data": {
      "text/plain": "                   mean_cty\nmanufacturer drv           \naudi         4    16.818182\n             f    18.857143\nchevrolet    4    12.500000\n             f    18.800000\n             r    14.100000\ndodge        4    12.000000\n             f    15.818182\nford         4    13.307692\n             r    14.750000\nhonda        f    24.444444\nhyundai      f    18.642857\njeep         4    13.500000\nland rover   4    11.500000\nlincoln      r    11.333333\nmercury      4    13.250000\nnissan       4    13.750000\n             f    20.000000\npontiac      f    17.000000\nsubaru       4    19.285714\ntoyota       4    14.933333\n             f    21.368421\nvolkswagen   f    20.925926",
      "text/html": "<div>\n<style scoped>\n    .dataframe tbody tr th:only-of-type {\n        vertical-align: middle;\n    }\n\n    .dataframe tbody tr th {\n        vertical-align: top;\n    }\n\n    .dataframe thead th {\n        text-align: right;\n    }\n</style>\n<table border=\"1\" class=\"dataframe\">\n  <thead>\n    <tr style=\"text-align: right;\">\n      <th></th>\n      <th></th>\n      <th>mean_cty</th>\n    </tr>\n    <tr>\n      <th>manufacturer</th>\n      <th>drv</th>\n      <th></th>\n    </tr>\n  </thead>\n  <tbody>\n    <tr>\n      <th rowspan=\"2\" valign=\"top\">audi</th>\n      <th>4</th>\n      <td>16.818182</td>\n    </tr>\n    <tr>\n      <th>f</th>\n      <td>18.857143</td>\n    </tr>\n    <tr>\n      <th rowspan=\"3\" valign=\"top\">chevrolet</th>\n      <th>4</th>\n      <td>12.500000</td>\n    </tr>\n    <tr>\n      <th>f</th>\n      <td>18.800000</td>\n    </tr>\n    <tr>\n      <th>r</th>\n      <td>14.100000</td>\n    </tr>\n    <tr>\n      <th rowspan=\"2\" valign=\"top\">dodge</th>\n      <th>4</th>\n      <td>12.000000</td>\n    </tr>\n    <tr>\n      <th>f</th>\n      <td>15.818182</td>\n    </tr>\n    <tr>\n      <th rowspan=\"2\" valign=\"top\">ford</th>\n      <th>4</th>\n      <td>13.307692</td>\n    </tr>\n    <tr>\n      <th>r</th>\n      <td>14.750000</td>\n    </tr>\n    <tr>\n      <th>honda</th>\n      <th>f</th>\n      <td>24.444444</td>\n    </tr>\n    <tr>\n      <th>hyundai</th>\n      <th>f</th>\n      <td>18.642857</td>\n    </tr>\n    <tr>\n      <th>jeep</th>\n      <th>4</th>\n      <td>13.500000</td>\n    </tr>\n    <tr>\n      <th>land rover</th>\n      <th>4</th>\n      <td>11.500000</td>\n    </tr>\n    <tr>\n      <th>lincoln</th>\n      <th>r</th>\n      <td>11.333333</td>\n    </tr>\n    <tr>\n      <th>mercury</th>\n      <th>4</th>\n      <td>13.250000</td>\n    </tr>\n    <tr>\n      <th rowspan=\"2\" valign=\"top\">nissan</th>\n      <th>4</th>\n      <td>13.750000</td>\n    </tr>\n    <tr>\n      <th>f</th>\n      <td>20.000000</td>\n    </tr>\n    <tr>\n      <th>pontiac</th>\n      <th>f</th>\n      <td>17.000000</td>\n    </tr>\n    <tr>\n      <th>subaru</th>\n      <th>4</th>\n      <td>19.285714</td>\n    </tr>\n    <tr>\n      <th rowspan=\"2\" valign=\"top\">toyota</th>\n      <th>4</th>\n      <td>14.933333</td>\n    </tr>\n    <tr>\n      <th>f</th>\n      <td>21.368421</td>\n    </tr>\n    <tr>\n      <th>volkswagen</th>\n      <th>f</th>\n      <td>20.925926</td>\n    </tr>\n  </tbody>\n</table>\n</div>"
     },
     "execution_count": 14,
     "metadata": {},
     "output_type": "execute_result"
    }
   ],
   "source": [
    "mpg.groupby(['manufacturer', 'drv']) \\\n",
    "   .agg(mean_cty = ('cty', 'mean'))"
   ],
   "metadata": {
    "collapsed": false,
    "ExecuteTime": {
     "end_time": "2023-08-09T23:21:34.334896Z",
     "start_time": "2023-08-09T23:21:34.326465Z"
    }
   },
   "id": "dc16cd978d0b75f1"
  },
  {
   "cell_type": "code",
   "execution_count": 15,
   "outputs": [
    {
     "data": {
      "text/plain": "      n\ndrv    \n4    11\nf     7",
      "text/html": "<div>\n<style scoped>\n    .dataframe tbody tr th:only-of-type {\n        vertical-align: middle;\n    }\n\n    .dataframe tbody tr th {\n        vertical-align: top;\n    }\n\n    .dataframe thead th {\n        text-align: right;\n    }\n</style>\n<table border=\"1\" class=\"dataframe\">\n  <thead>\n    <tr style=\"text-align: right;\">\n      <th></th>\n      <th>n</th>\n    </tr>\n    <tr>\n      <th>drv</th>\n      <th></th>\n    </tr>\n  </thead>\n  <tbody>\n    <tr>\n      <th>4</th>\n      <td>11</td>\n    </tr>\n    <tr>\n      <th>f</th>\n      <td>7</td>\n    </tr>\n  </tbody>\n</table>\n</div>"
     },
     "execution_count": 15,
     "metadata": {},
     "output_type": "execute_result"
    }
   ],
   "source": [
    "mpg.query('manufacturer == \"audi\"') \\\n",
    "   .groupby(['drv']) \\\n",
    "   .agg(n = ('drv', 'count'))"
   ],
   "metadata": {
    "collapsed": false,
    "ExecuteTime": {
     "end_time": "2023-08-09T23:22:11.322251Z",
     "start_time": "2023-08-09T23:22:11.320330Z"
    }
   },
   "id": "cc752c105c5952d9"
  },
  {
   "cell_type": "code",
   "execution_count": 16,
   "outputs": [
    {
     "data": {
      "text/plain": "      n\ndrv    \n4     4\nf     5\nr    10",
      "text/html": "<div>\n<style scoped>\n    .dataframe tbody tr th:only-of-type {\n        vertical-align: middle;\n    }\n\n    .dataframe tbody tr th {\n        vertical-align: top;\n    }\n\n    .dataframe thead th {\n        text-align: right;\n    }\n</style>\n<table border=\"1\" class=\"dataframe\">\n  <thead>\n    <tr style=\"text-align: right;\">\n      <th></th>\n      <th>n</th>\n    </tr>\n    <tr>\n      <th>drv</th>\n      <th></th>\n    </tr>\n  </thead>\n  <tbody>\n    <tr>\n      <th>4</th>\n      <td>4</td>\n    </tr>\n    <tr>\n      <th>f</th>\n      <td>5</td>\n    </tr>\n    <tr>\n      <th>r</th>\n      <td>10</td>\n    </tr>\n  </tbody>\n</table>\n</div>"
     },
     "execution_count": 16,
     "metadata": {},
     "output_type": "execute_result"
    }
   ],
   "source": [
    "mpg.query('manufacturer == \"chevrolet\"') \\\n",
    "   .groupby(['drv']) \\\n",
    "   .agg(n = ('drv', 'count'))"
   ],
   "metadata": {
    "collapsed": false,
    "ExecuteTime": {
     "end_time": "2023-08-09T23:22:30.891669Z",
     "start_time": "2023-08-09T23:22:30.883802Z"
    }
   },
   "id": "6755d1777d6323c7"
  },
  {
   "cell_type": "code",
   "execution_count": 18,
   "outputs": [
    {
     "data": {
      "text/plain": "       n\ndrv     \n4    103\nf    106\nr     25",
      "text/html": "<div>\n<style scoped>\n    .dataframe tbody tr th:only-of-type {\n        vertical-align: middle;\n    }\n\n    .dataframe tbody tr th {\n        vertical-align: top;\n    }\n\n    .dataframe thead th {\n        text-align: right;\n    }\n</style>\n<table border=\"1\" class=\"dataframe\">\n  <thead>\n    <tr style=\"text-align: right;\">\n      <th></th>\n      <th>n</th>\n    </tr>\n    <tr>\n      <th>drv</th>\n      <th></th>\n    </tr>\n  </thead>\n  <tbody>\n    <tr>\n      <th>4</th>\n      <td>103</td>\n    </tr>\n    <tr>\n      <th>f</th>\n      <td>106</td>\n    </tr>\n    <tr>\n      <th>r</th>\n      <td>25</td>\n    </tr>\n  </tbody>\n</table>\n</div>"
     },
     "execution_count": 18,
     "metadata": {},
     "output_type": "execute_result"
    }
   ],
   "source": [
    "mpg.groupby('drv') \\\n",
    "   .agg(n = ('drv', 'count'))"
   ],
   "metadata": {
    "collapsed": false,
    "ExecuteTime": {
     "end_time": "2023-08-09T23:24:14.140866Z",
     "start_time": "2023-08-09T23:24:14.121804Z"
    }
   },
   "id": "a72dcbe14e36d24a"
  },
  {
   "cell_type": "code",
   "execution_count": 17,
   "outputs": [
    {
     "data": {
      "text/plain": "f    106\n4    103\nr     25\nName: drv, dtype: int64"
     },
     "execution_count": 17,
     "metadata": {},
     "output_type": "execute_result"
    }
   ],
   "source": [
    "#집단별 빈도를 구할때 groupby - agg를 사용해도 되지만 value_counts를 사용해도 된다\n",
    "mpg['drv'].value_counts()"
   ],
   "metadata": {
    "collapsed": false,
    "ExecuteTime": {
     "start_time": "2023-08-09T23:24:07.744658Z"
    }
   },
   "id": "758f43fd5441c468"
  },
  {
   "cell_type": "code",
   "execution_count": 19,
   "outputs": [],
   "source": [
    "# value_count는 시리즈 자료구조기 때문에 query를 사용하지 못한다\n",
    "# mpg['drv'].value_counts().query('n > 100')"
   ],
   "metadata": {
    "collapsed": false,
    "ExecuteTime": {
     "end_time": "2023-08-09T23:28:52.309210Z",
     "start_time": "2023-08-09T23:28:52.301092Z"
    }
   },
   "id": "24573f783ff8979e"
  },
  {
   "cell_type": "code",
   "execution_count": 23,
   "outputs": [
    {
     "data": {
      "text/plain": "       n\ndrv     \nf    106\n4    103",
      "text/html": "<div>\n<style scoped>\n    .dataframe tbody tr th:only-of-type {\n        vertical-align: middle;\n    }\n\n    .dataframe tbody tr th {\n        vertical-align: top;\n    }\n\n    .dataframe thead th {\n        text-align: right;\n    }\n</style>\n<table border=\"1\" class=\"dataframe\">\n  <thead>\n    <tr style=\"text-align: right;\">\n      <th></th>\n      <th>n</th>\n    </tr>\n    <tr>\n      <th>drv</th>\n      <th></th>\n    </tr>\n  </thead>\n  <tbody>\n    <tr>\n      <th>f</th>\n      <td>106</td>\n    </tr>\n    <tr>\n      <th>4</th>\n      <td>103</td>\n    </tr>\n  </tbody>\n</table>\n</div>"
     },
     "execution_count": 23,
     "metadata": {},
     "output_type": "execute_result"
    }
   ],
   "source": [
    "# drv 빈도 구하기\n",
    "# 데이터 프레임으로 바꾸기, 변수명 n으로 바꾸기\n",
    "# axis 이름에 drv 지정\n",
    "# n이 100을 초과한 경우 추출\n",
    "mpg['drv'].value_counts() \\\n",
    "          .to_frame('n') \\\n",
    "          .rename_axis('drv') \\\n",
    "          .query('n > 100')"
   ],
   "metadata": {
    "collapsed": false,
    "ExecuteTime": {
     "end_time": "2023-08-09T23:29:48.917130Z",
     "start_time": "2023-08-09T23:29:48.915155Z"
    }
   },
   "id": "ba3c01ffc302cca4"
  },
  {
   "cell_type": "code",
   "execution_count": 24,
   "outputs": [
    {
     "data": {
      "text/plain": "               mean_tot\nmanufacturer           \nsubaru        21.916667\ntoyota        16.312500\nnissan        15.875000\nmercury       15.625000\njeep          15.562500",
      "text/html": "<div>\n<style scoped>\n    .dataframe tbody tr th:only-of-type {\n        vertical-align: middle;\n    }\n\n    .dataframe tbody tr th {\n        vertical-align: top;\n    }\n\n    .dataframe thead th {\n        text-align: right;\n    }\n</style>\n<table border=\"1\" class=\"dataframe\">\n  <thead>\n    <tr style=\"text-align: right;\">\n      <th></th>\n      <th>mean_tot</th>\n    </tr>\n    <tr>\n      <th>manufacturer</th>\n      <th></th>\n    </tr>\n  </thead>\n  <tbody>\n    <tr>\n      <th>subaru</th>\n      <td>21.916667</td>\n    </tr>\n    <tr>\n      <th>toyota</th>\n      <td>16.312500</td>\n    </tr>\n    <tr>\n      <th>nissan</th>\n      <td>15.875000</td>\n    </tr>\n    <tr>\n      <th>mercury</th>\n      <td>15.625000</td>\n    </tr>\n    <tr>\n      <th>jeep</th>\n      <td>15.562500</td>\n    </tr>\n  </tbody>\n</table>\n</div>"
     },
     "execution_count": 24,
     "metadata": {},
     "output_type": "execute_result"
    }
   ],
   "source": [
    "# suv 추출\n",
    "# 합산 연비 변수 만들기\n",
    "# 제조 회사별로 분리\n",
    "# 합산 연비 평균 구하기\n",
    "# 내림차순 정렬\n",
    "# 1~5위까지 출력\n",
    "mpg.query('category == \"suv\"') \\\n",
    "   .assign(total = (mpg['hwy'] + mpg['cty']) / 2) \\\n",
    "   .groupby('manufacturer') \\\n",
    "   .agg(mean_tot = ('total', 'mean')) \\\n",
    "   .sort_values('mean_tot', ascending = False) \\\n",
    "   .head()"
   ],
   "metadata": {
    "collapsed": false,
    "ExecuteTime": {
     "end_time": "2023-08-09T23:30:12.756071Z",
     "start_time": "2023-08-09T23:30:12.747134Z"
    }
   },
   "id": "9a9c0677914d4415"
  },
  {
   "cell_type": "code",
   "execution_count": null,
   "outputs": [],
   "source": [],
   "metadata": {
    "collapsed": false
   },
   "id": "91e7c4215a213d5f"
  }
 ],
 "metadata": {
  "kernelspec": {
   "display_name": "Python 3",
   "language": "python",
   "name": "python3"
  },
  "language_info": {
   "codemirror_mode": {
    "name": "ipython",
    "version": 2
   },
   "file_extension": ".py",
   "mimetype": "text/x-python",
   "name": "python",
   "nbconvert_exporter": "python",
   "pygments_lexer": "ipython2",
   "version": "2.7.6"
  }
 },
 "nbformat": 4,
 "nbformat_minor": 5
}
