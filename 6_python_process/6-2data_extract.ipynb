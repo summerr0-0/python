{
 "cells": [
  {
   "cell_type": "code",
   "execution_count": 5,
   "id": "initial_id",
   "metadata": {
    "collapsed": true,
    "ExecuteTime": {
     "end_time": "2023-08-09T21:56:18.006327Z",
     "start_time": "2023-08-09T21:56:17.970474Z"
    }
   },
   "outputs": [
    {
     "data": {
      "text/plain": "    id  nclass  math  english  science\n0    1       1    50       98       50\n1    2       1    60       97       60\n2    3       1    45       86       78\n3    4       1    30       98       58\n4    5       2    25       80       65\n5    6       2    50       89       98\n6    7       2    80       90       45\n7    8       2    90       78       25\n8    9       3    20       98       15\n9   10       3    50       98       45\n10  11       3    65       65       65\n11  12       3    45       85       32\n12  13       4    46       98       65\n13  14       4    48       87       12\n14  15       4    75       56       78\n15  16       4    58       98       65\n16  17       5    65       68       98\n17  18       5    80       78       90\n18  19       5    89       68       87\n19  20       5    78       83       58",
      "text/html": "<div>\n<style scoped>\n    .dataframe tbody tr th:only-of-type {\n        vertical-align: middle;\n    }\n\n    .dataframe tbody tr th {\n        vertical-align: top;\n    }\n\n    .dataframe thead th {\n        text-align: right;\n    }\n</style>\n<table border=\"1\" class=\"dataframe\">\n  <thead>\n    <tr style=\"text-align: right;\">\n      <th></th>\n      <th>id</th>\n      <th>nclass</th>\n      <th>math</th>\n      <th>english</th>\n      <th>science</th>\n    </tr>\n  </thead>\n  <tbody>\n    <tr>\n      <th>0</th>\n      <td>1</td>\n      <td>1</td>\n      <td>50</td>\n      <td>98</td>\n      <td>50</td>\n    </tr>\n    <tr>\n      <th>1</th>\n      <td>2</td>\n      <td>1</td>\n      <td>60</td>\n      <td>97</td>\n      <td>60</td>\n    </tr>\n    <tr>\n      <th>2</th>\n      <td>3</td>\n      <td>1</td>\n      <td>45</td>\n      <td>86</td>\n      <td>78</td>\n    </tr>\n    <tr>\n      <th>3</th>\n      <td>4</td>\n      <td>1</td>\n      <td>30</td>\n      <td>98</td>\n      <td>58</td>\n    </tr>\n    <tr>\n      <th>4</th>\n      <td>5</td>\n      <td>2</td>\n      <td>25</td>\n      <td>80</td>\n      <td>65</td>\n    </tr>\n    <tr>\n      <th>5</th>\n      <td>6</td>\n      <td>2</td>\n      <td>50</td>\n      <td>89</td>\n      <td>98</td>\n    </tr>\n    <tr>\n      <th>6</th>\n      <td>7</td>\n      <td>2</td>\n      <td>80</td>\n      <td>90</td>\n      <td>45</td>\n    </tr>\n    <tr>\n      <th>7</th>\n      <td>8</td>\n      <td>2</td>\n      <td>90</td>\n      <td>78</td>\n      <td>25</td>\n    </tr>\n    <tr>\n      <th>8</th>\n      <td>9</td>\n      <td>3</td>\n      <td>20</td>\n      <td>98</td>\n      <td>15</td>\n    </tr>\n    <tr>\n      <th>9</th>\n      <td>10</td>\n      <td>3</td>\n      <td>50</td>\n      <td>98</td>\n      <td>45</td>\n    </tr>\n    <tr>\n      <th>10</th>\n      <td>11</td>\n      <td>3</td>\n      <td>65</td>\n      <td>65</td>\n      <td>65</td>\n    </tr>\n    <tr>\n      <th>11</th>\n      <td>12</td>\n      <td>3</td>\n      <td>45</td>\n      <td>85</td>\n      <td>32</td>\n    </tr>\n    <tr>\n      <th>12</th>\n      <td>13</td>\n      <td>4</td>\n      <td>46</td>\n      <td>98</td>\n      <td>65</td>\n    </tr>\n    <tr>\n      <th>13</th>\n      <td>14</td>\n      <td>4</td>\n      <td>48</td>\n      <td>87</td>\n      <td>12</td>\n    </tr>\n    <tr>\n      <th>14</th>\n      <td>15</td>\n      <td>4</td>\n      <td>75</td>\n      <td>56</td>\n      <td>78</td>\n    </tr>\n    <tr>\n      <th>15</th>\n      <td>16</td>\n      <td>4</td>\n      <td>58</td>\n      <td>98</td>\n      <td>65</td>\n    </tr>\n    <tr>\n      <th>16</th>\n      <td>17</td>\n      <td>5</td>\n      <td>65</td>\n      <td>68</td>\n      <td>98</td>\n    </tr>\n    <tr>\n      <th>17</th>\n      <td>18</td>\n      <td>5</td>\n      <td>80</td>\n      <td>78</td>\n      <td>90</td>\n    </tr>\n    <tr>\n      <th>18</th>\n      <td>19</td>\n      <td>5</td>\n      <td>89</td>\n      <td>68</td>\n      <td>87</td>\n    </tr>\n    <tr>\n      <th>19</th>\n      <td>20</td>\n      <td>5</td>\n      <td>78</td>\n      <td>83</td>\n      <td>58</td>\n    </tr>\n  </tbody>\n</table>\n</div>"
     },
     "execution_count": 5,
     "metadata": {},
     "output_type": "execute_result"
    }
   ],
   "source": [
    "import pandas as pd\n",
    "\n",
    "exam = pd.read_csv('../files/exam.csv')\n",
    "exam"
   ]
  },
  {
   "cell_type": "code",
   "execution_count": 6,
   "outputs": [
    {
     "data": {
      "text/plain": "   id  nclass  math  english  science\n0   1       1    50       98       50\n1   2       1    60       97       60\n2   3       1    45       86       78\n3   4       1    30       98       58",
      "text/html": "<div>\n<style scoped>\n    .dataframe tbody tr th:only-of-type {\n        vertical-align: middle;\n    }\n\n    .dataframe tbody tr th {\n        vertical-align: top;\n    }\n\n    .dataframe thead th {\n        text-align: right;\n    }\n</style>\n<table border=\"1\" class=\"dataframe\">\n  <thead>\n    <tr style=\"text-align: right;\">\n      <th></th>\n      <th>id</th>\n      <th>nclass</th>\n      <th>math</th>\n      <th>english</th>\n      <th>science</th>\n    </tr>\n  </thead>\n  <tbody>\n    <tr>\n      <th>0</th>\n      <td>1</td>\n      <td>1</td>\n      <td>50</td>\n      <td>98</td>\n      <td>50</td>\n    </tr>\n    <tr>\n      <th>1</th>\n      <td>2</td>\n      <td>1</td>\n      <td>60</td>\n      <td>97</td>\n      <td>60</td>\n    </tr>\n    <tr>\n      <th>2</th>\n      <td>3</td>\n      <td>1</td>\n      <td>45</td>\n      <td>86</td>\n      <td>78</td>\n    </tr>\n    <tr>\n      <th>3</th>\n      <td>4</td>\n      <td>1</td>\n      <td>30</td>\n      <td>98</td>\n      <td>58</td>\n    </tr>\n  </tbody>\n</table>\n</div>"
     },
     "execution_count": 6,
     "metadata": {},
     "output_type": "execute_result"
    }
   ],
   "source": [
    "# nclass가 1인 경우만 추출\n",
    "exam.query('nclass == 1')"
   ],
   "metadata": {
    "collapsed": false,
    "ExecuteTime": {
     "end_time": "2023-08-09T21:57:39.115127Z",
     "start_time": "2023-08-09T21:57:39.108132Z"
    }
   },
   "id": "ed761dcc961596bc"
  },
  {
   "cell_type": "code",
   "execution_count": 7,
   "outputs": [
    {
     "data": {
      "text/plain": "   id  nclass  math  english  science\n4   5       2    25       80       65\n5   6       2    50       89       98\n6   7       2    80       90       45\n7   8       2    90       78       25",
      "text/html": "<div>\n<style scoped>\n    .dataframe tbody tr th:only-of-type {\n        vertical-align: middle;\n    }\n\n    .dataframe tbody tr th {\n        vertical-align: top;\n    }\n\n    .dataframe thead th {\n        text-align: right;\n    }\n</style>\n<table border=\"1\" class=\"dataframe\">\n  <thead>\n    <tr style=\"text-align: right;\">\n      <th></th>\n      <th>id</th>\n      <th>nclass</th>\n      <th>math</th>\n      <th>english</th>\n      <th>science</th>\n    </tr>\n  </thead>\n  <tbody>\n    <tr>\n      <th>4</th>\n      <td>5</td>\n      <td>2</td>\n      <td>25</td>\n      <td>80</td>\n      <td>65</td>\n    </tr>\n    <tr>\n      <th>5</th>\n      <td>6</td>\n      <td>2</td>\n      <td>50</td>\n      <td>89</td>\n      <td>98</td>\n    </tr>\n    <tr>\n      <th>6</th>\n      <td>7</td>\n      <td>2</td>\n      <td>80</td>\n      <td>90</td>\n      <td>45</td>\n    </tr>\n    <tr>\n      <th>7</th>\n      <td>8</td>\n      <td>2</td>\n      <td>90</td>\n      <td>78</td>\n      <td>25</td>\n    </tr>\n  </tbody>\n</table>\n</div>"
     },
     "execution_count": 7,
     "metadata": {},
     "output_type": "execute_result"
    }
   ],
   "source": [
    "# nlacss가 2인 경우만 추출\n",
    "exam.query('nclass == 2')"
   ],
   "metadata": {
    "collapsed": false,
    "ExecuteTime": {
     "end_time": "2023-08-09T21:57:57.335761Z",
     "start_time": "2023-08-09T21:57:57.331102Z"
    }
   },
   "id": "a4a7b10b65fc12e9"
  },
  {
   "cell_type": "code",
   "execution_count": 8,
   "outputs": [
    {
     "data": {
      "text/plain": "    id  nclass  math  english  science\n4    5       2    25       80       65\n5    6       2    50       89       98\n6    7       2    80       90       45\n7    8       2    90       78       25\n8    9       3    20       98       15\n9   10       3    50       98       45\n10  11       3    65       65       65\n11  12       3    45       85       32\n12  13       4    46       98       65\n13  14       4    48       87       12\n14  15       4    75       56       78\n15  16       4    58       98       65\n16  17       5    65       68       98\n17  18       5    80       78       90\n18  19       5    89       68       87\n19  20       5    78       83       58",
      "text/html": "<div>\n<style scoped>\n    .dataframe tbody tr th:only-of-type {\n        vertical-align: middle;\n    }\n\n    .dataframe tbody tr th {\n        vertical-align: top;\n    }\n\n    .dataframe thead th {\n        text-align: right;\n    }\n</style>\n<table border=\"1\" class=\"dataframe\">\n  <thead>\n    <tr style=\"text-align: right;\">\n      <th></th>\n      <th>id</th>\n      <th>nclass</th>\n      <th>math</th>\n      <th>english</th>\n      <th>science</th>\n    </tr>\n  </thead>\n  <tbody>\n    <tr>\n      <th>4</th>\n      <td>5</td>\n      <td>2</td>\n      <td>25</td>\n      <td>80</td>\n      <td>65</td>\n    </tr>\n    <tr>\n      <th>5</th>\n      <td>6</td>\n      <td>2</td>\n      <td>50</td>\n      <td>89</td>\n      <td>98</td>\n    </tr>\n    <tr>\n      <th>6</th>\n      <td>7</td>\n      <td>2</td>\n      <td>80</td>\n      <td>90</td>\n      <td>45</td>\n    </tr>\n    <tr>\n      <th>7</th>\n      <td>8</td>\n      <td>2</td>\n      <td>90</td>\n      <td>78</td>\n      <td>25</td>\n    </tr>\n    <tr>\n      <th>8</th>\n      <td>9</td>\n      <td>3</td>\n      <td>20</td>\n      <td>98</td>\n      <td>15</td>\n    </tr>\n    <tr>\n      <th>9</th>\n      <td>10</td>\n      <td>3</td>\n      <td>50</td>\n      <td>98</td>\n      <td>45</td>\n    </tr>\n    <tr>\n      <th>10</th>\n      <td>11</td>\n      <td>3</td>\n      <td>65</td>\n      <td>65</td>\n      <td>65</td>\n    </tr>\n    <tr>\n      <th>11</th>\n      <td>12</td>\n      <td>3</td>\n      <td>45</td>\n      <td>85</td>\n      <td>32</td>\n    </tr>\n    <tr>\n      <th>12</th>\n      <td>13</td>\n      <td>4</td>\n      <td>46</td>\n      <td>98</td>\n      <td>65</td>\n    </tr>\n    <tr>\n      <th>13</th>\n      <td>14</td>\n      <td>4</td>\n      <td>48</td>\n      <td>87</td>\n      <td>12</td>\n    </tr>\n    <tr>\n      <th>14</th>\n      <td>15</td>\n      <td>4</td>\n      <td>75</td>\n      <td>56</td>\n      <td>78</td>\n    </tr>\n    <tr>\n      <th>15</th>\n      <td>16</td>\n      <td>4</td>\n      <td>58</td>\n      <td>98</td>\n      <td>65</td>\n    </tr>\n    <tr>\n      <th>16</th>\n      <td>17</td>\n      <td>5</td>\n      <td>65</td>\n      <td>68</td>\n      <td>98</td>\n    </tr>\n    <tr>\n      <th>17</th>\n      <td>18</td>\n      <td>5</td>\n      <td>80</td>\n      <td>78</td>\n      <td>90</td>\n    </tr>\n    <tr>\n      <th>18</th>\n      <td>19</td>\n      <td>5</td>\n      <td>89</td>\n      <td>68</td>\n      <td>87</td>\n    </tr>\n    <tr>\n      <th>19</th>\n      <td>20</td>\n      <td>5</td>\n      <td>78</td>\n      <td>83</td>\n      <td>58</td>\n    </tr>\n  </tbody>\n</table>\n</div>"
     },
     "execution_count": 8,
     "metadata": {},
     "output_type": "execute_result"
    }
   ],
   "source": [
    "# nclass가 1이 아닌 경우\n",
    "exam.query('nclass != 1')"
   ],
   "metadata": {
    "collapsed": false,
    "ExecuteTime": {
     "end_time": "2023-08-09T21:58:15.085770Z",
     "start_time": "2023-08-09T21:58:15.067589Z"
    }
   },
   "id": "a3acfc1e4a0b9ceb"
  },
  {
   "cell_type": "code",
   "execution_count": 9,
   "outputs": [
    {
     "data": {
      "text/plain": "    id  nclass  math  english  science\n0    1       1    50       98       50\n1    2       1    60       97       60\n2    3       1    45       86       78\n3    4       1    30       98       58\n4    5       2    25       80       65\n5    6       2    50       89       98\n6    7       2    80       90       45\n7    8       2    90       78       25\n12  13       4    46       98       65\n13  14       4    48       87       12\n14  15       4    75       56       78\n15  16       4    58       98       65\n16  17       5    65       68       98\n17  18       5    80       78       90\n18  19       5    89       68       87\n19  20       5    78       83       58",
      "text/html": "<div>\n<style scoped>\n    .dataframe tbody tr th:only-of-type {\n        vertical-align: middle;\n    }\n\n    .dataframe tbody tr th {\n        vertical-align: top;\n    }\n\n    .dataframe thead th {\n        text-align: right;\n    }\n</style>\n<table border=\"1\" class=\"dataframe\">\n  <thead>\n    <tr style=\"text-align: right;\">\n      <th></th>\n      <th>id</th>\n      <th>nclass</th>\n      <th>math</th>\n      <th>english</th>\n      <th>science</th>\n    </tr>\n  </thead>\n  <tbody>\n    <tr>\n      <th>0</th>\n      <td>1</td>\n      <td>1</td>\n      <td>50</td>\n      <td>98</td>\n      <td>50</td>\n    </tr>\n    <tr>\n      <th>1</th>\n      <td>2</td>\n      <td>1</td>\n      <td>60</td>\n      <td>97</td>\n      <td>60</td>\n    </tr>\n    <tr>\n      <th>2</th>\n      <td>3</td>\n      <td>1</td>\n      <td>45</td>\n      <td>86</td>\n      <td>78</td>\n    </tr>\n    <tr>\n      <th>3</th>\n      <td>4</td>\n      <td>1</td>\n      <td>30</td>\n      <td>98</td>\n      <td>58</td>\n    </tr>\n    <tr>\n      <th>4</th>\n      <td>5</td>\n      <td>2</td>\n      <td>25</td>\n      <td>80</td>\n      <td>65</td>\n    </tr>\n    <tr>\n      <th>5</th>\n      <td>6</td>\n      <td>2</td>\n      <td>50</td>\n      <td>89</td>\n      <td>98</td>\n    </tr>\n    <tr>\n      <th>6</th>\n      <td>7</td>\n      <td>2</td>\n      <td>80</td>\n      <td>90</td>\n      <td>45</td>\n    </tr>\n    <tr>\n      <th>7</th>\n      <td>8</td>\n      <td>2</td>\n      <td>90</td>\n      <td>78</td>\n      <td>25</td>\n    </tr>\n    <tr>\n      <th>12</th>\n      <td>13</td>\n      <td>4</td>\n      <td>46</td>\n      <td>98</td>\n      <td>65</td>\n    </tr>\n    <tr>\n      <th>13</th>\n      <td>14</td>\n      <td>4</td>\n      <td>48</td>\n      <td>87</td>\n      <td>12</td>\n    </tr>\n    <tr>\n      <th>14</th>\n      <td>15</td>\n      <td>4</td>\n      <td>75</td>\n      <td>56</td>\n      <td>78</td>\n    </tr>\n    <tr>\n      <th>15</th>\n      <td>16</td>\n      <td>4</td>\n      <td>58</td>\n      <td>98</td>\n      <td>65</td>\n    </tr>\n    <tr>\n      <th>16</th>\n      <td>17</td>\n      <td>5</td>\n      <td>65</td>\n      <td>68</td>\n      <td>98</td>\n    </tr>\n    <tr>\n      <th>17</th>\n      <td>18</td>\n      <td>5</td>\n      <td>80</td>\n      <td>78</td>\n      <td>90</td>\n    </tr>\n    <tr>\n      <th>18</th>\n      <td>19</td>\n      <td>5</td>\n      <td>89</td>\n      <td>68</td>\n      <td>87</td>\n    </tr>\n    <tr>\n      <th>19</th>\n      <td>20</td>\n      <td>5</td>\n      <td>78</td>\n      <td>83</td>\n      <td>58</td>\n    </tr>\n  </tbody>\n</table>\n</div>"
     },
     "execution_count": 9,
     "metadata": {},
     "output_type": "execute_result"
    }
   ],
   "source": [
    "exam.query('nclass != 3')"
   ],
   "metadata": {
    "collapsed": false,
    "ExecuteTime": {
     "end_time": "2023-08-09T21:58:24.701372Z",
     "start_time": "2023-08-09T21:58:24.699558Z"
    }
   },
   "id": "422b6e51a4315fe5"
  },
  {
   "cell_type": "code",
   "execution_count": 11,
   "outputs": [
    {
     "data": {
      "text/plain": "    id  nclass  math  english  science\n1    2       1    60       97       60\n6    7       2    80       90       45\n7    8       2    90       78       25\n10  11       3    65       65       65\n14  15       4    75       56       78\n15  16       4    58       98       65\n16  17       5    65       68       98\n17  18       5    80       78       90\n18  19       5    89       68       87\n19  20       5    78       83       58",
      "text/html": "<div>\n<style scoped>\n    .dataframe tbody tr th:only-of-type {\n        vertical-align: middle;\n    }\n\n    .dataframe tbody tr th {\n        vertical-align: top;\n    }\n\n    .dataframe thead th {\n        text-align: right;\n    }\n</style>\n<table border=\"1\" class=\"dataframe\">\n  <thead>\n    <tr style=\"text-align: right;\">\n      <th></th>\n      <th>id</th>\n      <th>nclass</th>\n      <th>math</th>\n      <th>english</th>\n      <th>science</th>\n    </tr>\n  </thead>\n  <tbody>\n    <tr>\n      <th>1</th>\n      <td>2</td>\n      <td>1</td>\n      <td>60</td>\n      <td>97</td>\n      <td>60</td>\n    </tr>\n    <tr>\n      <th>6</th>\n      <td>7</td>\n      <td>2</td>\n      <td>80</td>\n      <td>90</td>\n      <td>45</td>\n    </tr>\n    <tr>\n      <th>7</th>\n      <td>8</td>\n      <td>2</td>\n      <td>90</td>\n      <td>78</td>\n      <td>25</td>\n    </tr>\n    <tr>\n      <th>10</th>\n      <td>11</td>\n      <td>3</td>\n      <td>65</td>\n      <td>65</td>\n      <td>65</td>\n    </tr>\n    <tr>\n      <th>14</th>\n      <td>15</td>\n      <td>4</td>\n      <td>75</td>\n      <td>56</td>\n      <td>78</td>\n    </tr>\n    <tr>\n      <th>15</th>\n      <td>16</td>\n      <td>4</td>\n      <td>58</td>\n      <td>98</td>\n      <td>65</td>\n    </tr>\n    <tr>\n      <th>16</th>\n      <td>17</td>\n      <td>5</td>\n      <td>65</td>\n      <td>68</td>\n      <td>98</td>\n    </tr>\n    <tr>\n      <th>17</th>\n      <td>18</td>\n      <td>5</td>\n      <td>80</td>\n      <td>78</td>\n      <td>90</td>\n    </tr>\n    <tr>\n      <th>18</th>\n      <td>19</td>\n      <td>5</td>\n      <td>89</td>\n      <td>68</td>\n      <td>87</td>\n    </tr>\n    <tr>\n      <th>19</th>\n      <td>20</td>\n      <td>5</td>\n      <td>78</td>\n      <td>83</td>\n      <td>58</td>\n    </tr>\n  </tbody>\n</table>\n</div>"
     },
     "execution_count": 11,
     "metadata": {},
     "output_type": "execute_result"
    }
   ],
   "source": [
    "# 수학 점수가 50점을 초과한 경우\n",
    "exam.query('math > 50')"
   ],
   "metadata": {
    "collapsed": false,
    "ExecuteTime": {
     "end_time": "2023-08-09T21:58:52.936668Z",
     "start_time": "2023-08-09T21:58:52.932970Z"
    }
   },
   "id": "6a7a2a32a2247caf"
  },
  {
   "cell_type": "code",
   "execution_count": 12,
   "outputs": [
    {
     "data": {
      "text/plain": "    id  nclass  math  english  science\n2    3       1    45       86       78\n3    4       1    30       98       58\n4    5       2    25       80       65\n8    9       3    20       98       15\n11  12       3    45       85       32\n12  13       4    46       98       65\n13  14       4    48       87       12",
      "text/html": "<div>\n<style scoped>\n    .dataframe tbody tr th:only-of-type {\n        vertical-align: middle;\n    }\n\n    .dataframe tbody tr th {\n        vertical-align: top;\n    }\n\n    .dataframe thead th {\n        text-align: right;\n    }\n</style>\n<table border=\"1\" class=\"dataframe\">\n  <thead>\n    <tr style=\"text-align: right;\">\n      <th></th>\n      <th>id</th>\n      <th>nclass</th>\n      <th>math</th>\n      <th>english</th>\n      <th>science</th>\n    </tr>\n  </thead>\n  <tbody>\n    <tr>\n      <th>2</th>\n      <td>3</td>\n      <td>1</td>\n      <td>45</td>\n      <td>86</td>\n      <td>78</td>\n    </tr>\n    <tr>\n      <th>3</th>\n      <td>4</td>\n      <td>1</td>\n      <td>30</td>\n      <td>98</td>\n      <td>58</td>\n    </tr>\n    <tr>\n      <th>4</th>\n      <td>5</td>\n      <td>2</td>\n      <td>25</td>\n      <td>80</td>\n      <td>65</td>\n    </tr>\n    <tr>\n      <th>8</th>\n      <td>9</td>\n      <td>3</td>\n      <td>20</td>\n      <td>98</td>\n      <td>15</td>\n    </tr>\n    <tr>\n      <th>11</th>\n      <td>12</td>\n      <td>3</td>\n      <td>45</td>\n      <td>85</td>\n      <td>32</td>\n    </tr>\n    <tr>\n      <th>12</th>\n      <td>13</td>\n      <td>4</td>\n      <td>46</td>\n      <td>98</td>\n      <td>65</td>\n    </tr>\n    <tr>\n      <th>13</th>\n      <td>14</td>\n      <td>4</td>\n      <td>48</td>\n      <td>87</td>\n      <td>12</td>\n    </tr>\n  </tbody>\n</table>\n</div>"
     },
     "execution_count": 12,
     "metadata": {},
     "output_type": "execute_result"
    }
   ],
   "source": [
    "# 수학 점수가 50점 미만인 경우\n",
    "exam.query('math < 50')"
   ],
   "metadata": {
    "collapsed": false,
    "ExecuteTime": {
     "end_time": "2023-08-09T21:58:59.657878Z",
     "start_time": "2023-08-09T21:58:59.642549Z"
    }
   },
   "id": "2e1f91599a17aa0a"
  },
  {
   "cell_type": "code",
   "execution_count": 13,
   "outputs": [
    {
     "data": {
      "text/plain": "    id  nclass  math  english  science\n0    1       1    50       98       50\n1    2       1    60       97       60\n2    3       1    45       86       78\n3    4       1    30       98       58\n4    5       2    25       80       65\n5    6       2    50       89       98\n6    7       2    80       90       45\n7    8       2    90       78       25\n8    9       3    20       98       15\n9   10       3    50       98       45\n10  11       3    65       65       65\n11  12       3    45       85       32\n12  13       4    46       98       65\n13  14       4    48       87       12\n14  15       4    75       56       78\n15  16       4    58       98       65\n16  17       5    65       68       98\n17  18       5    80       78       90\n18  19       5    89       68       87\n19  20       5    78       83       58",
      "text/html": "<div>\n<style scoped>\n    .dataframe tbody tr th:only-of-type {\n        vertical-align: middle;\n    }\n\n    .dataframe tbody tr th {\n        vertical-align: top;\n    }\n\n    .dataframe thead th {\n        text-align: right;\n    }\n</style>\n<table border=\"1\" class=\"dataframe\">\n  <thead>\n    <tr style=\"text-align: right;\">\n      <th></th>\n      <th>id</th>\n      <th>nclass</th>\n      <th>math</th>\n      <th>english</th>\n      <th>science</th>\n    </tr>\n  </thead>\n  <tbody>\n    <tr>\n      <th>0</th>\n      <td>1</td>\n      <td>1</td>\n      <td>50</td>\n      <td>98</td>\n      <td>50</td>\n    </tr>\n    <tr>\n      <th>1</th>\n      <td>2</td>\n      <td>1</td>\n      <td>60</td>\n      <td>97</td>\n      <td>60</td>\n    </tr>\n    <tr>\n      <th>2</th>\n      <td>3</td>\n      <td>1</td>\n      <td>45</td>\n      <td>86</td>\n      <td>78</td>\n    </tr>\n    <tr>\n      <th>3</th>\n      <td>4</td>\n      <td>1</td>\n      <td>30</td>\n      <td>98</td>\n      <td>58</td>\n    </tr>\n    <tr>\n      <th>4</th>\n      <td>5</td>\n      <td>2</td>\n      <td>25</td>\n      <td>80</td>\n      <td>65</td>\n    </tr>\n    <tr>\n      <th>5</th>\n      <td>6</td>\n      <td>2</td>\n      <td>50</td>\n      <td>89</td>\n      <td>98</td>\n    </tr>\n    <tr>\n      <th>6</th>\n      <td>7</td>\n      <td>2</td>\n      <td>80</td>\n      <td>90</td>\n      <td>45</td>\n    </tr>\n    <tr>\n      <th>7</th>\n      <td>8</td>\n      <td>2</td>\n      <td>90</td>\n      <td>78</td>\n      <td>25</td>\n    </tr>\n    <tr>\n      <th>8</th>\n      <td>9</td>\n      <td>3</td>\n      <td>20</td>\n      <td>98</td>\n      <td>15</td>\n    </tr>\n    <tr>\n      <th>9</th>\n      <td>10</td>\n      <td>3</td>\n      <td>50</td>\n      <td>98</td>\n      <td>45</td>\n    </tr>\n    <tr>\n      <th>10</th>\n      <td>11</td>\n      <td>3</td>\n      <td>65</td>\n      <td>65</td>\n      <td>65</td>\n    </tr>\n    <tr>\n      <th>11</th>\n      <td>12</td>\n      <td>3</td>\n      <td>45</td>\n      <td>85</td>\n      <td>32</td>\n    </tr>\n    <tr>\n      <th>12</th>\n      <td>13</td>\n      <td>4</td>\n      <td>46</td>\n      <td>98</td>\n      <td>65</td>\n    </tr>\n    <tr>\n      <th>13</th>\n      <td>14</td>\n      <td>4</td>\n      <td>48</td>\n      <td>87</td>\n      <td>12</td>\n    </tr>\n    <tr>\n      <th>14</th>\n      <td>15</td>\n      <td>4</td>\n      <td>75</td>\n      <td>56</td>\n      <td>78</td>\n    </tr>\n    <tr>\n      <th>15</th>\n      <td>16</td>\n      <td>4</td>\n      <td>58</td>\n      <td>98</td>\n      <td>65</td>\n    </tr>\n    <tr>\n      <th>16</th>\n      <td>17</td>\n      <td>5</td>\n      <td>65</td>\n      <td>68</td>\n      <td>98</td>\n    </tr>\n    <tr>\n      <th>17</th>\n      <td>18</td>\n      <td>5</td>\n      <td>80</td>\n      <td>78</td>\n      <td>90</td>\n    </tr>\n    <tr>\n      <th>18</th>\n      <td>19</td>\n      <td>5</td>\n      <td>89</td>\n      <td>68</td>\n      <td>87</td>\n    </tr>\n    <tr>\n      <th>19</th>\n      <td>20</td>\n      <td>5</td>\n      <td>78</td>\n      <td>83</td>\n      <td>58</td>\n    </tr>\n  </tbody>\n</table>\n</div>"
     },
     "execution_count": 13,
     "metadata": {},
     "output_type": "execute_result"
    }
   ],
   "source": [
    "#영어가 50점 이상\n",
    "exam.query('english>=50')"
   ],
   "metadata": {
    "collapsed": false,
    "ExecuteTime": {
     "end_time": "2023-08-09T21:59:23.056412Z",
     "start_time": "2023-08-09T21:59:23.054446Z"
    }
   },
   "id": "388e529e4eda8fe0"
  },
  {
   "cell_type": "code",
   "execution_count": 14,
   "outputs": [
    {
     "data": {
      "text/plain": "    id  nclass  math  english  science\n4    5       2    25       80       65\n7    8       2    90       78       25\n10  11       3    65       65       65\n14  15       4    75       56       78\n16  17       5    65       68       98\n17  18       5    80       78       90\n18  19       5    89       68       87",
      "text/html": "<div>\n<style scoped>\n    .dataframe tbody tr th:only-of-type {\n        vertical-align: middle;\n    }\n\n    .dataframe tbody tr th {\n        vertical-align: top;\n    }\n\n    .dataframe thead th {\n        text-align: right;\n    }\n</style>\n<table border=\"1\" class=\"dataframe\">\n  <thead>\n    <tr style=\"text-align: right;\">\n      <th></th>\n      <th>id</th>\n      <th>nclass</th>\n      <th>math</th>\n      <th>english</th>\n      <th>science</th>\n    </tr>\n  </thead>\n  <tbody>\n    <tr>\n      <th>4</th>\n      <td>5</td>\n      <td>2</td>\n      <td>25</td>\n      <td>80</td>\n      <td>65</td>\n    </tr>\n    <tr>\n      <th>7</th>\n      <td>8</td>\n      <td>2</td>\n      <td>90</td>\n      <td>78</td>\n      <td>25</td>\n    </tr>\n    <tr>\n      <th>10</th>\n      <td>11</td>\n      <td>3</td>\n      <td>65</td>\n      <td>65</td>\n      <td>65</td>\n    </tr>\n    <tr>\n      <th>14</th>\n      <td>15</td>\n      <td>4</td>\n      <td>75</td>\n      <td>56</td>\n      <td>78</td>\n    </tr>\n    <tr>\n      <th>16</th>\n      <td>17</td>\n      <td>5</td>\n      <td>65</td>\n      <td>68</td>\n      <td>98</td>\n    </tr>\n    <tr>\n      <th>17</th>\n      <td>18</td>\n      <td>5</td>\n      <td>80</td>\n      <td>78</td>\n      <td>90</td>\n    </tr>\n    <tr>\n      <th>18</th>\n      <td>19</td>\n      <td>5</td>\n      <td>89</td>\n      <td>68</td>\n      <td>87</td>\n    </tr>\n  </tbody>\n</table>\n</div>"
     },
     "execution_count": 14,
     "metadata": {},
     "output_type": "execute_result"
    }
   ],
   "source": [
    "exam.query('english <= 80')"
   ],
   "metadata": {
    "collapsed": false,
    "ExecuteTime": {
     "end_time": "2023-08-09T22:02:16.363002Z",
     "start_time": "2023-08-09T22:02:16.359552Z"
    }
   },
   "id": "a1e0c0b4b4e0a19e"
  },
  {
   "cell_type": "code",
   "execution_count": 15,
   "outputs": [
    {
     "data": {
      "text/plain": "   id  nclass  math  english  science\n0   1       1    50       98       50\n1   2       1    60       97       60",
      "text/html": "<div>\n<style scoped>\n    .dataframe tbody tr th:only-of-type {\n        vertical-align: middle;\n    }\n\n    .dataframe tbody tr th {\n        vertical-align: top;\n    }\n\n    .dataframe thead th {\n        text-align: right;\n    }\n</style>\n<table border=\"1\" class=\"dataframe\">\n  <thead>\n    <tr style=\"text-align: right;\">\n      <th></th>\n      <th>id</th>\n      <th>nclass</th>\n      <th>math</th>\n      <th>english</th>\n      <th>science</th>\n    </tr>\n  </thead>\n  <tbody>\n    <tr>\n      <th>0</th>\n      <td>1</td>\n      <td>1</td>\n      <td>50</td>\n      <td>98</td>\n      <td>50</td>\n    </tr>\n    <tr>\n      <th>1</th>\n      <td>2</td>\n      <td>1</td>\n      <td>60</td>\n      <td>97</td>\n      <td>60</td>\n    </tr>\n  </tbody>\n</table>\n</div>"
     },
     "execution_count": 15,
     "metadata": {},
     "output_type": "execute_result"
    }
   ],
   "source": [
    "#다중 조건\n",
    "exam.query('nclass == 1 & math >= 50')"
   ],
   "metadata": {
    "collapsed": false,
    "ExecuteTime": {
     "end_time": "2023-08-09T22:02:24.047815Z",
     "start_time": "2023-08-09T22:02:24.040863Z"
    }
   },
   "id": "219782445e593a40"
  },
  {
   "cell_type": "code",
   "execution_count": 17,
   "outputs": [
    {
     "data": {
      "text/plain": "   id  nclass  math  english  science\n4   5       2    25       80       65\n5   6       2    50       89       98\n6   7       2    80       90       45",
      "text/html": "<div>\n<style scoped>\n    .dataframe tbody tr th:only-of-type {\n        vertical-align: middle;\n    }\n\n    .dataframe tbody tr th {\n        vertical-align: top;\n    }\n\n    .dataframe thead th {\n        text-align: right;\n    }\n</style>\n<table border=\"1\" class=\"dataframe\">\n  <thead>\n    <tr style=\"text-align: right;\">\n      <th></th>\n      <th>id</th>\n      <th>nclass</th>\n      <th>math</th>\n      <th>english</th>\n      <th>science</th>\n    </tr>\n  </thead>\n  <tbody>\n    <tr>\n      <th>4</th>\n      <td>5</td>\n      <td>2</td>\n      <td>25</td>\n      <td>80</td>\n      <td>65</td>\n    </tr>\n    <tr>\n      <th>5</th>\n      <td>6</td>\n      <td>2</td>\n      <td>50</td>\n      <td>89</td>\n      <td>98</td>\n    </tr>\n    <tr>\n      <th>6</th>\n      <td>7</td>\n      <td>2</td>\n      <td>80</td>\n      <td>90</td>\n      <td>45</td>\n    </tr>\n  </tbody>\n</table>\n</div>"
     },
     "execution_count": 17,
     "metadata": {},
     "output_type": "execute_result"
    }
   ],
   "source": [
    "exam.query('nclass == 2 & english >= 80')"
   ],
   "metadata": {
    "collapsed": false,
    "ExecuteTime": {
     "end_time": "2023-08-09T22:03:09.559785Z",
     "start_time": "2023-08-09T22:03:09.556393Z"
    }
   },
   "id": "3dbeedcdea0f86a7"
  },
  {
   "cell_type": "code",
   "execution_count": 18,
   "outputs": [
    {
     "data": {
      "text/plain": "    id  nclass  math  english  science\n0    1       1    50       98       50\n1    2       1    60       97       60\n3    4       1    30       98       58\n6    7       2    80       90       45\n7    8       2    90       78       25\n8    9       3    20       98       15\n9   10       3    50       98       45\n12  13       4    46       98       65\n15  16       4    58       98       65",
      "text/html": "<div>\n<style scoped>\n    .dataframe tbody tr th:only-of-type {\n        vertical-align: middle;\n    }\n\n    .dataframe tbody tr th {\n        vertical-align: top;\n    }\n\n    .dataframe thead th {\n        text-align: right;\n    }\n</style>\n<table border=\"1\" class=\"dataframe\">\n  <thead>\n    <tr style=\"text-align: right;\">\n      <th></th>\n      <th>id</th>\n      <th>nclass</th>\n      <th>math</th>\n      <th>english</th>\n      <th>science</th>\n    </tr>\n  </thead>\n  <tbody>\n    <tr>\n      <th>0</th>\n      <td>1</td>\n      <td>1</td>\n      <td>50</td>\n      <td>98</td>\n      <td>50</td>\n    </tr>\n    <tr>\n      <th>1</th>\n      <td>2</td>\n      <td>1</td>\n      <td>60</td>\n      <td>97</td>\n      <td>60</td>\n    </tr>\n    <tr>\n      <th>3</th>\n      <td>4</td>\n      <td>1</td>\n      <td>30</td>\n      <td>98</td>\n      <td>58</td>\n    </tr>\n    <tr>\n      <th>6</th>\n      <td>7</td>\n      <td>2</td>\n      <td>80</td>\n      <td>90</td>\n      <td>45</td>\n    </tr>\n    <tr>\n      <th>7</th>\n      <td>8</td>\n      <td>2</td>\n      <td>90</td>\n      <td>78</td>\n      <td>25</td>\n    </tr>\n    <tr>\n      <th>8</th>\n      <td>9</td>\n      <td>3</td>\n      <td>20</td>\n      <td>98</td>\n      <td>15</td>\n    </tr>\n    <tr>\n      <th>9</th>\n      <td>10</td>\n      <td>3</td>\n      <td>50</td>\n      <td>98</td>\n      <td>45</td>\n    </tr>\n    <tr>\n      <th>12</th>\n      <td>13</td>\n      <td>4</td>\n      <td>46</td>\n      <td>98</td>\n      <td>65</td>\n    </tr>\n    <tr>\n      <th>15</th>\n      <td>16</td>\n      <td>4</td>\n      <td>58</td>\n      <td>98</td>\n      <td>65</td>\n    </tr>\n  </tbody>\n</table>\n</div>"
     },
     "execution_count": 18,
     "metadata": {},
     "output_type": "execute_result"
    }
   ],
   "source": [
    "# or\n",
    "exam.query('math >= 90 | english >= 90')"
   ],
   "metadata": {
    "collapsed": false,
    "ExecuteTime": {
     "end_time": "2023-08-09T22:03:26.782763Z",
     "start_time": "2023-08-09T22:03:26.762528Z"
    }
   },
   "id": "4764759ce6df9ef1"
  },
  {
   "cell_type": "code",
   "execution_count": 19,
   "outputs": [
    {
     "data": {
      "text/plain": "    id  nclass  math  english  science\n2    3       1    45       86       78\n4    5       2    25       80       65\n5    6       2    50       89       98\n6    7       2    80       90       45\n7    8       2    90       78       25\n8    9       3    20       98       15\n9   10       3    50       98       45\n10  11       3    65       65       65\n11  12       3    45       85       32\n13  14       4    48       87       12\n14  15       4    75       56       78\n16  17       5    65       68       98\n17  18       5    80       78       90\n18  19       5    89       68       87\n19  20       5    78       83       58",
      "text/html": "<div>\n<style scoped>\n    .dataframe tbody tr th:only-of-type {\n        vertical-align: middle;\n    }\n\n    .dataframe tbody tr th {\n        vertical-align: top;\n    }\n\n    .dataframe thead th {\n        text-align: right;\n    }\n</style>\n<table border=\"1\" class=\"dataframe\">\n  <thead>\n    <tr style=\"text-align: right;\">\n      <th></th>\n      <th>id</th>\n      <th>nclass</th>\n      <th>math</th>\n      <th>english</th>\n      <th>science</th>\n    </tr>\n  </thead>\n  <tbody>\n    <tr>\n      <th>2</th>\n      <td>3</td>\n      <td>1</td>\n      <td>45</td>\n      <td>86</td>\n      <td>78</td>\n    </tr>\n    <tr>\n      <th>4</th>\n      <td>5</td>\n      <td>2</td>\n      <td>25</td>\n      <td>80</td>\n      <td>65</td>\n    </tr>\n    <tr>\n      <th>5</th>\n      <td>6</td>\n      <td>2</td>\n      <td>50</td>\n      <td>89</td>\n      <td>98</td>\n    </tr>\n    <tr>\n      <th>6</th>\n      <td>7</td>\n      <td>2</td>\n      <td>80</td>\n      <td>90</td>\n      <td>45</td>\n    </tr>\n    <tr>\n      <th>7</th>\n      <td>8</td>\n      <td>2</td>\n      <td>90</td>\n      <td>78</td>\n      <td>25</td>\n    </tr>\n    <tr>\n      <th>8</th>\n      <td>9</td>\n      <td>3</td>\n      <td>20</td>\n      <td>98</td>\n      <td>15</td>\n    </tr>\n    <tr>\n      <th>9</th>\n      <td>10</td>\n      <td>3</td>\n      <td>50</td>\n      <td>98</td>\n      <td>45</td>\n    </tr>\n    <tr>\n      <th>10</th>\n      <td>11</td>\n      <td>3</td>\n      <td>65</td>\n      <td>65</td>\n      <td>65</td>\n    </tr>\n    <tr>\n      <th>11</th>\n      <td>12</td>\n      <td>3</td>\n      <td>45</td>\n      <td>85</td>\n      <td>32</td>\n    </tr>\n    <tr>\n      <th>13</th>\n      <td>14</td>\n      <td>4</td>\n      <td>48</td>\n      <td>87</td>\n      <td>12</td>\n    </tr>\n    <tr>\n      <th>14</th>\n      <td>15</td>\n      <td>4</td>\n      <td>75</td>\n      <td>56</td>\n      <td>78</td>\n    </tr>\n    <tr>\n      <th>16</th>\n      <td>17</td>\n      <td>5</td>\n      <td>65</td>\n      <td>68</td>\n      <td>98</td>\n    </tr>\n    <tr>\n      <th>17</th>\n      <td>18</td>\n      <td>5</td>\n      <td>80</td>\n      <td>78</td>\n      <td>90</td>\n    </tr>\n    <tr>\n      <th>18</th>\n      <td>19</td>\n      <td>5</td>\n      <td>89</td>\n      <td>68</td>\n      <td>87</td>\n    </tr>\n    <tr>\n      <th>19</th>\n      <td>20</td>\n      <td>5</td>\n      <td>78</td>\n      <td>83</td>\n      <td>58</td>\n    </tr>\n  </tbody>\n</table>\n</div>"
     },
     "execution_count": 19,
     "metadata": {},
     "output_type": "execute_result"
    }
   ],
   "source": [
    "exam.query('english < 90 | science < 50')"
   ],
   "metadata": {
    "collapsed": false,
    "ExecuteTime": {
     "end_time": "2023-08-09T22:03:55.116118Z",
     "start_time": "2023-08-09T22:03:55.105691Z"
    }
   },
   "id": "62cef77941078dd1"
  },
  {
   "cell_type": "code",
   "execution_count": 20,
   "outputs": [
    {
     "data": {
      "text/plain": "    id  nclass  math  english  science\n0    1       1    50       98       50\n1    2       1    60       97       60\n2    3       1    45       86       78\n3    4       1    30       98       58\n8    9       3    20       98       15\n9   10       3    50       98       45\n10  11       3    65       65       65\n11  12       3    45       85       32\n16  17       5    65       68       98\n17  18       5    80       78       90\n18  19       5    89       68       87\n19  20       5    78       83       58",
      "text/html": "<div>\n<style scoped>\n    .dataframe tbody tr th:only-of-type {\n        vertical-align: middle;\n    }\n\n    .dataframe tbody tr th {\n        vertical-align: top;\n    }\n\n    .dataframe thead th {\n        text-align: right;\n    }\n</style>\n<table border=\"1\" class=\"dataframe\">\n  <thead>\n    <tr style=\"text-align: right;\">\n      <th></th>\n      <th>id</th>\n      <th>nclass</th>\n      <th>math</th>\n      <th>english</th>\n      <th>science</th>\n    </tr>\n  </thead>\n  <tbody>\n    <tr>\n      <th>0</th>\n      <td>1</td>\n      <td>1</td>\n      <td>50</td>\n      <td>98</td>\n      <td>50</td>\n    </tr>\n    <tr>\n      <th>1</th>\n      <td>2</td>\n      <td>1</td>\n      <td>60</td>\n      <td>97</td>\n      <td>60</td>\n    </tr>\n    <tr>\n      <th>2</th>\n      <td>3</td>\n      <td>1</td>\n      <td>45</td>\n      <td>86</td>\n      <td>78</td>\n    </tr>\n    <tr>\n      <th>3</th>\n      <td>4</td>\n      <td>1</td>\n      <td>30</td>\n      <td>98</td>\n      <td>58</td>\n    </tr>\n    <tr>\n      <th>8</th>\n      <td>9</td>\n      <td>3</td>\n      <td>20</td>\n      <td>98</td>\n      <td>15</td>\n    </tr>\n    <tr>\n      <th>9</th>\n      <td>10</td>\n      <td>3</td>\n      <td>50</td>\n      <td>98</td>\n      <td>45</td>\n    </tr>\n    <tr>\n      <th>10</th>\n      <td>11</td>\n      <td>3</td>\n      <td>65</td>\n      <td>65</td>\n      <td>65</td>\n    </tr>\n    <tr>\n      <th>11</th>\n      <td>12</td>\n      <td>3</td>\n      <td>45</td>\n      <td>85</td>\n      <td>32</td>\n    </tr>\n    <tr>\n      <th>16</th>\n      <td>17</td>\n      <td>5</td>\n      <td>65</td>\n      <td>68</td>\n      <td>98</td>\n    </tr>\n    <tr>\n      <th>17</th>\n      <td>18</td>\n      <td>5</td>\n      <td>80</td>\n      <td>78</td>\n      <td>90</td>\n    </tr>\n    <tr>\n      <th>18</th>\n      <td>19</td>\n      <td>5</td>\n      <td>89</td>\n      <td>68</td>\n      <td>87</td>\n    </tr>\n    <tr>\n      <th>19</th>\n      <td>20</td>\n      <td>5</td>\n      <td>78</td>\n      <td>83</td>\n      <td>58</td>\n    </tr>\n  </tbody>\n</table>\n</div>"
     },
     "execution_count": 20,
     "metadata": {},
     "output_type": "execute_result"
    }
   ],
   "source": [
    "#nclass가 1,3,5 \n",
    "exam.query('nclass == 1 | nclass == 3 | nclass == 5')"
   ],
   "metadata": {
    "collapsed": false,
    "ExecuteTime": {
     "end_time": "2023-08-09T22:04:19.191206Z",
     "start_time": "2023-08-09T22:04:19.179101Z"
    }
   },
   "id": "1bfa731f046cebca"
  },
  {
   "cell_type": "code",
   "execution_count": 22,
   "outputs": [
    {
     "data": {
      "text/plain": "    id  nclass  math  english  science\n0    1       1    50       98       50\n1    2       1    60       97       60\n2    3       1    45       86       78\n3    4       1    30       98       58\n8    9       3    20       98       15\n9   10       3    50       98       45\n10  11       3    65       65       65\n11  12       3    45       85       32\n16  17       5    65       68       98\n17  18       5    80       78       90\n18  19       5    89       68       87\n19  20       5    78       83       58",
      "text/html": "<div>\n<style scoped>\n    .dataframe tbody tr th:only-of-type {\n        vertical-align: middle;\n    }\n\n    .dataframe tbody tr th {\n        vertical-align: top;\n    }\n\n    .dataframe thead th {\n        text-align: right;\n    }\n</style>\n<table border=\"1\" class=\"dataframe\">\n  <thead>\n    <tr style=\"text-align: right;\">\n      <th></th>\n      <th>id</th>\n      <th>nclass</th>\n      <th>math</th>\n      <th>english</th>\n      <th>science</th>\n    </tr>\n  </thead>\n  <tbody>\n    <tr>\n      <th>0</th>\n      <td>1</td>\n      <td>1</td>\n      <td>50</td>\n      <td>98</td>\n      <td>50</td>\n    </tr>\n    <tr>\n      <th>1</th>\n      <td>2</td>\n      <td>1</td>\n      <td>60</td>\n      <td>97</td>\n      <td>60</td>\n    </tr>\n    <tr>\n      <th>2</th>\n      <td>3</td>\n      <td>1</td>\n      <td>45</td>\n      <td>86</td>\n      <td>78</td>\n    </tr>\n    <tr>\n      <th>3</th>\n      <td>4</td>\n      <td>1</td>\n      <td>30</td>\n      <td>98</td>\n      <td>58</td>\n    </tr>\n    <tr>\n      <th>8</th>\n      <td>9</td>\n      <td>3</td>\n      <td>20</td>\n      <td>98</td>\n      <td>15</td>\n    </tr>\n    <tr>\n      <th>9</th>\n      <td>10</td>\n      <td>3</td>\n      <td>50</td>\n      <td>98</td>\n      <td>45</td>\n    </tr>\n    <tr>\n      <th>10</th>\n      <td>11</td>\n      <td>3</td>\n      <td>65</td>\n      <td>65</td>\n      <td>65</td>\n    </tr>\n    <tr>\n      <th>11</th>\n      <td>12</td>\n      <td>3</td>\n      <td>45</td>\n      <td>85</td>\n      <td>32</td>\n    </tr>\n    <tr>\n      <th>16</th>\n      <td>17</td>\n      <td>5</td>\n      <td>65</td>\n      <td>68</td>\n      <td>98</td>\n    </tr>\n    <tr>\n      <th>17</th>\n      <td>18</td>\n      <td>5</td>\n      <td>80</td>\n      <td>78</td>\n      <td>90</td>\n    </tr>\n    <tr>\n      <th>18</th>\n      <td>19</td>\n      <td>5</td>\n      <td>89</td>\n      <td>68</td>\n      <td>87</td>\n    </tr>\n    <tr>\n      <th>19</th>\n      <td>20</td>\n      <td>5</td>\n      <td>78</td>\n      <td>83</td>\n      <td>58</td>\n    </tr>\n  </tbody>\n</table>\n</div>"
     },
     "execution_count": 22,
     "metadata": {},
     "output_type": "execute_result"
    }
   ],
   "source": [
    "#nclass가 1,3,5 \n",
    "exam.query('nclass in [1, 3, 5]')"
   ],
   "metadata": {
    "collapsed": false,
    "ExecuteTime": {
     "end_time": "2023-08-09T22:05:21.990541Z",
     "start_time": "2023-08-09T22:05:21.988530Z"
    }
   },
   "id": "1e0745ebf5cc705d"
  },
  {
   "cell_type": "code",
   "execution_count": 23,
   "outputs": [],
   "source": [
    "#추출 후 재할당\n",
    "nclass1 = exam.query('nclass == 1')\n",
    "nclass2 = exam.query('nclass == 2')"
   ],
   "metadata": {
    "collapsed": false,
    "ExecuteTime": {
     "end_time": "2023-08-09T22:06:20.353987Z",
     "start_time": "2023-08-09T22:06:20.346722Z"
    }
   },
   "id": "75c720392b02a0f"
  },
  {
   "cell_type": "code",
   "execution_count": 24,
   "outputs": [
    {
     "data": {
      "text/plain": "46.25"
     },
     "execution_count": 24,
     "metadata": {},
     "output_type": "execute_result"
    }
   ],
   "source": [
    "#nclass가 1인 데이터들의 수학평균\n",
    "nclass1['math'].mean()"
   ],
   "metadata": {
    "collapsed": false,
    "ExecuteTime": {
     "end_time": "2023-08-09T22:06:38.096970Z",
     "start_time": "2023-08-09T22:06:38.089346Z"
    }
   },
   "id": "6d3aed280a6122b"
  },
  {
   "cell_type": "code",
   "execution_count": 25,
   "outputs": [
    {
     "data": {
      "text/plain": "61.25"
     },
     "execution_count": 25,
     "metadata": {},
     "output_type": "execute_result"
    }
   ],
   "source": [
    "nclass2['math'].mean()"
   ],
   "metadata": {
    "collapsed": false,
    "ExecuteTime": {
     "end_time": "2023-08-09T22:07:13.657302Z",
     "start_time": "2023-08-09T22:07:13.648059Z"
    }
   },
   "id": "4437ff1bce9c162a"
  },
  {
   "cell_type": "code",
   "execution_count": 29,
   "outputs": [
    {
     "data": {
      "text/plain": "  sex country\n0   F   Korea\n1   M   China\n2   F   Japan\n3   M     USA",
      "text/html": "<div>\n<style scoped>\n    .dataframe tbody tr th:only-of-type {\n        vertical-align: middle;\n    }\n\n    .dataframe tbody tr th {\n        vertical-align: top;\n    }\n\n    .dataframe thead th {\n        text-align: right;\n    }\n</style>\n<table border=\"1\" class=\"dataframe\">\n  <thead>\n    <tr style=\"text-align: right;\">\n      <th></th>\n      <th>sex</th>\n      <th>country</th>\n    </tr>\n  </thead>\n  <tbody>\n    <tr>\n      <th>0</th>\n      <td>F</td>\n      <td>Korea</td>\n    </tr>\n    <tr>\n      <th>1</th>\n      <td>M</td>\n      <td>China</td>\n    </tr>\n    <tr>\n      <th>2</th>\n      <td>F</td>\n      <td>Japan</td>\n    </tr>\n    <tr>\n      <th>3</th>\n      <td>M</td>\n      <td>USA</td>\n    </tr>\n  </tbody>\n</table>\n</div>"
     },
     "execution_count": 29,
     "metadata": {},
     "output_type": "execute_result"
    }
   ],
   "source": [
    "#조건에 맞는 행 출력\n",
    "df = pd.DataFrame({\n",
    "    'sex': ['F', 'M', 'F', 'M'],\n",
    "    'country': ['Korea', 'China', 'Japan', 'USA']\n",
    "})\n",
    "df"
   ],
   "metadata": {
    "collapsed": false,
    "ExecuteTime": {
     "end_time": "2023-08-09T22:08:55.630618Z",
     "start_time": "2023-08-09T22:08:55.623313Z"
    }
   },
   "id": "2896d94bcf1c46bb"
  },
  {
   "cell_type": "code",
   "execution_count": 30,
   "outputs": [
    {
     "data": {
      "text/plain": "  sex country\n0   F   Korea",
      "text/html": "<div>\n<style scoped>\n    .dataframe tbody tr th:only-of-type {\n        vertical-align: middle;\n    }\n\n    .dataframe tbody tr th {\n        vertical-align: top;\n    }\n\n    .dataframe thead th {\n        text-align: right;\n    }\n</style>\n<table border=\"1\" class=\"dataframe\">\n  <thead>\n    <tr style=\"text-align: right;\">\n      <th></th>\n      <th>sex</th>\n      <th>country</th>\n    </tr>\n  </thead>\n  <tbody>\n    <tr>\n      <th>0</th>\n      <td>F</td>\n      <td>Korea</td>\n    </tr>\n  </tbody>\n</table>\n</div>"
     },
     "execution_count": 30,
     "metadata": {},
     "output_type": "execute_result"
    }
   ],
   "source": [
    "#문자열 조건 은 ' \"\" ' 로 하거나  \" '' \" 로 해야한다 \n",
    "df.query('sex == \"F\" & country == \"Korea\"')"
   ],
   "metadata": {
    "collapsed": false,
    "ExecuteTime": {
     "end_time": "2023-08-09T22:08:57.789764Z",
     "start_time": "2023-08-09T22:08:57.787559Z"
    }
   },
   "id": "7be6f6515a4df1ca"
  },
  {
   "cell_type": "code",
   "execution_count": 32,
   "outputs": [
    {
     "data": {
      "text/plain": "  sex country\n1   M   China",
      "text/html": "<div>\n<style scoped>\n    .dataframe tbody tr th:only-of-type {\n        vertical-align: middle;\n    }\n\n    .dataframe tbody tr th {\n        vertical-align: top;\n    }\n\n    .dataframe thead th {\n        text-align: right;\n    }\n</style>\n<table border=\"1\" class=\"dataframe\">\n  <thead>\n    <tr style=\"text-align: right;\">\n      <th></th>\n      <th>sex</th>\n      <th>country</th>\n    </tr>\n  </thead>\n  <tbody>\n    <tr>\n      <th>1</th>\n      <td>M</td>\n      <td>China</td>\n    </tr>\n  </tbody>\n</table>\n</div>"
     },
     "execution_count": 32,
     "metadata": {},
     "output_type": "execute_result"
    }
   ],
   "source": [
    "df.query(\"sex == 'M' & country == 'China'\")"
   ],
   "metadata": {
    "collapsed": false,
    "ExecuteTime": {
     "end_time": "2023-08-09T22:10:09.797408Z",
     "start_time": "2023-08-09T22:10:09.794981Z"
    }
   },
   "id": "3130e30e7d84848d"
  },
  {
   "cell_type": "code",
   "execution_count": 34,
   "outputs": [],
   "source": [
    "#전부다 같은 따옴표를 사용하면 에러남\n",
    "# df.query('sex == 'F' & country == 'Korea'')"
   ],
   "metadata": {
    "collapsed": false,
    "ExecuteTime": {
     "end_time": "2023-08-09T22:10:31.540881Z",
     "start_time": "2023-08-09T22:10:31.537671Z"
    }
   },
   "id": "c58d1d530e996de0"
  },
  {
   "cell_type": "code",
   "execution_count": 35,
   "outputs": [
    {
     "data": {
      "text/plain": "    id  nclass  math  english  science\n8    9       3    20       98       15\n9   10       3    50       98       45\n10  11       3    65       65       65\n11  12       3    45       85       32",
      "text/html": "<div>\n<style scoped>\n    .dataframe tbody tr th:only-of-type {\n        vertical-align: middle;\n    }\n\n    .dataframe tbody tr th {\n        vertical-align: top;\n    }\n\n    .dataframe thead th {\n        text-align: right;\n    }\n</style>\n<table border=\"1\" class=\"dataframe\">\n  <thead>\n    <tr style=\"text-align: right;\">\n      <th></th>\n      <th>id</th>\n      <th>nclass</th>\n      <th>math</th>\n      <th>english</th>\n      <th>science</th>\n    </tr>\n  </thead>\n  <tbody>\n    <tr>\n      <th>8</th>\n      <td>9</td>\n      <td>3</td>\n      <td>20</td>\n      <td>98</td>\n      <td>15</td>\n    </tr>\n    <tr>\n      <th>9</th>\n      <td>10</td>\n      <td>3</td>\n      <td>50</td>\n      <td>98</td>\n      <td>45</td>\n    </tr>\n    <tr>\n      <th>10</th>\n      <td>11</td>\n      <td>3</td>\n      <td>65</td>\n      <td>65</td>\n      <td>65</td>\n    </tr>\n    <tr>\n      <th>11</th>\n      <td>12</td>\n      <td>3</td>\n      <td>45</td>\n      <td>85</td>\n      <td>32</td>\n    </tr>\n  </tbody>\n</table>\n</div>"
     },
     "execution_count": 35,
     "metadata": {},
     "output_type": "execute_result"
    }
   ],
   "source": [
    "#외부변수로 데이터 추출\n",
    "var = 3\n",
    "exam.query('nclass == @var')"
   ],
   "metadata": {
    "collapsed": false,
    "ExecuteTime": {
     "end_time": "2023-08-09T22:10:55.414769Z",
     "start_time": "2023-08-09T22:10:55.411822Z"
    }
   },
   "id": "362023cfdeb570ae"
  },
  {
   "cell_type": "code",
   "execution_count": 36,
   "outputs": [],
   "source": [
    "# 데티어 프레임 출력 제한 설정\n",
    "pd.set_option('display.max_rows', None)     # 모든 행 출력하도록 설정\n",
    "pd.set_option('display.max_columns', None)  # 모든 열 출력하도록 설정\n",
    "pd.reset_option('display.max_rows')     # 행 출력 제한 되돌리기\n",
    "pd.reset_option('display.max_columns')  # 열 출력 제한 되돌리기"
   ],
   "metadata": {
    "collapsed": false,
    "ExecuteTime": {
     "end_time": "2023-08-09T22:12:22.609029Z",
     "start_time": "2023-08-09T22:12:22.600477Z"
    }
   },
   "id": "78e97081f7e0a4b"
  },
  {
   "cell_type": "code",
   "execution_count": null,
   "outputs": [],
   "source": [],
   "metadata": {
    "collapsed": false
   },
   "id": "53a19aa31f93a1a4"
  }
 ],
 "metadata": {
  "kernelspec": {
   "display_name": "Python 3",
   "language": "python",
   "name": "python3"
  },
  "language_info": {
   "codemirror_mode": {
    "name": "ipython",
    "version": 2
   },
   "file_extension": ".py",
   "mimetype": "text/x-python",
   "name": "python",
   "nbconvert_exporter": "python",
   "pygments_lexer": "ipython2",
   "version": "2.7.6"
  }
 },
 "nbformat": 4,
 "nbformat_minor": 5
}
