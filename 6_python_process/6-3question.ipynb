{
 "cells": [
  {
   "cell_type": "code",
   "execution_count": 1,
   "id": "initial_id",
   "metadata": {
    "collapsed": true,
    "ExecuteTime": {
     "end_time": "2023-08-09T22:37:55.115182Z",
     "start_time": "2023-08-09T22:37:55.098615Z"
    }
   },
   "outputs": [],
   "source": [
    "import pandas as pd\n",
    "mpg = pd.read_csv('../files/mpg.csv')"
   ]
  },
  {
   "cell_type": "code",
   "execution_count": 5,
   "outputs": [
    {
     "data": {
      "text/plain": "    category  cty\n0    compact   18\n1    compact   21\n2    compact   20\n3    compact   21\n4    compact   16\n..       ...  ...\n229  midsize   19\n230  midsize   21\n231  midsize   16\n232  midsize   18\n233  midsize   17\n\n[234 rows x 2 columns]",
      "text/html": "<div>\n<style scoped>\n    .dataframe tbody tr th:only-of-type {\n        vertical-align: middle;\n    }\n\n    .dataframe tbody tr th {\n        vertical-align: top;\n    }\n\n    .dataframe thead th {\n        text-align: right;\n    }\n</style>\n<table border=\"1\" class=\"dataframe\">\n  <thead>\n    <tr style=\"text-align: right;\">\n      <th></th>\n      <th>category</th>\n      <th>cty</th>\n    </tr>\n  </thead>\n  <tbody>\n    <tr>\n      <th>0</th>\n      <td>compact</td>\n      <td>18</td>\n    </tr>\n    <tr>\n      <th>1</th>\n      <td>compact</td>\n      <td>21</td>\n    </tr>\n    <tr>\n      <th>2</th>\n      <td>compact</td>\n      <td>20</td>\n    </tr>\n    <tr>\n      <th>3</th>\n      <td>compact</td>\n      <td>21</td>\n    </tr>\n    <tr>\n      <th>4</th>\n      <td>compact</td>\n      <td>16</td>\n    </tr>\n    <tr>\n      <th>...</th>\n      <td>...</td>\n      <td>...</td>\n    </tr>\n    <tr>\n      <th>229</th>\n      <td>midsize</td>\n      <td>19</td>\n    </tr>\n    <tr>\n      <th>230</th>\n      <td>midsize</td>\n      <td>21</td>\n    </tr>\n    <tr>\n      <th>231</th>\n      <td>midsize</td>\n      <td>16</td>\n    </tr>\n    <tr>\n      <th>232</th>\n      <td>midsize</td>\n      <td>18</td>\n    </tr>\n    <tr>\n      <th>233</th>\n      <td>midsize</td>\n      <td>17</td>\n    </tr>\n  </tbody>\n</table>\n<p>234 rows × 2 columns</p>\n</div>"
     },
     "execution_count": 5,
     "metadata": {},
     "output_type": "execute_result"
    }
   ],
   "source": [
    "#category, cty 변수를 추출해 새로운 데이터 만들기\n",
    "new_mpg = mpg[['category','cty']]\n",
    "new_mpg"
   ],
   "metadata": {
    "collapsed": false,
    "ExecuteTime": {
     "end_time": "2023-08-09T22:39:06.879033Z",
     "start_time": "2023-08-09T22:39:06.877005Z"
    }
   },
   "id": "eaca6a65371baf33"
  },
  {
   "cell_type": "code",
   "execution_count": 7,
   "outputs": [
    {
     "data": {
      "text/plain": "13.5"
     },
     "execution_count": 7,
     "metadata": {},
     "output_type": "execute_result"
    }
   ],
   "source": [
    "#추출한 데이터의 category가 suv인 자동차와 compact인 자동차 들의 cty 평균\n",
    "new_mpg.query('category == \"suv\"')['cty'].mean()"
   ],
   "metadata": {
    "collapsed": false,
    "ExecuteTime": {
     "end_time": "2023-08-09T22:41:23.784632Z",
     "start_time": "2023-08-09T22:41:23.782057Z"
    }
   },
   "id": "52f8809d78795651"
  },
  {
   "cell_type": "code",
   "execution_count": 8,
   "outputs": [
    {
     "data": {
      "text/plain": "20.127659574468087"
     },
     "execution_count": 8,
     "metadata": {},
     "output_type": "execute_result"
    }
   ],
   "source": [
    "new_mpg.query('category == \"compact\"')['cty'].mean()"
   ],
   "metadata": {
    "collapsed": false,
    "ExecuteTime": {
     "end_time": "2023-08-09T22:41:31.778853Z",
     "start_time": "2023-08-09T22:41:31.773880Z"
    }
   },
   "id": "34b91e4f684b3a31"
  },
  {
   "cell_type": "code",
   "execution_count": null,
   "outputs": [],
   "source": [],
   "metadata": {
    "collapsed": false
   },
   "id": "aa83da3d742744cd"
  }
 ],
 "metadata": {
  "kernelspec": {
   "display_name": "Python 3",
   "language": "python",
   "name": "python3"
  },
  "language_info": {
   "codemirror_mode": {
    "name": "ipython",
    "version": 2
   },
   "file_extension": ".py",
   "mimetype": "text/x-python",
   "name": "python",
   "nbconvert_exporter": "python",
   "pygments_lexer": "ipython2",
   "version": "2.7.6"
  }
 },
 "nbformat": 4,
 "nbformat_minor": 5
}
