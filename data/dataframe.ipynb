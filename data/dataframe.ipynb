{
 "cells": [
  {
   "cell_type": "code",
   "execution_count": 1,
   "id": "initial_id",
   "metadata": {
    "collapsed": true,
    "ExecuteTime": {
     "end_time": "2023-07-31T19:58:42.272729Z",
     "start_time": "2023-07-31T19:58:39.096649Z"
    }
   },
   "outputs": [],
   "source": [
    "import pandas as pd"
   ]
  },
  {
   "cell_type": "code",
   "execution_count": 5,
   "outputs": [
    {
     "data": {
      "text/plain": "  name,  english  math\n0   김지훈       90    50\n1   이유진       80    60\n2   박동현       60   100\n3   김민지       70    20",
      "text/html": "<div>\n<style scoped>\n    .dataframe tbody tr th:only-of-type {\n        vertical-align: middle;\n    }\n\n    .dataframe tbody tr th {\n        vertical-align: top;\n    }\n\n    .dataframe thead th {\n        text-align: right;\n    }\n</style>\n<table border=\"1\" class=\"dataframe\">\n  <thead>\n    <tr style=\"text-align: right;\">\n      <th></th>\n      <th>name,</th>\n      <th>english</th>\n      <th>math</th>\n    </tr>\n  </thead>\n  <tbody>\n    <tr>\n      <th>0</th>\n      <td>김지훈</td>\n      <td>90</td>\n      <td>50</td>\n    </tr>\n    <tr>\n      <th>1</th>\n      <td>이유진</td>\n      <td>80</td>\n      <td>60</td>\n    </tr>\n    <tr>\n      <th>2</th>\n      <td>박동현</td>\n      <td>60</td>\n      <td>100</td>\n    </tr>\n    <tr>\n      <th>3</th>\n      <td>김민지</td>\n      <td>70</td>\n      <td>20</td>\n    </tr>\n  </tbody>\n</table>\n</div>"
     },
     "execution_count": 5,
     "metadata": {},
     "output_type": "execute_result"
    }
   ],
   "source": [
    "# 데이터 프레임 만들기\n",
    "df = pd.DataFrame({'name,': ['김지훈', '이유진', '박동현', '김민지'],\n",
    "                   'english': [90, 80, 60, 70],\n",
    "                   'math': [50, 60, 100, 20]\n",
    "                   })\n",
    "df"
   ],
   "metadata": {
    "collapsed": false,
    "ExecuteTime": {
     "end_time": "2023-07-31T20:01:27.754063Z",
     "start_time": "2023-07-31T20:01:27.746140Z"
    }
   },
   "id": "ef88f88204853911"
  },
  {
   "cell_type": "code",
   "execution_count": 6,
   "outputs": [
    {
     "data": {
      "text/plain": "0    90\n1    80\n2    60\n3    70\nName: english, dtype: int64"
     },
     "execution_count": 6,
     "metadata": {},
     "output_type": "execute_result"
    }
   ],
   "source": [
    "df['english']"
   ],
   "metadata": {
    "collapsed": false,
    "ExecuteTime": {
     "end_time": "2023-07-31T20:02:29.285941Z",
     "start_time": "2023-07-31T20:02:29.282754Z"
    }
   },
   "id": "1aa46d9f9f54965f"
  },
  {
   "cell_type": "code",
   "execution_count": 7,
   "outputs": [
    {
     "data": {
      "text/plain": "300"
     },
     "execution_count": 7,
     "metadata": {},
     "output_type": "execute_result"
    }
   ],
   "source": [
    "sum(df['english'])"
   ],
   "metadata": {
    "collapsed": false,
    "ExecuteTime": {
     "end_time": "2023-07-31T20:03:11.631109Z",
     "start_time": "2023-07-31T20:03:11.628667Z"
    }
   },
   "id": "9d623636524661f1"
  },
  {
   "cell_type": "code",
   "execution_count": 8,
   "outputs": [
    {
     "data": {
      "text/plain": "230"
     },
     "execution_count": 8,
     "metadata": {},
     "output_type": "execute_result"
    }
   ],
   "source": [
    "sum(df['math'])"
   ],
   "metadata": {
    "collapsed": false,
    "ExecuteTime": {
     "end_time": "2023-07-31T20:03:26.043472Z",
     "start_time": "2023-07-31T20:03:26.033272Z"
    }
   },
   "id": "e01047def22bd48d"
  },
  {
   "cell_type": "code",
   "execution_count": 9,
   "outputs": [
    {
     "data": {
      "text/plain": "75.0"
     },
     "execution_count": 9,
     "metadata": {},
     "output_type": "execute_result"
    }
   ],
   "source": [
    "sum(df['english']) / 4"
   ],
   "metadata": {
    "collapsed": false,
    "ExecuteTime": {
     "end_time": "2023-07-31T20:03:40.890855Z",
     "start_time": "2023-07-31T20:03:40.864930Z"
    }
   },
   "id": "3a3503065280b6e2"
  },
  {
   "cell_type": "code",
   "execution_count": 10,
   "outputs": [
    {
     "data": {
      "text/plain": "57.5"
     },
     "execution_count": 10,
     "metadata": {},
     "output_type": "execute_result"
    }
   ],
   "source": [
    "sum(df['math']) / 4"
   ],
   "metadata": {
    "collapsed": false,
    "ExecuteTime": {
     "end_time": "2023-07-31T20:03:48.854536Z",
     "start_time": "2023-07-31T20:03:48.850305Z"
    }
   },
   "id": "88e0879cd698484"
  },
  {
   "cell_type": "code",
   "execution_count": 17,
   "outputs": [
    {
     "data": {
      "text/plain": "   제품    가격  판매량\n0  사과  1800   24\n1  딸기  1500   38\n2  수박  3000   13",
      "text/html": "<div>\n<style scoped>\n    .dataframe tbody tr th:only-of-type {\n        vertical-align: middle;\n    }\n\n    .dataframe tbody tr th {\n        vertical-align: top;\n    }\n\n    .dataframe thead th {\n        text-align: right;\n    }\n</style>\n<table border=\"1\" class=\"dataframe\">\n  <thead>\n    <tr style=\"text-align: right;\">\n      <th></th>\n      <th>제품</th>\n      <th>가격</th>\n      <th>판매량</th>\n    </tr>\n  </thead>\n  <tbody>\n    <tr>\n      <th>0</th>\n      <td>사과</td>\n      <td>1800</td>\n      <td>24</td>\n    </tr>\n    <tr>\n      <th>1</th>\n      <td>딸기</td>\n      <td>1500</td>\n      <td>38</td>\n    </tr>\n    <tr>\n      <th>2</th>\n      <td>수박</td>\n      <td>3000</td>\n      <td>13</td>\n    </tr>\n  </tbody>\n</table>\n</div>"
     },
     "execution_count": 17,
     "metadata": {},
     "output_type": "execute_result"
    }
   ],
   "source": [
    "fruits = pd.DataFrame({\n",
    "    '제품': ['사과', '딸기', '수박'],\n",
    "    '가격': [1800, 1500, 3000],\n",
    "    '판매량': [24, 38, 13]\n",
    "})\n",
    "fruits"
   ],
   "metadata": {
    "collapsed": false,
    "ExecuteTime": {
     "end_time": "2023-07-31T20:08:20.518474Z",
     "start_time": "2023-07-31T20:08:20.516455Z"
    }
   },
   "id": "ff60032154d17919"
  },
  {
   "cell_type": "code",
   "execution_count": 21,
   "outputs": [
    {
     "data": {
      "text/plain": "2100.0"
     },
     "execution_count": 21,
     "metadata": {},
     "output_type": "execute_result"
    }
   ],
   "source": [
    "sum(fruits['가격']) / len(fruits)"
   ],
   "metadata": {
    "collapsed": false,
    "ExecuteTime": {
     "end_time": "2023-07-31T20:09:34.789595Z",
     "start_time": "2023-07-31T20:09:34.786239Z"
    }
   },
   "id": "b844b174ce531b34"
  },
  {
   "cell_type": "code",
   "execution_count": 22,
   "outputs": [
    {
     "data": {
      "text/plain": "25.0"
     },
     "execution_count": 22,
     "metadata": {},
     "output_type": "execute_result"
    }
   ],
   "source": [
    "sum(fruits['판매량']) / len(fruits)"
   ],
   "metadata": {
    "collapsed": false,
    "ExecuteTime": {
     "end_time": "2023-07-31T20:09:42.470327Z",
     "start_time": "2023-07-31T20:09:42.465110Z"
    }
   },
   "id": "9f0a4f7d2c5c129"
  },
  {
   "cell_type": "code",
   "execution_count": null,
   "outputs": [],
   "source": [],
   "metadata": {
    "collapsed": false
   },
   "id": "9d16b930d6fad254"
  }
 ],
 "metadata": {
  "kernelspec": {
   "display_name": "Python 3",
   "language": "python",
   "name": "python3"
  },
  "language_info": {
   "codemirror_mode": {
    "name": "ipython",
    "version": 2
   },
   "file_extension": ".py",
   "mimetype": "text/x-python",
   "name": "python",
   "nbconvert_exporter": "python",
   "pygments_lexer": "ipython2",
   "version": "2.7.6"
  }
 },
 "nbformat": 4,
 "nbformat_minor": 5
}
